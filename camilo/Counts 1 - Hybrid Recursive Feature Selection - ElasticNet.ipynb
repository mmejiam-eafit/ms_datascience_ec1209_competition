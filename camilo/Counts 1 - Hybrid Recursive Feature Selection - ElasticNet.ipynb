{
 "cells": [
  {
   "cell_type": "code",
   "execution_count": 1,
   "metadata": {},
   "outputs": [],
   "source": [
    "import pandas as pd\n",
    "import numpy as np\n",
    "\n",
    "import matplotlib.pyplot as plt\n",
    "import seaborn as sns\n",
    "%matplotlib inline\n",
    "\n",
    "from sklearn.model_selection import train_test_split\n",
    "\n",
    "import xgboost as xgb\n",
    "\n",
    "from sklearn.metrics import roc_auc_score, r2_score, mean_squared_error,classification_report"
   ]
  },
  {
   "cell_type": "code",
   "execution_count": 2,
   "metadata": {},
   "outputs": [],
   "source": [
    "from sklearn.preprocessing import MinMaxScaler, StandardScaler\n",
    "from sklearn.pipeline import make_pipeline\n",
    "from sklearn.impute import SimpleImputer\n",
    "from sklearn.model_selection import GridSearchCV\n",
    "from sklearn.linear_model import Lasso, LogisticRegression\n",
    "from sklearn.linear_model import BayesianRidge\n",
    "from sklearn.linear_model import ElasticNet"
   ]
  },
  {
   "cell_type": "code",
   "execution_count": 3,
   "metadata": {},
   "outputs": [],
   "source": [
    "train=pd.read_csv(\"./data/train/datacountstudents_train.csv\")\n",
    "train=train.drop(['id'], axis=1)\n",
    "#train.head()"
   ]
  },
  {
   "cell_type": "code",
   "execution_count": 4,
   "metadata": {},
   "outputs": [
    {
     "data": {
      "text/plain": [
       "((120, 32), (120,))"
      ]
     },
     "execution_count": 4,
     "metadata": {},
     "output_type": "execute_result"
    }
   ],
   "source": [
    "X_train=train.drop(['yC'], axis=1)\n",
    "Y_train=train['yC']\n",
    "X_train.shape, Y_train.shape"
   ]
  },
  {
   "cell_type": "code",
   "execution_count": 5,
   "metadata": {},
   "outputs": [],
   "source": [
    "test=pd.read_csv(\"./data/test/datacountstudents_test.csv\")\n",
    "test=test.drop(['id'], axis=1)\n",
    "#test.head()"
   ]
  },
  {
   "cell_type": "code",
   "execution_count": 6,
   "metadata": {},
   "outputs": [
    {
     "data": {
      "text/plain": [
       "((30, 32), (30,))"
      ]
     },
     "execution_count": 6,
     "metadata": {},
     "output_type": "execute_result"
    }
   ],
   "source": [
    "X_test=test.drop(['yC'], axis=1)\n",
    "Y_test=test['yC']\n",
    "X_test.shape, Y_test.shape"
   ]
  },
  {
   "cell_type": "markdown",
   "metadata": {},
   "source": [
    "#### Análisis variables numéricas vs target"
   ]
  },
  {
   "cell_type": "markdown",
   "metadata": {},
   "source": [
    "Resumen estadístico"
   ]
  },
  {
   "cell_type": "code",
   "execution_count": 7,
   "metadata": {},
   "outputs": [
    {
     "data": {
      "text/html": [
       "<div>\n",
       "<style scoped>\n",
       "    .dataframe tbody tr th:only-of-type {\n",
       "        vertical-align: middle;\n",
       "    }\n",
       "\n",
       "    .dataframe tbody tr th {\n",
       "        vertical-align: top;\n",
       "    }\n",
       "\n",
       "    .dataframe thead th {\n",
       "        text-align: right;\n",
       "    }\n",
       "</style>\n",
       "<table border=\"1\" class=\"dataframe\">\n",
       "  <thead>\n",
       "    <tr style=\"text-align: right;\">\n",
       "      <th></th>\n",
       "      <th>yC</th>\n",
       "      <th>x1</th>\n",
       "      <th>x2</th>\n",
       "      <th>x3</th>\n",
       "      <th>x4</th>\n",
       "      <th>x5</th>\n",
       "      <th>x6</th>\n",
       "      <th>x7</th>\n",
       "      <th>x8</th>\n",
       "      <th>x9</th>\n",
       "      <th>...</th>\n",
       "      <th>x23</th>\n",
       "      <th>x24</th>\n",
       "      <th>x25</th>\n",
       "      <th>x26</th>\n",
       "      <th>x27</th>\n",
       "      <th>x28</th>\n",
       "      <th>x29</th>\n",
       "      <th>x30</th>\n",
       "      <th>x31</th>\n",
       "      <th>x32</th>\n",
       "    </tr>\n",
       "  </thead>\n",
       "  <tbody>\n",
       "    <tr>\n",
       "      <th>count</th>\n",
       "      <td>120.000000</td>\n",
       "      <td>120.000000</td>\n",
       "      <td>120.000000</td>\n",
       "      <td>120.000000</td>\n",
       "      <td>120.000000</td>\n",
       "      <td>120.000000</td>\n",
       "      <td>120.000000</td>\n",
       "      <td>120.000000</td>\n",
       "      <td>120.000000</td>\n",
       "      <td>120.000000</td>\n",
       "      <td>...</td>\n",
       "      <td>120.000000</td>\n",
       "      <td>120.000000</td>\n",
       "      <td>120.000000</td>\n",
       "      <td>120.000000</td>\n",
       "      <td>120.000000</td>\n",
       "      <td>120.000000</td>\n",
       "      <td>120.000000</td>\n",
       "      <td>120.000000</td>\n",
       "      <td>120.000000</td>\n",
       "      <td>120.000000</td>\n",
       "    </tr>\n",
       "    <tr>\n",
       "      <th>mean</th>\n",
       "      <td>1.216667</td>\n",
       "      <td>64.530643</td>\n",
       "      <td>49.414167</td>\n",
       "      <td>0.308333</td>\n",
       "      <td>0.150000</td>\n",
       "      <td>0.033333</td>\n",
       "      <td>0.125000</td>\n",
       "      <td>0.083333</td>\n",
       "      <td>15.478996</td>\n",
       "      <td>28.133333</td>\n",
       "      <td>...</td>\n",
       "      <td>0.228209</td>\n",
       "      <td>0.027143</td>\n",
       "      <td>6.450000</td>\n",
       "      <td>5.558333</td>\n",
       "      <td>78.822689</td>\n",
       "      <td>0.141667</td>\n",
       "      <td>0.041667</td>\n",
       "      <td>3.866667</td>\n",
       "      <td>0.300111</td>\n",
       "      <td>0.515788</td>\n",
       "    </tr>\n",
       "    <tr>\n",
       "      <th>std</th>\n",
       "      <td>1.258139</td>\n",
       "      <td>10.093439</td>\n",
       "      <td>40.977939</td>\n",
       "      <td>0.463741</td>\n",
       "      <td>0.358569</td>\n",
       "      <td>0.180258</td>\n",
       "      <td>0.332106</td>\n",
       "      <td>0.277544</td>\n",
       "      <td>1.913951</td>\n",
       "      <td>15.052253</td>\n",
       "      <td>...</td>\n",
       "      <td>0.335089</td>\n",
       "      <td>0.112337</td>\n",
       "      <td>0.877832</td>\n",
       "      <td>0.985575</td>\n",
       "      <td>49.591147</td>\n",
       "      <td>0.350170</td>\n",
       "      <td>0.200664</td>\n",
       "      <td>2.145675</td>\n",
       "      <td>0.195522</td>\n",
       "      <td>0.297028</td>\n",
       "    </tr>\n",
       "    <tr>\n",
       "      <th>min</th>\n",
       "      <td>0.000000</td>\n",
       "      <td>34.217000</td>\n",
       "      <td>4.600000</td>\n",
       "      <td>0.000000</td>\n",
       "      <td>0.000000</td>\n",
       "      <td>0.000000</td>\n",
       "      <td>0.000000</td>\n",
       "      <td>0.000000</td>\n",
       "      <td>10.617270</td>\n",
       "      <td>0.000000</td>\n",
       "      <td>...</td>\n",
       "      <td>0.000000</td>\n",
       "      <td>0.000000</td>\n",
       "      <td>5.000000</td>\n",
       "      <td>3.000000</td>\n",
       "      <td>11.087400</td>\n",
       "      <td>0.000000</td>\n",
       "      <td>0.000000</td>\n",
       "      <td>1.000000</td>\n",
       "      <td>0.020398</td>\n",
       "      <td>0.040737</td>\n",
       "    </tr>\n",
       "    <tr>\n",
       "      <th>25%</th>\n",
       "      <td>0.000000</td>\n",
       "      <td>57.452500</td>\n",
       "      <td>14.300000</td>\n",
       "      <td>0.000000</td>\n",
       "      <td>0.000000</td>\n",
       "      <td>0.000000</td>\n",
       "      <td>0.000000</td>\n",
       "      <td>0.000000</td>\n",
       "      <td>14.586870</td>\n",
       "      <td>27.750000</td>\n",
       "      <td>...</td>\n",
       "      <td>0.001525</td>\n",
       "      <td>0.000000</td>\n",
       "      <td>6.000000</td>\n",
       "      <td>5.000000</td>\n",
       "      <td>43.637425</td>\n",
       "      <td>0.000000</td>\n",
       "      <td>0.000000</td>\n",
       "      <td>2.000000</td>\n",
       "      <td>0.107324</td>\n",
       "      <td>0.213143</td>\n",
       "    </tr>\n",
       "    <tr>\n",
       "      <th>50%</th>\n",
       "      <td>1.000000</td>\n",
       "      <td>67.946500</td>\n",
       "      <td>37.900000</td>\n",
       "      <td>0.000000</td>\n",
       "      <td>0.000000</td>\n",
       "      <td>0.000000</td>\n",
       "      <td>0.000000</td>\n",
       "      <td>0.000000</td>\n",
       "      <td>15.421435</td>\n",
       "      <td>31.000000</td>\n",
       "      <td>...</td>\n",
       "      <td>0.019950</td>\n",
       "      <td>0.000100</td>\n",
       "      <td>6.000000</td>\n",
       "      <td>6.000000</td>\n",
       "      <td>66.143600</td>\n",
       "      <td>0.000000</td>\n",
       "      <td>0.000000</td>\n",
       "      <td>4.000000</td>\n",
       "      <td>0.262157</td>\n",
       "      <td>0.495616</td>\n",
       "    </tr>\n",
       "    <tr>\n",
       "      <th>75%</th>\n",
       "      <td>2.000000</td>\n",
       "      <td>71.690097</td>\n",
       "      <td>77.500000</td>\n",
       "      <td>1.000000</td>\n",
       "      <td>0.000000</td>\n",
       "      <td>0.000000</td>\n",
       "      <td>0.000000</td>\n",
       "      <td>0.000000</td>\n",
       "      <td>16.542645</td>\n",
       "      <td>40.250000</td>\n",
       "      <td>...</td>\n",
       "      <td>0.407775</td>\n",
       "      <td>0.001225</td>\n",
       "      <td>7.000000</td>\n",
       "      <td>6.000000</td>\n",
       "      <td>104.938750</td>\n",
       "      <td>0.000000</td>\n",
       "      <td>0.000000</td>\n",
       "      <td>6.000000</td>\n",
       "      <td>0.494643</td>\n",
       "      <td>0.808403</td>\n",
       "    </tr>\n",
       "    <tr>\n",
       "      <th>max</th>\n",
       "      <td>7.000000</td>\n",
       "      <td>78.836829</td>\n",
       "      <td>159.400000</td>\n",
       "      <td>1.000000</td>\n",
       "      <td>1.000000</td>\n",
       "      <td>1.000000</td>\n",
       "      <td>1.000000</td>\n",
       "      <td>1.000000</td>\n",
       "      <td>20.850060</td>\n",
       "      <td>45.000000</td>\n",
       "      <td>...</td>\n",
       "      <td>0.985000</td>\n",
       "      <td>0.746200</td>\n",
       "      <td>9.000000</td>\n",
       "      <td>7.000000</td>\n",
       "      <td>344.830000</td>\n",
       "      <td>1.000000</td>\n",
       "      <td>1.000000</td>\n",
       "      <td>7.000000</td>\n",
       "      <td>0.662330</td>\n",
       "      <td>0.996328</td>\n",
       "    </tr>\n",
       "  </tbody>\n",
       "</table>\n",
       "<p>8 rows × 33 columns</p>\n",
       "</div>"
      ],
      "text/plain": [
       "               yC          x1          x2          x3          x4          x5  \\\n",
       "count  120.000000  120.000000  120.000000  120.000000  120.000000  120.000000   \n",
       "mean     1.216667   64.530643   49.414167    0.308333    0.150000    0.033333   \n",
       "std      1.258139   10.093439   40.977939    0.463741    0.358569    0.180258   \n",
       "min      0.000000   34.217000    4.600000    0.000000    0.000000    0.000000   \n",
       "25%      0.000000   57.452500   14.300000    0.000000    0.000000    0.000000   \n",
       "50%      1.000000   67.946500   37.900000    0.000000    0.000000    0.000000   \n",
       "75%      2.000000   71.690097   77.500000    1.000000    0.000000    0.000000   \n",
       "max      7.000000   78.836829  159.400000    1.000000    1.000000    1.000000   \n",
       "\n",
       "               x6          x7          x8          x9  ...         x23  \\\n",
       "count  120.000000  120.000000  120.000000  120.000000  ...  120.000000   \n",
       "mean     0.125000    0.083333   15.478996   28.133333  ...    0.228209   \n",
       "std      0.332106    0.277544    1.913951   15.052253  ...    0.335089   \n",
       "min      0.000000    0.000000   10.617270    0.000000  ...    0.000000   \n",
       "25%      0.000000    0.000000   14.586870   27.750000  ...    0.001525   \n",
       "50%      0.000000    0.000000   15.421435   31.000000  ...    0.019950   \n",
       "75%      0.000000    0.000000   16.542645   40.250000  ...    0.407775   \n",
       "max      1.000000    1.000000   20.850060   45.000000  ...    0.985000   \n",
       "\n",
       "              x24         x25         x26         x27         x28         x29  \\\n",
       "count  120.000000  120.000000  120.000000  120.000000  120.000000  120.000000   \n",
       "mean     0.027143    6.450000    5.558333   78.822689    0.141667    0.041667   \n",
       "std      0.112337    0.877832    0.985575   49.591147    0.350170    0.200664   \n",
       "min      0.000000    5.000000    3.000000   11.087400    0.000000    0.000000   \n",
       "25%      0.000000    6.000000    5.000000   43.637425    0.000000    0.000000   \n",
       "50%      0.000100    6.000000    6.000000   66.143600    0.000000    0.000000   \n",
       "75%      0.001225    7.000000    6.000000  104.938750    0.000000    0.000000   \n",
       "max      0.746200    9.000000    7.000000  344.830000    1.000000    1.000000   \n",
       "\n",
       "              x30         x31         x32  \n",
       "count  120.000000  120.000000  120.000000  \n",
       "mean     3.866667    0.300111    0.515788  \n",
       "std      2.145675    0.195522    0.297028  \n",
       "min      1.000000    0.020398    0.040737  \n",
       "25%      2.000000    0.107324    0.213143  \n",
       "50%      4.000000    0.262157    0.495616  \n",
       "75%      6.000000    0.494643    0.808403  \n",
       "max      7.000000    0.662330    0.996328  \n",
       "\n",
       "[8 rows x 33 columns]"
      ]
     },
     "execution_count": 7,
     "metadata": {},
     "output_type": "execute_result"
    }
   ],
   "source": [
    "train.describe()"
   ]
  },
  {
   "cell_type": "markdown",
   "metadata": {},
   "source": [
    "Correlación"
   ]
  },
  {
   "cell_type": "code",
   "execution_count": 8,
   "metadata": {},
   "outputs": [
    {
     "data": {
      "text/plain": [
       "<matplotlib.axes._subplots.AxesSubplot at 0x1dc487b4390>"
      ]
     },
     "execution_count": 8,
     "metadata": {},
     "output_type": "execute_result"
    },
    {
     "data": {
      "image/png": "[encoded data removed]",
      "text/plain": [
       "<Figure size 792x792 with 2 Axes>"
      ]
     },
     "metadata": {
      "needs_background": "light"
     },
     "output_type": "display_data"
    }
   ],
   "source": [
    "corrmat = train.corr()\n",
    "fig, ax = plt.subplots()\n",
    "fig.set_size_inches(11,11)\n",
    "sns.heatmap(corrmat)"
   ]
  },
  {
   "cell_type": "markdown",
   "metadata": {},
   "source": [
    "Estandarización de regresoras Train"
   ]
  },
  {
   "cell_type": "code",
   "execution_count": 9,
   "metadata": {},
   "outputs": [],
   "source": [
    "columns=X_train.columns.values.tolist()"
   ]
  },
  {
   "cell_type": "code",
   "execution_count": 10,
   "metadata": {},
   "outputs": [
    {
     "data": {
      "text/plain": [
       "StandardScaler(copy=True, with_mean=True, with_std=True)"
      ]
     },
     "execution_count": 10,
     "metadata": {},
     "output_type": "execute_result"
    }
   ],
   "source": [
    "scaler = StandardScaler()\n",
    "scaler.fit(X_train.fillna(0))"
   ]
  },
  {
   "cell_type": "code",
   "execution_count": 11,
   "metadata": {},
   "outputs": [],
   "source": [
    "X_train=scaler.transform(X_train.fillna(0))"
   ]
  },
  {
   "cell_type": "code",
   "execution_count": 12,
   "metadata": {},
   "outputs": [],
   "source": [
    "X_train=pd.DataFrame(X_train, columns=columns)"
   ]
  },
  {
   "cell_type": "markdown",
   "metadata": {},
   "source": [
    "Estandarización de regresoras Test"
   ]
  },
  {
   "cell_type": "code",
   "execution_count": 13,
   "metadata": {},
   "outputs": [],
   "source": [
    "columns1=X_test.columns.values.tolist()"
   ]
  },
  {
   "cell_type": "code",
   "execution_count": 14,
   "metadata": {},
   "outputs": [],
   "source": [
    "X_test=scaler.transform(X_test.fillna(0))"
   ]
  },
  {
   "cell_type": "code",
   "execution_count": 15,
   "metadata": {},
   "outputs": [],
   "source": [
    "X_test=pd.DataFrame(X_test, columns=columns1)"
   ]
  },
  {
   "cell_type": "code",
   "execution_count": 16,
   "metadata": {},
   "outputs": [
    {
     "name": "stdout",
     "output_type": "stream",
     "text": [
      "Test all features model R2 = -0.211009\n"
     ]
    }
   ],
   "source": [
    "# Modelo con todas las características para determinar importancia\n",
    "\n",
    "seed_val = 99\n",
    "np.random.seed(seed_val)\n",
    "\n",
    "model_all_features = LogisticRegression(C=1.0, l1_ratio=0.75, penalty='elasticnet', multi_class='multinomial', \n",
    "                                        solver='saga', max_iter=10000)\n",
    "\n",
    "model_all_features.fit(X_train, Y_train)\n",
    "\n",
    "y_pred_test = model_all_features.predict(X_test)\n",
    "r2_score_all = r2_score(Y_test, y_pred_test)\n",
    "print('Test all features model R2 = %f' % (r2_score_all))"
   ]
  },
  {
   "cell_type": "code",
   "execution_count": 17,
   "metadata": {},
   "outputs": [
    {
     "data": {
      "text/plain": [
       "<matplotlib.axes._subplots.AxesSubplot at 0x1dc4a9830b8>"
      ]
     },
     "execution_count": 17,
     "metadata": {},
     "output_type": "execute_result"
    },
    {
     "data": {
      "image/png": "[encoded data removed]",
      "text/plain": [
       "<Figure size 1440x432 with 1 Axes>"
      ]
     },
     "metadata": {
      "needs_background": "light"
     },
     "output_type": "display_data"
    }
   ],
   "source": [
    "features = pd.Series(abs(model_all_features.coef_[0,:])) # esto con valor absoluto?\n",
    "features.index = X_train.columns\n",
    "\n",
    "features.sort_values(ascending=False, inplace=True)\n",
    "\n",
    "features.plot.bar(figsize=(20,6))"
   ]
  },
  {
   "cell_type": "code",
   "execution_count": 18,
   "metadata": {},
   "outputs": [
    {
     "data": {
      "text/plain": [
       "['x25',\n",
       " 'x3',\n",
       " 'x18',\n",
       " 'x4',\n",
       " 'x27',\n",
       " 'x6',\n",
       " 'x22',\n",
       " 'x15',\n",
       " 'x7',\n",
       " 'x24',\n",
       " 'x14',\n",
       " 'x32',\n",
       " 'x2',\n",
       " 'x20',\n",
       " 'x17',\n",
       " 'x8',\n",
       " 'x9',\n",
       " 'x23',\n",
       " 'x28',\n",
       " 'x5',\n",
       " 'x29',\n",
       " 'x30',\n",
       " 'x19',\n",
       " 'x16',\n",
       " 'x10',\n",
       " 'x11',\n",
       " 'x12',\n",
       " 'x13',\n",
       " 'x31',\n",
       " 'x21',\n",
       " 'x26',\n",
       " 'x1']"
      ]
     },
     "execution_count": 18,
     "metadata": {},
     "output_type": "execute_result"
    }
   ],
   "source": [
    "features = list(features.index)\n",
    "features"
   ]
  },
  {
   "cell_type": "code",
   "execution_count": 19,
   "metadata": {},
   "outputs": [
    {
     "name": "stdout",
     "output_type": "stream",
     "text": [
      "Test one feature model R2=-0.183486\n"
     ]
    }
   ],
   "source": [
    "# Modelo con la característca más importante (desde la que se inicia la adición)\n",
    "\n",
    "seed_val = 99\n",
    "np.random.seed(seed_val)\n",
    "\n",
    "model_one_feature = LogisticRegression(C=1.0, l1_ratio=0.75, penalty='elasticnet', multi_class='multinomial', \n",
    "                                        solver='saga', max_iter=10000)\n",
    "\n",
    "model_one_feature.fit(X_train[features[0]].to_frame(), Y_train)\n",
    "\n",
    "y_pred_test = model_one_feature.predict(X_test[features[0]].to_frame())\n",
    "r2_score_first = r2_score(Y_test, y_pred_test)\n",
    "print('Test one feature model R2=%f' % (r2_score_first))"
   ]
  },
  {
   "cell_type": "code",
   "execution_count": 20,
   "metadata": {},
   "outputs": [
    {
     "name": "stdout",
     "output_type": "stream",
     "text": [
      "doing recursive feature addition\n",
      "\n",
      "testing feature:  x3  which is feature  1  out of  32\n",
      "New Test R2=-0.05963302752293598\n",
      "All features Test R2=-0.18348623853211032\n",
      "Increase in r2 = 0.12385321100917435\n",
      "keep:  x3\n",
      "\n",
      "testing feature:  x18  which is feature  2  out of  32\n",
      "New Test R2=-0.10091743119266061\n",
      "All features Test R2=-0.05963302752293598\n",
      "Increase in r2 = -0.041284403669724634\n",
      "remove:  x18\n",
      "\n",
      "testing feature:  x4  which is feature  3  out of  32\n",
      "New Test R2=-0.05963302752293598\n",
      "All features Test R2=-0.05963302752293598\n",
      "Increase in r2 = 0.0\n",
      "remove:  x4\n",
      "\n",
      "testing feature:  x27  which is feature  4  out of  32\n",
      "New Test R2=-0.01834862385321112\n",
      "All features Test R2=-0.05963302752293598\n",
      "Increase in r2 = 0.041284403669724856\n",
      "keep:  x27\n",
      "\n",
      "testing feature:  x6  which is feature  5  out of  32\n",
      "New Test R2=-0.01834862385321112\n",
      "All features Test R2=-0.01834862385321112\n",
      "Increase in r2 = 0.0\n",
      "remove:  x6\n",
      "\n",
      "testing feature:  x22  which is feature  6  out of  32\n",
      "New Test R2=-0.004587155963302836\n",
      "All features Test R2=-0.01834862385321112\n",
      "Increase in r2 = 0.013761467889908285\n",
      "keep:  x22\n",
      "\n",
      "testing feature:  x15  which is feature  7  out of  32\n",
      "New Test R2=0.009174311926605339\n",
      "All features Test R2=-0.004587155963302836\n",
      "Increase in r2 = 0.013761467889908174\n",
      "keep:  x15\n",
      "\n",
      "testing feature:  x7  which is feature  8  out of  32\n",
      "New Test R2=-0.03211009174311941\n",
      "All features Test R2=0.009174311926605339\n",
      "Increase in r2 = -0.041284403669724745\n",
      "remove:  x7\n",
      "\n",
      "testing feature:  x24  which is feature  9  out of  32\n",
      "New Test R2=0.09174311926605494\n",
      "All features Test R2=0.009174311926605339\n",
      "Increase in r2 = 0.0825688073394496\n",
      "keep:  x24\n",
      "\n",
      "testing feature:  x14  which is feature  10  out of  32\n",
      "New Test R2=-0.004587155963302836\n",
      "All features Test R2=0.09174311926605494\n",
      "Increase in r2 = -0.09633027522935778\n",
      "remove:  x14\n",
      "\n",
      "testing feature:  x32  which is feature  11  out of  32\n",
      "New Test R2=0.09174311926605494\n",
      "All features Test R2=0.09174311926605494\n",
      "Increase in r2 = 0.0\n",
      "remove:  x32\n",
      "\n",
      "testing feature:  x2  which is feature  12  out of  32\n",
      "New Test R2=-0.03211009174311941\n",
      "All features Test R2=0.09174311926605494\n",
      "Increase in r2 = -0.12385321100917435\n",
      "remove:  x2\n",
      "\n",
      "testing feature:  x20  which is feature  13  out of  32\n",
      "New Test R2=0.009174311926605339\n",
      "All features Test R2=0.09174311926605494\n",
      "Increase in r2 = -0.0825688073394496\n",
      "remove:  x20\n",
      "\n",
      "testing feature:  x17  which is feature  14  out of  32\n",
      "New Test R2=-0.03211009174311941\n",
      "All features Test R2=0.09174311926605494\n",
      "Increase in r2 = -0.12385321100917435\n",
      "remove:  x17\n",
      "\n",
      "testing feature:  x8  which is feature  15  out of  32\n",
      "New Test R2=0.050458715596330195\n",
      "All features Test R2=0.09174311926605494\n",
      "Increase in r2 = -0.041284403669724745\n",
      "remove:  x8\n",
      "\n",
      "testing feature:  x9  which is feature  16  out of  32\n",
      "New Test R2=-0.04587155963302769\n",
      "All features Test R2=0.09174311926605494\n",
      "Increase in r2 = -0.13761467889908263\n",
      "remove:  x9\n",
      "\n",
      "testing feature:  x23  which is feature  17  out of  32\n",
      "New Test R2=0.07798165137614665\n",
      "All features Test R2=0.09174311926605494\n",
      "Increase in r2 = -0.013761467889908285\n",
      "remove:  x23\n",
      "\n",
      "testing feature:  x28  which is feature  18  out of  32\n",
      "New Test R2=0.03669724770642191\n",
      "All features Test R2=0.09174311926605494\n",
      "Increase in r2 = -0.05504587155963303\n",
      "remove:  x28\n",
      "\n",
      "testing feature:  x5  which is feature  19  out of  32\n",
      "New Test R2=0.050458715596330195\n",
      "All features Test R2=0.09174311926605494\n",
      "Increase in r2 = -0.041284403669724745\n",
      "remove:  x5\n",
      "\n",
      "testing feature:  x29  which is feature  20  out of  32\n",
      "New Test R2=-0.004587155963302836\n",
      "All features Test R2=0.09174311926605494\n",
      "Increase in r2 = -0.09633027522935778\n",
      "remove:  x29\n",
      "\n",
      "testing feature:  x30  which is feature  21  out of  32\n",
      "New Test R2=0.16055045871559626\n",
      "All features Test R2=0.09174311926605494\n",
      "Increase in r2 = 0.06880733944954132\n",
      "keep:  x30\n",
      "\n",
      "testing feature:  x19  which is feature  22  out of  32\n",
      "New Test R2=-0.04587155963302769\n",
      "All features Test R2=0.16055045871559626\n",
      "Increase in r2 = -0.20642201834862395\n",
      "remove:  x19\n",
      "\n",
      "testing feature:  x16  which is feature  23  out of  32\n",
      "New Test R2=0.10550458715596323\n",
      "All features Test R2=0.16055045871559626\n",
      "Increase in r2 = -0.05504587155963303\n",
      "remove:  x16\n",
      "\n",
      "testing feature:  x10  which is feature  24  out of  32\n",
      "New Test R2=0.10550458715596323\n",
      "All features Test R2=0.16055045871559626\n",
      "Increase in r2 = -0.05504587155963303\n",
      "remove:  x10\n",
      "\n",
      "testing feature:  x11  which is feature  25  out of  32\n",
      "New Test R2=-0.12844036697247718\n",
      "All features Test R2=0.16055045871559626\n",
      "Increase in r2 = -0.28899082568807344\n",
      "remove:  x11\n",
      "\n",
      "testing feature:  x12  which is feature  26  out of  32\n",
      "New Test R2=0.13302752293577969\n",
      "All features Test R2=0.16055045871559626\n",
      "Increase in r2 = -0.02752293577981657\n",
      "remove:  x12\n",
      "\n",
      "testing feature:  x13  which is feature  27  out of  32\n",
      "New Test R2=0.06422018348623837\n",
      "All features Test R2=0.16055045871559626\n",
      "Increase in r2 = -0.09633027522935789\n",
      "remove:  x13\n",
      "\n",
      "testing feature:  x31  which is feature  28  out of  32\n",
      "New Test R2=0.13302752293577969\n",
      "All features Test R2=0.16055045871559626\n",
      "Increase in r2 = -0.02752293577981657\n",
      "remove:  x31\n",
      "\n",
      "testing feature:  x21  which is feature  29  out of  32\n",
      "New Test R2=0.09174311926605494\n",
      "All features Test R2=0.16055045871559626\n",
      "Increase in r2 = -0.06880733944954132\n",
      "remove:  x21\n",
      "\n",
      "testing feature:  x26  which is feature  30  out of  32\n",
      "New Test R2=-0.08715596330275233\n",
      "All features Test R2=0.16055045871559626\n",
      "Increase in r2 = -0.24770642201834858\n",
      "remove:  x26\n",
      "\n",
      "testing feature:  x1  which is feature  31  out of  32\n",
      "New Test R2=-0.04587155963302769\n",
      "All features Test R2=0.16055045871559626\n",
      "Increase in r2 = -0.20642201834862395\n",
      "remove:  x1\n",
      "\n",
      "DONE!!\n",
      "total features to keep:  7\n",
      "selected features:  ['x25', 'x3', 'x27', 'x22', 'x15', 'x24', 'x30']\n",
      "final test R2 score=0.16055045871559626\n"
     ]
    }
   ],
   "source": [
    "# Adición de características y evaluación de modelos, una a la vez (en orden de importancia)\n",
    "\n",
    "tol = 0.001\n",
    "\n",
    "print('doing recursive feature addition')\n",
    "\n",
    "features_to_keep = [features[0]]\n",
    "\n",
    "count = 1\n",
    "\n",
    "for feature in features[1:]:\n",
    "    print()\n",
    "    print('testing feature: ', feature, ' which is feature ', count,\n",
    "          ' out of ', len(features))\n",
    "    count = count + 1\n",
    "\n",
    "    model_int = LogisticRegression(C=1.0, l1_ratio=0.75, penalty='elasticnet', multi_class='multinomial', \n",
    "                                        solver='saga', max_iter=10000)\n",
    "\n",
    "    model_int.fit(\n",
    "        X_train[features_to_keep + [feature] ], Y_train)\n",
    "\n",
    "    y_pred_test = model_int.predict(\n",
    "        X_test[features_to_keep + [feature] ])\n",
    "\n",
    "    r2_score_int = r2_score(Y_test, y_pred_test)\n",
    "    print('New Test R2={}'.format((r2_score_int)))\n",
    "\n",
    "    print('All features Test R2={}'.format((r2_score_first)))\n",
    "\n",
    "    diff_r2 = r2_score_int - r2_score_first\n",
    "\n",
    "    if diff_r2 >= tol:\n",
    "        print('Increase in r2 = {}'.format(diff_r2))\n",
    "        print('keep: ', feature)\n",
    "        print\n",
    "\n",
    "        r2_score_first = r2_score_int\n",
    "\n",
    "        features_to_keep.append(feature)\n",
    "    else:\n",
    "        print('Increase in r2 = {}'.format(diff_r2))\n",
    "        print('remove: ', feature)\n",
    "        print\n",
    "\n",
    "print()\n",
    "print('DONE!!')\n",
    "print('total features to keep: ', len(features_to_keep))\n",
    "print('selected features: ', features_to_keep)\n",
    "print('final test R2 score={}'.format(r2_score_first))"
   ]
  },
  {
   "cell_type": "code",
   "execution_count": 21,
   "metadata": {},
   "outputs": [
    {
     "name": "stdout",
     "output_type": "stream",
     "text": [
      "Test selected features R2=0.160550\n",
      "Test selected features mse=2.033333\n"
     ]
    }
   ],
   "source": [
    "# Modelo con características seleccionadas\n",
    "\n",
    "seed_val = 99\n",
    "np.random.seed(seed_val)\n",
    "\n",
    "final_model = LogisticRegression(C=1.0, l1_ratio=0.75, penalty='elasticnet', multi_class='multinomial', \n",
    "                                        solver='saga', max_iter=10000)\n",
    "\n",
    "final_model.fit(X_train[features_to_keep], Y_train)\n",
    "\n",
    "y_pred_test = final_model.predict(X_test[features_to_keep])\n",
    "\n",
    "r2_score_final = r2_score(Y_test, y_pred_test)\n",
    "print('Test selected features R2=%f' % (r2_score_final))\n",
    "\n",
    "mse = mean_squared_error(Y_test, y_pred_test)\n",
    "print('Test selected features mse=%f' % (mse))"
   ]
  },
  {
   "cell_type": "code",
   "execution_count": 22,
   "metadata": {},
   "outputs": [
    {
     "name": "stdout",
     "output_type": "stream",
     "text": [
      "              precision    recall  f1-score   support\n",
      "\n",
      "           0       0.60      0.67      0.63         9\n",
      "           1       0.18      0.40      0.25         5\n",
      "           2       0.57      0.40      0.47        10\n",
      "           3       0.00      0.00      0.00         2\n",
      "           4       0.00      0.00      0.00         2\n",
      "           5       0.00      0.00      0.00         1\n",
      "           6       0.00      0.00      0.00         1\n",
      "\n",
      "    accuracy                           0.40        30\n",
      "   macro avg       0.19      0.21      0.19        30\n",
      "weighted avg       0.40      0.40      0.39        30\n",
      "\n"
     ]
    },
    {
     "name": "stderr",
     "output_type": "stream",
     "text": [
      "C:\\Users\\Juan Camilo Ceballos\\AppData\\Local\\Continuum\\anaconda3\\lib\\site-packages\\sklearn\\metrics\\classification.py:1437: UndefinedMetricWarning: Precision and F-score are ill-defined and being set to 0.0 in labels with no predicted samples.\n",
      "  'precision', 'predicted', average, warn_for)\n",
      "C:\\Users\\Juan Camilo Ceballos\\AppData\\Local\\Continuum\\anaconda3\\lib\\site-packages\\sklearn\\metrics\\classification.py:1437: UndefinedMetricWarning: Precision and F-score are ill-defined and being set to 0.0 in labels with no predicted samples.\n",
      "  'precision', 'predicted', average, warn_for)\n",
      "C:\\Users\\Juan Camilo Ceballos\\AppData\\Local\\Continuum\\anaconda3\\lib\\site-packages\\sklearn\\metrics\\classification.py:1437: UndefinedMetricWarning: Precision and F-score are ill-defined and being set to 0.0 in labels with no predicted samples.\n",
      "  'precision', 'predicted', average, warn_for)\n"
     ]
    }
   ],
   "source": [
    "print(classification_report(Y_test, y_pred_test))"
   ]
  },
  {
   "cell_type": "code",
   "execution_count": 23,
   "metadata": {},
   "outputs": [
    {
     "data": {
      "text/html": [
       "<div>\n",
       "<style scoped>\n",
       "    .dataframe tbody tr th:only-of-type {\n",
       "        vertical-align: middle;\n",
       "    }\n",
       "\n",
       "    .dataframe tbody tr th {\n",
       "        vertical-align: top;\n",
       "    }\n",
       "\n",
       "    .dataframe thead th {\n",
       "        text-align: right;\n",
       "    }\n",
       "</style>\n",
       "<table border=\"1\" class=\"dataframe\">\n",
       "  <thead>\n",
       "    <tr style=\"text-align: right;\">\n",
       "      <th>Predictions</th>\n",
       "      <th>0</th>\n",
       "      <th>1</th>\n",
       "      <th>2</th>\n",
       "      <th>3</th>\n",
       "    </tr>\n",
       "    <tr>\n",
       "      <th>Actual</th>\n",
       "      <th></th>\n",
       "      <th></th>\n",
       "      <th></th>\n",
       "      <th></th>\n",
       "    </tr>\n",
       "  </thead>\n",
       "  <tbody>\n",
       "    <tr>\n",
       "      <th>0</th>\n",
       "      <td>6</td>\n",
       "      <td>3</td>\n",
       "      <td>0</td>\n",
       "      <td>0</td>\n",
       "    </tr>\n",
       "    <tr>\n",
       "      <th>1</th>\n",
       "      <td>2</td>\n",
       "      <td>2</td>\n",
       "      <td>1</td>\n",
       "      <td>0</td>\n",
       "    </tr>\n",
       "    <tr>\n",
       "      <th>2</th>\n",
       "      <td>1</td>\n",
       "      <td>4</td>\n",
       "      <td>4</td>\n",
       "      <td>1</td>\n",
       "    </tr>\n",
       "    <tr>\n",
       "      <th>3</th>\n",
       "      <td>1</td>\n",
       "      <td>1</td>\n",
       "      <td>0</td>\n",
       "      <td>0</td>\n",
       "    </tr>\n",
       "    <tr>\n",
       "      <th>4</th>\n",
       "      <td>0</td>\n",
       "      <td>0</td>\n",
       "      <td>2</td>\n",
       "      <td>0</td>\n",
       "    </tr>\n",
       "    <tr>\n",
       "      <th>5</th>\n",
       "      <td>0</td>\n",
       "      <td>1</td>\n",
       "      <td>0</td>\n",
       "      <td>0</td>\n",
       "    </tr>\n",
       "    <tr>\n",
       "      <th>6</th>\n",
       "      <td>0</td>\n",
       "      <td>0</td>\n",
       "      <td>0</td>\n",
       "      <td>1</td>\n",
       "    </tr>\n",
       "  </tbody>\n",
       "</table>\n",
       "</div>"
      ],
      "text/plain": [
       "Predictions  0  1  2  3\n",
       "Actual                 \n",
       "0            6  3  0  0\n",
       "1            2  2  1  0\n",
       "2            1  4  4  1\n",
       "3            1  1  0  0\n",
       "4            0  0  2  0\n",
       "5            0  1  0  0\n",
       "6            0  0  0  1"
      ]
     },
     "execution_count": 23,
     "metadata": {},
     "output_type": "execute_result"
    }
   ],
   "source": [
    "pd.crosstab(Y_test,y_pred_test,rownames=[\"Actual\"],colnames=[\"Predictions\"])"
   ]
  },
  {
   "cell_type": "code",
   "execution_count": null,
   "metadata": {},
   "outputs": [],
   "source": []
  }
 ],
 "metadata": {
  "kernelspec": {
   "display_name": "Python 3",
   "language": "python",
   "name": "python3"
  },
  "language_info": {
   "codemirror_mode": {
    "name": "ipython",
    "version": 3
   },
   "file_extension": ".py",
   "mimetype": "text/x-python",
   "name": "python",
   "nbconvert_exporter": "python",
   "pygments_lexer": "ipython3",
   "version": "3.7.1"
  }
 },
 "nbformat": 4,
 "nbformat_minor": 2
}
