{
 "cells": [
  {
   "cell_type": "code",
   "execution_count": 1,
   "metadata": {},
   "outputs": [],
   "source": [
    "import pandas as pd\n",
    "import numpy as np\n",
    "import matplotlib.pyplot as plt\n",
    "import seaborn as sns\n",
    "from sklearn.preprocessing import MinMaxScaler\n",
    "from sklearn.ensemble import RandomForestClassifier\n",
    "from sklearn.feature_selection import SelectFromModel\n",
    "from sklearn.linear_model import LogisticRegression, Lasso\n",
    "from sklearn import linear_model\n",
    "from sklearn.metrics import roc_auc_score\n",
    "from sklearn.model_selection import cross_validate\n",
    "from sklearn.model_selection import KFold\n",
    "from sklearn.model_selection import cross_val_score\n",
    "from sklearn.metrics import confusion_matrix\n",
    "from sklearn import model_selection\n",
    "from sklearn.metrics import classification_report\n",
    "from sklearn.metrics import confusion_matrix\n",
    "from sklearn.metrics import accuracy_score\n",
    "from sklearn.metrics import roc_curve"
   ]
  },
  {
   "cell_type": "code",
   "execution_count": 2,
   "metadata": {},
   "outputs": [],
   "source": [
    "train=pd.read_csv(\"./data/train/databinarystudents_train.csv\")\n",
    "#train.head()"
   ]
  },
  {
   "cell_type": "code",
   "execution_count": 3,
   "metadata": {},
   "outputs": [],
   "source": [
    "test=pd.read_csv(\"./data/test/databinarystudents_test.csv\")\n",
    "#test.head()"
   ]
  },
  {
   "cell_type": "code",
   "execution_count": 4,
   "metadata": {},
   "outputs": [
    {
     "data": {
      "text/plain": [
       "((120, 32), (120,))"
      ]
     },
     "execution_count": 4,
     "metadata": {},
     "output_type": "execute_result"
    }
   ],
   "source": [
    "X_train=train.drop(['id','yL'], axis=1)\n",
    "Y_train=train['yL']\n",
    "X_train.shape, Y_train.shape"
   ]
  },
  {
   "cell_type": "markdown",
   "metadata": {},
   "source": [
    "#### Análisis variables numéricas vs target"
   ]
  },
  {
   "cell_type": "code",
   "execution_count": 37,
   "metadata": {},
   "outputs": [
    {
     "data": {
      "text/html": [
       "<div>\n",
       "<style scoped>\n",
       "    .dataframe tbody tr th:only-of-type {\n",
       "        vertical-align: middle;\n",
       "    }\n",
       "\n",
       "    .dataframe tbody tr th {\n",
       "        vertical-align: top;\n",
       "    }\n",
       "\n",
       "    .dataframe thead th {\n",
       "        text-align: right;\n",
       "    }\n",
       "</style>\n",
       "<table border=\"1\" class=\"dataframe\">\n",
       "  <thead>\n",
       "    <tr style=\"text-align: right;\">\n",
       "      <th></th>\n",
       "      <th>yL</th>\n",
       "      <th>x1</th>\n",
       "      <th>x2</th>\n",
       "      <th>x8</th>\n",
       "      <th>x9</th>\n",
       "      <th>x10</th>\n",
       "      <th>x11</th>\n",
       "      <th>x12</th>\n",
       "      <th>x21</th>\n",
       "      <th>x22</th>\n",
       "      <th>x23</th>\n",
       "      <th>x24</th>\n",
       "      <th>x25</th>\n",
       "      <th>x26</th>\n",
       "      <th>x27</th>\n",
       "      <th>x30</th>\n",
       "      <th>x31</th>\n",
       "      <th>x32</th>\n",
       "    </tr>\n",
       "  </thead>\n",
       "  <tbody>\n",
       "    <tr>\n",
       "      <th>count</th>\n",
       "      <td>120.000000</td>\n",
       "      <td>120.000000</td>\n",
       "      <td>120.000000</td>\n",
       "      <td>120.000000</td>\n",
       "      <td>120.000000</td>\n",
       "      <td>120.000000</td>\n",
       "      <td>120.000000</td>\n",
       "      <td>120.000000</td>\n",
       "      <td>120.000000</td>\n",
       "      <td>120.000000</td>\n",
       "      <td>120.000000</td>\n",
       "      <td>120.000000</td>\n",
       "      <td>120.000000</td>\n",
       "      <td>120.000000</td>\n",
       "      <td>120.000000</td>\n",
       "      <td>120.000000</td>\n",
       "      <td>120.000000</td>\n",
       "      <td>120.000000</td>\n",
       "    </tr>\n",
       "    <tr>\n",
       "      <th>mean</th>\n",
       "      <td>0.666667</td>\n",
       "      <td>63.887836</td>\n",
       "      <td>51.545833</td>\n",
       "      <td>15.383806</td>\n",
       "      <td>26.425000</td>\n",
       "      <td>138.278885</td>\n",
       "      <td>7.732458</td>\n",
       "      <td>8.286511</td>\n",
       "      <td>0.537036</td>\n",
       "      <td>0.007621</td>\n",
       "      <td>0.254489</td>\n",
       "      <td>0.037739</td>\n",
       "      <td>6.325000</td>\n",
       "      <td>5.608333</td>\n",
       "      <td>79.625782</td>\n",
       "      <td>4.108333</td>\n",
       "      <td>0.296166</td>\n",
       "      <td>0.509870</td>\n",
       "    </tr>\n",
       "    <tr>\n",
       "      <th>std</th>\n",
       "      <td>0.473381</td>\n",
       "      <td>10.216179</td>\n",
       "      <td>41.591189</td>\n",
       "      <td>1.952842</td>\n",
       "      <td>15.826614</td>\n",
       "      <td>433.980756</td>\n",
       "      <td>1.491594</td>\n",
       "      <td>11.817485</td>\n",
       "      <td>0.378586</td>\n",
       "      <td>0.072091</td>\n",
       "      <td>0.352119</td>\n",
       "      <td>0.148418</td>\n",
       "      <td>0.918187</td>\n",
       "      <td>0.972702</td>\n",
       "      <td>50.109709</td>\n",
       "      <td>2.152957</td>\n",
       "      <td>0.199186</td>\n",
       "      <td>0.306627</td>\n",
       "    </tr>\n",
       "    <tr>\n",
       "      <th>min</th>\n",
       "      <td>0.000000</td>\n",
       "      <td>34.217000</td>\n",
       "      <td>4.600000</td>\n",
       "      <td>11.107900</td>\n",
       "      <td>0.000000</td>\n",
       "      <td>1.405897</td>\n",
       "      <td>4.948077</td>\n",
       "      <td>0.000000</td>\n",
       "      <td>0.000400</td>\n",
       "      <td>0.000000</td>\n",
       "      <td>0.000000</td>\n",
       "      <td>0.000000</td>\n",
       "      <td>4.000000</td>\n",
       "      <td>3.000000</td>\n",
       "      <td>11.087400</td>\n",
       "      <td>1.000000</td>\n",
       "      <td>0.011540</td>\n",
       "      <td>0.023037</td>\n",
       "    </tr>\n",
       "    <tr>\n",
       "      <th>25%</th>\n",
       "      <td>0.000000</td>\n",
       "      <td>56.677750</td>\n",
       "      <td>16.075000</td>\n",
       "      <td>14.282493</td>\n",
       "      <td>22.750000</td>\n",
       "      <td>11.917608</td>\n",
       "      <td>6.455423</td>\n",
       "      <td>0.388007</td>\n",
       "      <td>0.100775</td>\n",
       "      <td>0.000000</td>\n",
       "      <td>0.002000</td>\n",
       "      <td>0.000000</td>\n",
       "      <td>6.000000</td>\n",
       "      <td>5.000000</td>\n",
       "      <td>44.144175</td>\n",
       "      <td>2.000000</td>\n",
       "      <td>0.098875</td>\n",
       "      <td>0.190509</td>\n",
       "    </tr>\n",
       "    <tr>\n",
       "      <th>50%</th>\n",
       "      <td>1.000000</td>\n",
       "      <td>67.518000</td>\n",
       "      <td>40.650000</td>\n",
       "      <td>15.382245</td>\n",
       "      <td>31.000000</td>\n",
       "      <td>49.159113</td>\n",
       "      <td>7.689520</td>\n",
       "      <td>3.112505</td>\n",
       "      <td>0.626050</td>\n",
       "      <td>0.000000</td>\n",
       "      <td>0.033750</td>\n",
       "      <td>0.000100</td>\n",
       "      <td>6.000000</td>\n",
       "      <td>6.000000</td>\n",
       "      <td>70.322450</td>\n",
       "      <td>4.000000</td>\n",
       "      <td>0.263287</td>\n",
       "      <td>0.493752</td>\n",
       "    </tr>\n",
       "    <tr>\n",
       "      <th>75%</th>\n",
       "      <td>1.000000</td>\n",
       "      <td>71.182049</td>\n",
       "      <td>82.975000</td>\n",
       "      <td>16.608645</td>\n",
       "      <td>37.250000</td>\n",
       "      <td>120.188970</td>\n",
       "      <td>8.815190</td>\n",
       "      <td>10.981525</td>\n",
       "      <td>0.904800</td>\n",
       "      <td>0.000500</td>\n",
       "      <td>0.455000</td>\n",
       "      <td>0.001525</td>\n",
       "      <td>7.000000</td>\n",
       "      <td>6.000000</td>\n",
       "      <td>105.504000</td>\n",
       "      <td>6.000000</td>\n",
       "      <td>0.494643</td>\n",
       "      <td>0.816140</td>\n",
       "    </tr>\n",
       "    <tr>\n",
       "      <th>max</th>\n",
       "      <td>1.000000</td>\n",
       "      <td>78.836829</td>\n",
       "      <td>173.700000</td>\n",
       "      <td>20.850060</td>\n",
       "      <td>45.000000</td>\n",
       "      <td>4547.958200</td>\n",
       "      <td>10.806890</td>\n",
       "      <td>47.476500</td>\n",
       "      <td>0.989700</td>\n",
       "      <td>0.790100</td>\n",
       "      <td>0.994200</td>\n",
       "      <td>0.846600</td>\n",
       "      <td>8.000000</td>\n",
       "      <td>7.000000</td>\n",
       "      <td>344.830000</td>\n",
       "      <td>7.000000</td>\n",
       "      <td>0.662330</td>\n",
       "      <td>0.996328</td>\n",
       "    </tr>\n",
       "  </tbody>\n",
       "</table>\n",
       "</div>"
      ],
      "text/plain": [
       "               yL          x1          x2          x8          x9  \\\n",
       "count  120.000000  120.000000  120.000000  120.000000  120.000000   \n",
       "mean     0.666667   63.887836   51.545833   15.383806   26.425000   \n",
       "std      0.473381   10.216179   41.591189    1.952842   15.826614   \n",
       "min      0.000000   34.217000    4.600000   11.107900    0.000000   \n",
       "25%      0.000000   56.677750   16.075000   14.282493   22.750000   \n",
       "50%      1.000000   67.518000   40.650000   15.382245   31.000000   \n",
       "75%      1.000000   71.182049   82.975000   16.608645   37.250000   \n",
       "max      1.000000   78.836829  173.700000   20.850060   45.000000   \n",
       "\n",
       "               x10         x11         x12         x21         x22  \\\n",
       "count   120.000000  120.000000  120.000000  120.000000  120.000000   \n",
       "mean    138.278885    7.732458    8.286511    0.537036    0.007621   \n",
       "std     433.980756    1.491594   11.817485    0.378586    0.072091   \n",
       "min       1.405897    4.948077    0.000000    0.000400    0.000000   \n",
       "25%      11.917608    6.455423    0.388007    0.100775    0.000000   \n",
       "50%      49.159113    7.689520    3.112505    0.626050    0.000000   \n",
       "75%     120.188970    8.815190   10.981525    0.904800    0.000500   \n",
       "max    4547.958200   10.806890   47.476500    0.989700    0.790100   \n",
       "\n",
       "              x23         x24         x25         x26         x27         x30  \\\n",
       "count  120.000000  120.000000  120.000000  120.000000  120.000000  120.000000   \n",
       "mean     0.254489    0.037739    6.325000    5.608333   79.625782    4.108333   \n",
       "std      0.352119    0.148418    0.918187    0.972702   50.109709    2.152957   \n",
       "min      0.000000    0.000000    4.000000    3.000000   11.087400    1.000000   \n",
       "25%      0.002000    0.000000    6.000000    5.000000   44.144175    2.000000   \n",
       "50%      0.033750    0.000100    6.000000    6.000000   70.322450    4.000000   \n",
       "75%      0.455000    0.001525    7.000000    6.000000  105.504000    6.000000   \n",
       "max      0.994200    0.846600    8.000000    7.000000  344.830000    7.000000   \n",
       "\n",
       "              x31         x32  \n",
       "count  120.000000  120.000000  \n",
       "mean     0.296166    0.509870  \n",
       "std      0.199186    0.306627  \n",
       "min      0.011540    0.023037  \n",
       "25%      0.098875    0.190509  \n",
       "50%      0.263287    0.493752  \n",
       "75%      0.494643    0.816140  \n",
       "max      0.662330    0.996328  "
      ]
     },
     "execution_count": 37,
     "metadata": {},
     "output_type": "execute_result"
    }
   ],
   "source": [
    "numer=train.drop(['id','x3','x4','x5','x6','x7','x13','x14','x15','x16',\n",
    "                  'x17','x18','x19','x20','x28','x29'], axis=1) #no tuve en cuenta conteos X25, X26 ni X30\n",
    "numer.describe()"
   ]
  },
  {
   "cell_type": "code",
   "execution_count": 6,
   "metadata": {},
   "outputs": [],
   "source": [
    "# Dataframe con variables numéricas normalizadas\n",
    "# Normalización = ( x – min(x) ) / ( max(x) – min(x) )\n",
    "col_names = numer.columns.values.tolist()\n",
    "scaler = MinMaxScaler()\n",
    "numern = scaler.fit_transform(numer)\n",
    "numern = pd.DataFrame(numern, columns=col_names)"
   ]
  },
  {
   "cell_type": "code",
   "execution_count": 7,
   "metadata": {},
   "outputs": [],
   "source": [
    "X_train=numern.drop(['yL'], axis=1)\n",
    "Y_train=numern['yL']"
   ]
  },
  {
   "cell_type": "code",
   "execution_count": 8,
   "metadata": {},
   "outputs": [
    {
     "data": {
      "text/plain": [
       "<matplotlib.axes._subplots.AxesSubplot at 0x1af9cd2b0f0>"
      ]
     },
     "execution_count": 8,
     "metadata": {},
     "output_type": "execute_result"
    },
    {
     "data": {
      "image/png": "[encoded data removed]",
      "text/plain": [
       "<Figure size 792x792 with 2 Axes>"
      ]
     },
     "metadata": {
      "needs_background": "light"
     },
     "output_type": "display_data"
    }
   ],
   "source": [
    "# visualise correlated features\n",
    "# I will build the correlation matrix, which examines the \n",
    "# correlation of all features (for all possible feature combinations)\n",
    "# and then visualise the correlation matrix using seaborn\n",
    "\n",
    "corrmat = X_train.corr()\n",
    "fig, ax = plt.subplots()\n",
    "fig.set_size_inches(11,11)\n",
    "sns.heatmap(corrmat)"
   ]
  },
  {
   "cell_type": "code",
   "execution_count": 9,
   "metadata": {},
   "outputs": [
    {
     "data": {
      "text/html": [
       "<div>\n",
       "<style scoped>\n",
       "    .dataframe tbody tr th:only-of-type {\n",
       "        vertical-align: middle;\n",
       "    }\n",
       "\n",
       "    .dataframe tbody tr th {\n",
       "        vertical-align: top;\n",
       "    }\n",
       "\n",
       "    .dataframe thead th {\n",
       "        text-align: right;\n",
       "    }\n",
       "</style>\n",
       "<table border=\"1\" class=\"dataframe\">\n",
       "  <thead>\n",
       "    <tr style=\"text-align: right;\">\n",
       "      <th></th>\n",
       "      <th>feature1</th>\n",
       "      <th>feature2</th>\n",
       "      <th>corr</th>\n",
       "    </tr>\n",
       "  </thead>\n",
       "  <tbody>\n",
       "    <tr>\n",
       "      <th>0</th>\n",
       "      <td>x32</td>\n",
       "      <td>x31</td>\n",
       "      <td>0.971781</td>\n",
       "    </tr>\n",
       "    <tr>\n",
       "      <th>1</th>\n",
       "      <td>x31</td>\n",
       "      <td>x32</td>\n",
       "      <td>0.971781</td>\n",
       "    </tr>\n",
       "    <tr>\n",
       "      <th>2</th>\n",
       "      <td>x1</td>\n",
       "      <td>x2</td>\n",
       "      <td>0.938052</td>\n",
       "    </tr>\n",
       "    <tr>\n",
       "      <th>3</th>\n",
       "      <td>x2</td>\n",
       "      <td>x1</td>\n",
       "      <td>0.938052</td>\n",
       "    </tr>\n",
       "    <tr>\n",
       "      <th>4</th>\n",
       "      <td>x1</td>\n",
       "      <td>x11</td>\n",
       "      <td>0.822762</td>\n",
       "    </tr>\n",
       "  </tbody>\n",
       "</table>\n",
       "</div>"
      ],
      "text/plain": [
       "  feature1 feature2      corr\n",
       "0      x32      x31  0.971781\n",
       "1      x31      x32  0.971781\n",
       "2       x1       x2  0.938052\n",
       "3       x2       x1  0.938052\n",
       "4       x1      x11  0.822762"
      ]
     },
     "execution_count": 9,
     "metadata": {},
     "output_type": "execute_result"
    }
   ],
   "source": [
    "# build a dataframe with the correlation between features\n",
    "# remember that the absolute value of the correlation\n",
    "# coefficient is important and not the sign\n",
    "\n",
    "corrmat = X_train.corr()\n",
    "corrmat = corrmat.abs().unstack() # absolute value of corr coef\n",
    "corrmat = corrmat.sort_values(ascending=False)\n",
    "corrmat = corrmat[corrmat >= 0.8]\n",
    "corrmat = corrmat[corrmat < 1]\n",
    "corrmat = pd.DataFrame(corrmat).reset_index()\n",
    "corrmat.columns = ['feature1', 'feature2', 'corr']\n",
    "corrmat.head()"
   ]
  },
  {
   "cell_type": "code",
   "execution_count": 10,
   "metadata": {},
   "outputs": [
    {
     "name": "stdout",
     "output_type": "stream",
     "text": [
      "found 2 correlated groups\n",
      "out of 17 total features\n"
     ]
    }
   ],
   "source": [
    "# find groups of correlated features\n",
    "\n",
    "grouped_feature_ls = []\n",
    "correlated_groups = []\n",
    "\n",
    "for feature in corrmat.feature1.unique():\n",
    "    if feature not in grouped_feature_ls:\n",
    "\n",
    "        # find all features correlated to a single feature\n",
    "        correlated_block = corrmat[corrmat.feature1 == feature]\n",
    "        grouped_feature_ls = grouped_feature_ls + list(\n",
    "            correlated_block.feature2.unique()) + [feature]\n",
    "\n",
    "        # append the block of features to the list\n",
    "        correlated_groups.append(correlated_block)\n",
    "\n",
    "print('found {} correlated groups'.format(len(correlated_groups)))\n",
    "print('out of {} total features'.format(X_train.shape[1]))"
   ]
  },
  {
   "cell_type": "code",
   "execution_count": 11,
   "metadata": {},
   "outputs": [
    {
     "name": "stdout",
     "output_type": "stream",
     "text": [
      "  feature1 feature2      corr\n",
      "0      x32      x31  0.971781\n",
      "\n",
      "  feature1 feature2      corr\n",
      "2       x1       x2  0.938052\n",
      "4       x1      x11  0.822762\n",
      "\n"
     ]
    }
   ],
   "source": [
    "# now we can visualise each group. We see that some groups contain\n",
    "# only 2 correlated features, some other groups present several features \n",
    "# that are correlated among themselves.\n",
    "\n",
    "for group in correlated_groups:\n",
    "    print(group)\n",
    "    print()"
   ]
  },
  {
   "cell_type": "code",
   "execution_count": 12,
   "metadata": {},
   "outputs": [
    {
     "data": {
      "text/html": [
       "<div>\n",
       "<style scoped>\n",
       "    .dataframe tbody tr th:only-of-type {\n",
       "        vertical-align: middle;\n",
       "    }\n",
       "\n",
       "    .dataframe tbody tr th {\n",
       "        vertical-align: top;\n",
       "    }\n",
       "\n",
       "    .dataframe thead th {\n",
       "        text-align: right;\n",
       "    }\n",
       "</style>\n",
       "<table border=\"1\" class=\"dataframe\">\n",
       "  <thead>\n",
       "    <tr style=\"text-align: right;\">\n",
       "      <th></th>\n",
       "      <th>feature1</th>\n",
       "      <th>feature2</th>\n",
       "      <th>corr</th>\n",
       "    </tr>\n",
       "  </thead>\n",
       "  <tbody>\n",
       "    <tr>\n",
       "      <th>0</th>\n",
       "      <td>x32</td>\n",
       "      <td>x31</td>\n",
       "      <td>0.971781</td>\n",
       "    </tr>\n",
       "  </tbody>\n",
       "</table>\n",
       "</div>"
      ],
      "text/plain": [
       "  feature1 feature2      corr\n",
       "0      x32      x31  0.971781"
      ]
     },
     "execution_count": 12,
     "metadata": {},
     "output_type": "execute_result"
    }
   ],
   "source": [
    "# we can now investigate further features within one group.\n",
    "# let's for example select group 1\n",
    "\n",
    "group1 = correlated_groups[0]\n",
    "group1"
   ]
  },
  {
   "cell_type": "code",
   "execution_count": 13,
   "metadata": {},
   "outputs": [
    {
     "name": "stdout",
     "output_type": "stream",
     "text": [
      "0\n",
      "0\n"
     ]
    }
   ],
   "source": [
    "# we could select the features with less missing data\n",
    "# like this:\n",
    "\n",
    "for feature in list(group1.feature2.unique())+['x32']:\n",
    "    print(X_train[feature].isnull().sum())"
   ]
  },
  {
   "cell_type": "code",
   "execution_count": 14,
   "metadata": {},
   "outputs": [
    {
     "data": {
      "text/plain": [
       "RandomForestClassifier(bootstrap=True, class_weight=None, criterion='gini',\n",
       "                       max_depth=4, max_features='auto', max_leaf_nodes=None,\n",
       "                       min_impurity_decrease=0.0, min_impurity_split=None,\n",
       "                       min_samples_leaf=1, min_samples_split=2,\n",
       "                       min_weight_fraction_leaf=0.0, n_estimators=200,\n",
       "                       n_jobs=None, oob_score=False, random_state=39, verbose=0,\n",
       "                       warm_start=False)"
      ]
     },
     "execution_count": 14,
     "metadata": {},
     "output_type": "execute_result"
    }
   ],
   "source": [
    "features = list(group1.feature2.unique())+['x32']\n",
    "rf = RandomForestClassifier(n_estimators=200, random_state=39, max_depth=4)\n",
    "rf.fit(X_train[features].fillna(0), Y_train)"
   ]
  },
  {
   "cell_type": "code",
   "execution_count": 15,
   "metadata": {},
   "outputs": [
    {
     "data": {
      "text/html": [
       "<div>\n",
       "<style scoped>\n",
       "    .dataframe tbody tr th:only-of-type {\n",
       "        vertical-align: middle;\n",
       "    }\n",
       "\n",
       "    .dataframe tbody tr th {\n",
       "        vertical-align: top;\n",
       "    }\n",
       "\n",
       "    .dataframe thead th {\n",
       "        text-align: right;\n",
       "    }\n",
       "</style>\n",
       "<table border=\"1\" class=\"dataframe\">\n",
       "  <thead>\n",
       "    <tr style=\"text-align: right;\">\n",
       "      <th></th>\n",
       "      <th>feature</th>\n",
       "      <th>importance</th>\n",
       "    </tr>\n",
       "  </thead>\n",
       "  <tbody>\n",
       "    <tr>\n",
       "      <th>0</th>\n",
       "      <td>x31</td>\n",
       "      <td>0.529727</td>\n",
       "    </tr>\n",
       "    <tr>\n",
       "      <th>1</th>\n",
       "      <td>x32</td>\n",
       "      <td>0.470273</td>\n",
       "    </tr>\n",
       "  </tbody>\n",
       "</table>\n",
       "</div>"
      ],
      "text/plain": [
       "  feature  importance\n",
       "0     x31    0.529727\n",
       "1     x32    0.470273"
      ]
     },
     "execution_count": 15,
     "metadata": {},
     "output_type": "execute_result"
    }
   ],
   "source": [
    "# we get the feature importance attributed by the \n",
    "# random forest model (more on this in coming lectures)\n",
    "\n",
    "importance = pd.concat(\n",
    "    [pd.Series(features),\n",
    "     pd.Series(rf.feature_importances_)], axis=1)\n",
    "\n",
    "importance.columns = ['feature', 'importance']\n",
    "importance.sort_values(by='importance', ascending=False)"
   ]
  },
  {
   "cell_type": "code",
   "execution_count": 16,
   "metadata": {},
   "outputs": [
    {
     "data": {
      "text/html": [
       "<div>\n",
       "<style scoped>\n",
       "    .dataframe tbody tr th:only-of-type {\n",
       "        vertical-align: middle;\n",
       "    }\n",
       "\n",
       "    .dataframe tbody tr th {\n",
       "        vertical-align: top;\n",
       "    }\n",
       "\n",
       "    .dataframe thead th {\n",
       "        text-align: right;\n",
       "    }\n",
       "</style>\n",
       "<table border=\"1\" class=\"dataframe\">\n",
       "  <thead>\n",
       "    <tr style=\"text-align: right;\">\n",
       "      <th></th>\n",
       "      <th>feature1</th>\n",
       "      <th>feature2</th>\n",
       "      <th>corr</th>\n",
       "    </tr>\n",
       "  </thead>\n",
       "  <tbody>\n",
       "    <tr>\n",
       "      <th>2</th>\n",
       "      <td>x1</td>\n",
       "      <td>x2</td>\n",
       "      <td>0.938052</td>\n",
       "    </tr>\n",
       "    <tr>\n",
       "      <th>4</th>\n",
       "      <td>x1</td>\n",
       "      <td>x11</td>\n",
       "      <td>0.822762</td>\n",
       "    </tr>\n",
       "  </tbody>\n",
       "</table>\n",
       "</div>"
      ],
      "text/plain": [
       "  feature1 feature2      corr\n",
       "2       x1       x2  0.938052\n",
       "4       x1      x11  0.822762"
      ]
     },
     "execution_count": 16,
     "metadata": {},
     "output_type": "execute_result"
    }
   ],
   "source": [
    "# we can now investigate further features within one group.\n",
    "# let's for example select group 2\n",
    "\n",
    "group2 = correlated_groups[1]\n",
    "group2"
   ]
  },
  {
   "cell_type": "code",
   "execution_count": 17,
   "metadata": {},
   "outputs": [
    {
     "name": "stdout",
     "output_type": "stream",
     "text": [
      "0\n",
      "0\n",
      "0\n"
     ]
    }
   ],
   "source": [
    "# we could select the features with less missing data\n",
    "# like this:\n",
    "\n",
    "for feature in list(group2.feature2.unique())+['x1']:\n",
    "    print(X_train[feature].isnull().sum())"
   ]
  },
  {
   "cell_type": "code",
   "execution_count": 18,
   "metadata": {},
   "outputs": [
    {
     "data": {
      "text/plain": [
       "RandomForestClassifier(bootstrap=True, class_weight=None, criterion='gini',\n",
       "                       max_depth=4, max_features='auto', max_leaf_nodes=None,\n",
       "                       min_impurity_decrease=0.0, min_impurity_split=None,\n",
       "                       min_samples_leaf=1, min_samples_split=2,\n",
       "                       min_weight_fraction_leaf=0.0, n_estimators=200,\n",
       "                       n_jobs=None, oob_score=False, random_state=39, verbose=0,\n",
       "                       warm_start=False)"
      ]
     },
     "execution_count": 18,
     "metadata": {},
     "output_type": "execute_result"
    }
   ],
   "source": [
    "features = list(group2.feature2.unique())+['x1']\n",
    "rf = RandomForestClassifier(n_estimators=200, random_state=39, max_depth=4)\n",
    "rf.fit(X_train[features].fillna(0), Y_train)"
   ]
  },
  {
   "cell_type": "code",
   "execution_count": 19,
   "metadata": {},
   "outputs": [
    {
     "data": {
      "text/html": [
       "<div>\n",
       "<style scoped>\n",
       "    .dataframe tbody tr th:only-of-type {\n",
       "        vertical-align: middle;\n",
       "    }\n",
       "\n",
       "    .dataframe tbody tr th {\n",
       "        vertical-align: top;\n",
       "    }\n",
       "\n",
       "    .dataframe thead th {\n",
       "        text-align: right;\n",
       "    }\n",
       "</style>\n",
       "<table border=\"1\" class=\"dataframe\">\n",
       "  <thead>\n",
       "    <tr style=\"text-align: right;\">\n",
       "      <th></th>\n",
       "      <th>feature</th>\n",
       "      <th>importance</th>\n",
       "    </tr>\n",
       "  </thead>\n",
       "  <tbody>\n",
       "    <tr>\n",
       "      <th>1</th>\n",
       "      <td>x11</td>\n",
       "      <td>0.341339</td>\n",
       "    </tr>\n",
       "    <tr>\n",
       "      <th>2</th>\n",
       "      <td>x1</td>\n",
       "      <td>0.340433</td>\n",
       "    </tr>\n",
       "    <tr>\n",
       "      <th>0</th>\n",
       "      <td>x2</td>\n",
       "      <td>0.318228</td>\n",
       "    </tr>\n",
       "  </tbody>\n",
       "</table>\n",
       "</div>"
      ],
      "text/plain": [
       "  feature  importance\n",
       "1     x11    0.341339\n",
       "2      x1    0.340433\n",
       "0      x2    0.318228"
      ]
     },
     "execution_count": 19,
     "metadata": {},
     "output_type": "execute_result"
    }
   ],
   "source": [
    "# we get the feature importance attributed by the \n",
    "# random forest model (more on this in coming lectures)\n",
    "\n",
    "importance = pd.concat(\n",
    "    [pd.Series(features),\n",
    "     pd.Series(rf.feature_importances_)], axis=1)\n",
    "\n",
    "importance.columns = ['feature', 'importance']\n",
    "importance.sort_values(by='importance', ascending=False)"
   ]
  },
  {
   "cell_type": "code",
   "execution_count": 20,
   "metadata": {},
   "outputs": [],
   "source": [
    "X_train=X_train.drop(['x1','x2','x32'], axis=1)"
   ]
  },
  {
   "cell_type": "code",
   "execution_count": 21,
   "metadata": {},
   "outputs": [],
   "source": [
    "X=train.filter(['x3','x4','x5','x6','x7','x13','x14','x15','x16',\n",
    "                  'x17','x18','x19','x20','x28','x29'], axis=1)"
   ]
  },
  {
   "cell_type": "code",
   "execution_count": 22,
   "metadata": {},
   "outputs": [],
   "source": [
    "X_train=pd.concat([X_train,X], axis=1)"
   ]
  },
  {
   "cell_type": "code",
   "execution_count": 23,
   "metadata": {},
   "outputs": [
    {
     "data": {
      "text/plain": [
       "(120, 29)"
      ]
     },
     "execution_count": 23,
     "metadata": {},
     "output_type": "execute_result"
    }
   ],
   "source": [
    "X_train.shape"
   ]
  },
  {
   "cell_type": "markdown",
   "metadata": {},
   "source": [
    "Lasso"
   ]
  },
  {
   "cell_type": "code",
   "execution_count": 24,
   "metadata": {},
   "outputs": [
    {
     "data": {
      "text/plain": [
       "MinMaxScaler(copy=True, feature_range=(0, 1))"
      ]
     },
     "execution_count": 24,
     "metadata": {},
     "output_type": "execute_result"
    }
   ],
   "source": [
    "scaler.fit(X_train.fillna(0))"
   ]
  },
  {
   "cell_type": "code",
   "execution_count": 25,
   "metadata": {},
   "outputs": [
    {
     "data": {
      "text/plain": [
       "SelectFromModel(estimator=LogisticRegression(C=1, class_weight=None, dual=False,\n",
       "                                             fit_intercept=True,\n",
       "                                             intercept_scaling=1, l1_ratio=None,\n",
       "                                             max_iter=100, multi_class='warn',\n",
       "                                             n_jobs=None, penalty='l1',\n",
       "                                             random_state=0, solver='saga',\n",
       "                                             tol=0.0001, verbose=0,\n",
       "                                             warm_start=False),\n",
       "                max_features=None, norm_order=1, prefit=False, threshold=None)"
      ]
     },
     "execution_count": 25,
     "metadata": {},
     "output_type": "execute_result"
    }
   ],
   "source": [
    "# Se especifica regresión logística y penalización Lasso (l1), para luego con SelectFromModel\n",
    "# seleccionar en teoría las características cuyos coeficientes no son cero.\n",
    "sel_ = SelectFromModel(LogisticRegression(C=1, penalty='l1', solver='saga',random_state=0))\n",
    "sel_.fit(scaler.transform(X_train.fillna(0)), Y_train)"
   ]
  },
  {
   "cell_type": "code",
   "execution_count": 26,
   "metadata": {},
   "outputs": [
    {
     "name": "stdout",
     "output_type": "stream",
     "text": [
      "Características totales: 29\n",
      "Características seleccionadas: 14\n",
      "Características con coeficientes reducidos a cero: 15\n"
     ]
    }
   ],
   "source": [
    "#Lista de las características seleccionadas\n",
    "selected_feat = X_train.columns[(sel_.get_support())]\n",
    "\n",
    "print('Características totales: {}'.format((X_train.shape[1])))\n",
    "print('Características seleccionadas: {}'.format(len(selected_feat)))\n",
    "print('Características con coeficientes reducidos a cero: {}'.format(np.sum(sel_.estimator_.coef_ == 0)))"
   ]
  },
  {
   "cell_type": "code",
   "execution_count": 27,
   "metadata": {},
   "outputs": [
    {
     "data": {
      "text/plain": [
       "['x8',\n",
       " 'x9',\n",
       " 'x10',\n",
       " 'x21',\n",
       " 'x22',\n",
       " 'x25',\n",
       " 'x26',\n",
       " 'x27',\n",
       " 'x30',\n",
       " 'x31',\n",
       " 'x5',\n",
       " 'x7',\n",
       " 'x13',\n",
       " 'x14',\n",
       " 'x29']"
      ]
     },
     "execution_count": 27,
     "metadata": {},
     "output_type": "execute_result"
    }
   ],
   "source": [
    "# Se identifica las características eliminadas\n",
    "# we can identify the removed features like this:\n",
    "removed_feats = X_train.columns[(sel_.estimator_.coef_ == 0).ravel().tolist()]\n",
    "r=removed_feats.values.tolist()\n",
    "r"
   ]
  },
  {
   "cell_type": "code",
   "execution_count": 28,
   "metadata": {},
   "outputs": [
    {
     "data": {
      "text/plain": [
       "(120, 14)"
      ]
     },
     "execution_count": 28,
     "metadata": {},
     "output_type": "execute_result"
    }
   ],
   "source": [
    "X_train=X_train.drop(r, axis=1)\n",
    "X_train.shape"
   ]
  },
  {
   "cell_type": "code",
   "execution_count": 29,
   "metadata": {},
   "outputs": [
    {
     "data": {
      "text/plain": [
       "['x11',\n",
       " 'x12',\n",
       " 'x23',\n",
       " 'x24',\n",
       " 'x3',\n",
       " 'x4',\n",
       " 'x6',\n",
       " 'x15',\n",
       " 'x16',\n",
       " 'x17',\n",
       " 'x18',\n",
       " 'x19',\n",
       " 'x20',\n",
       " 'x28']"
      ]
     },
     "execution_count": 29,
     "metadata": {},
     "output_type": "execute_result"
    }
   ],
   "source": [
    "seleccionadas=X_train.columns.values.tolist()\n",
    "seleccionadas"
   ]
  },
  {
   "cell_type": "code",
   "execution_count": 30,
   "metadata": {},
   "outputs": [],
   "source": [
    "dummies = ['x3','x4','x6','x15','x16','x17','x18','x19','x20','x28']\n",
    "\n",
    "for dum in dummies:\n",
    "    dum_list = \"cat\"+\"_\"+dum\n",
    "    dum_dummies = pd.get_dummies(X_train[dum], prefix=dum_list)\n",
    "    X_train=X_train.join(dum_dummies)"
   ]
  },
  {
   "cell_type": "code",
   "execution_count": 31,
   "metadata": {},
   "outputs": [],
   "source": [
    "X_train=X_train.drop(labels=dummies, axis=1)"
   ]
  },
  {
   "cell_type": "markdown",
   "metadata": {},
   "source": [
    "Modelo logístico"
   ]
  },
  {
   "cell_type": "code",
   "execution_count": 32,
   "metadata": {},
   "outputs": [],
   "source": [
    "def run_reglog(X_train_lg, X_test_lg, y_train_lg, y_test_lg):\n",
    "    lista_auc_train = []\n",
    "    lista_auc_test = []\n",
    "    lista_lr = []\n",
    "    lista = [1.0, 1.1, 2.2, 1.3, 1.4, 3.5]\n",
    "    for i in lista:\n",
    "        lr = linear_model.LogisticRegression(solver='liblinear', C = i)\n",
    "        lr.fit(X_train_lg,y_train_lg)\n",
    "        pred_train = lr.predict_proba(X_train_lg)\n",
    "        auc_train = format(roc_auc_score(y_train_lg, pred_train[:,1]))\n",
    "        lista_auc_train.append(auc_train)\n",
    "        \n",
    "        pred_test = lr.predict_proba(X_test_lg)\n",
    "        auc_test = format(roc_auc_score(y_test_lg, pred_test[:,1]))\n",
    "        lista_auc_test.append(auc_test)\n",
    "        \n",
    "        lista_lr.append(lr)\n",
    "        list_auc = list(map(float,lista_auc_test))\n",
    "        \n",
    "    max_index_auc = list_auc.index(max(list_auc))\n",
    "    best_model = lista_lr[max_index_auc]\n",
    "    \n",
    "    print('Best c')\n",
    "    print('c: '+ str(lista[max_index_auc]))\n",
    "    \n",
    "    print('Train set auc')\n",
    "    print(lista_auc_train)\n",
    "        \n",
    "    print('Test set auc')\n",
    "    print(lista_auc_test)\n",
    "    \n",
    "    print('---------------------------------------------------------')\n",
    "    print('Test set')\n",
    "    predictions = best_model.predict(X_test_lg)\n",
    "    print(classification_report(y_test_lg, predictions))\n",
    "    \n",
    "   \n",
    "    dict_lg = {}\n",
    "    pred = best_model.predict_proba(X_test_lg)\n",
    "    auc = max(list_auc)\n",
    "    print('lg roc-auc: {}'.format(auc))\n",
    "    \n",
    "    fpr, tpr, _ = roc_curve(y_test_lg, pred[:,1]) \n",
    "    \n",
    "    dict_lg['Modelo'] = best_model\n",
    "    dict_lg['fpr'] = fpr\n",
    "    dict_lg['tpr'] = tpr\n",
    "    dict_lg['auc'] = auc\n",
    "    \n",
    "    \n",
    "    return dict_lg"
   ]
  },
  {
   "cell_type": "code",
   "execution_count": 33,
   "metadata": {},
   "outputs": [
    {
     "data": {
      "text/plain": [
       "((30, 14), (30,))"
      ]
     },
     "execution_count": 33,
     "metadata": {},
     "output_type": "execute_result"
    }
   ],
   "source": [
    "X_test=test.filter(seleccionadas, axis=1)\n",
    "Y_test=test['yL']\n",
    "X_test.shape, Y_test.shape"
   ]
  },
  {
   "cell_type": "code",
   "execution_count": 34,
   "metadata": {},
   "outputs": [],
   "source": [
    "dummies = ['x3','x4','x6','x15','x16','x17','x18','x19','x20','x28']\n",
    "\n",
    "for dum in dummies:\n",
    "    dum_list = \"cat\"+\"_\"+dum\n",
    "    dum_dummies = pd.get_dummies(X_test[dum], prefix=dum_list)\n",
    "    X_test=X_test.join(dum_dummies)"
   ]
  },
  {
   "cell_type": "code",
   "execution_count": 35,
   "metadata": {},
   "outputs": [],
   "source": [
    "X_test=X_test.drop(labels=dummies, axis=1)"
   ]
  },
  {
   "cell_type": "code",
   "execution_count": 36,
   "metadata": {},
   "outputs": [
    {
     "name": "stdout",
     "output_type": "stream",
     "text": [
      "Best c\n",
      "c: 3.5\n",
      "Train set auc\n",
      "['0.8496874999999999', '0.8512500000000001', '0.8603125', '0.8546875', '0.8550000000000001', '0.8637500000000001']\n",
      "Test set auc\n",
      "['0.71', '0.71', '0.71', '0.71', '0.71', '0.715']\n",
      "---------------------------------------------------------\n",
      "Test set\n",
      "              precision    recall  f1-score   support\n",
      "\n",
      "         0.0       0.33      0.10      0.15        10\n",
      "         1.0       0.67      0.90      0.77        20\n",
      "\n",
      "    accuracy                           0.63        30\n",
      "   macro avg       0.50      0.50      0.46        30\n",
      "weighted avg       0.56      0.63      0.56        30\n",
      "\n",
      "lg roc-auc: 0.715\n"
     ]
    }
   ],
   "source": [
    "# evaluate performance of algorithm built\n",
    "# using selected features\n",
    "\n",
    "lg_model_ad = run_reglog(X_train.fillna(0),\n",
    "                  X_test.fillna(0),Y_train, Y_test)"
   ]
  },
  {
   "cell_type": "code",
   "execution_count": null,
   "metadata": {},
   "outputs": [],
   "source": []
  }
 ],
 "metadata": {
  "kernelspec": {
   "display_name": "Python 3",
   "language": "python",
   "name": "python3"
  },
  "language_info": {
   "codemirror_mode": {
    "name": "ipython",
    "version": 3
   },
   "file_extension": ".py",
   "mimetype": "text/x-python",
   "name": "python",
   "nbconvert_exporter": "python",
   "pygments_lexer": "ipython3",
   "version": "3.7.1"
  }
 },
 "nbformat": 4,
 "nbformat_minor": 2
}
