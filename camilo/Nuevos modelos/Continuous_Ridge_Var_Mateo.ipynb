{
 "cells": [
  {
   "cell_type": "code",
   "execution_count": 1,
   "metadata": {},
   "outputs": [],
   "source": [
    "import pandas as pd\n",
    "import numpy as np\n",
    "\n",
    "import matplotlib.pyplot as plt\n",
    "import seaborn as sns\n",
    "%matplotlib inline\n",
    "\n",
    "from sklearn.model_selection import train_test_split\n",
    "\n",
    "from sklearn.metrics import r2_score, mean_squared_error, accuracy_score"
   ]
  },
  {
   "cell_type": "code",
   "execution_count": 2,
   "metadata": {},
   "outputs": [],
   "source": [
    "from sklearn.preprocessing import StandardScaler\n",
    "from sklearn.pipeline import Pipeline\n",
    "from sklearn.compose import ColumnTransformer\n",
    "from sklearn.impute import SimpleImputer\n",
    "from sklearn.linear_model import ElasticNet"
   ]
  },
  {
   "cell_type": "code",
   "execution_count": 3,
   "metadata": {},
   "outputs": [],
   "source": [
    "data=pd.read_csv(\"../data/raw/datacontinuousstudents.csv\")"
   ]
  },
  {
   "cell_type": "markdown",
   "metadata": {},
   "source": [
    "## Prueba del modelo"
   ]
  },
  {
   "cell_type": "code",
   "execution_count": 41,
   "metadata": {},
   "outputs": [],
   "source": [
    "MSE = []\n",
    "accur = []\n",
    "from sklearn.linear_model import Ridge\n",
    "from sklearn.gaussian_process.kernels import Matern, WhiteKernel, ConstantKernel\n",
    "from sklearn import gaussian_process\n",
    "\n",
    "kernel = ConstantKernel() + Matern(length_scale=2, nu=3/2) + WhiteKernel(noise_level=1)\n",
    "for j in range(1+1000,101+1000):\n",
    "    \n",
    "    train, test = train_test_split(data, test_size = 0.2, random_state=j)\n",
    "    train=train.drop(['id'], axis=1)\n",
    "    X_train=train.drop(['y'], axis=1)\n",
    "    Y_train=train['y']\n",
    "    test=test.drop(['id'], axis=1)\n",
    "    X_test=test.drop(['y'], axis=1)\n",
    "    Y_test=test['y']\n",
    "    \n",
    "    sels=['x1','x6','x10','x13','x20','x23','x25','x31']\n",
    "    #sels=['x23', 'x32', 'x25', 'x31', 'x24', 'x1']\n",
    "    num_features = sels\n",
    "    num_pipeline = Pipeline([\n",
    "        ('scaler',StandardScaler()),\n",
    "        ('imputer',SimpleImputer(strategy='median'))\n",
    "        ])\n",
    "    col_transformer = ColumnTransformer(transformers=[\n",
    "        ('num', num_pipeline, num_features)\n",
    "        ])\n",
    "    \n",
    "    columns=X_train.columns.values.tolist()    \n",
    "    col_transformer.fit(X_train.fillna(0))\n",
    "    X_train[num_features]=col_transformer.transform(X_train.fillna(0))\n",
    "    X_test[num_features]=col_transformer.transform(X_test.fillna(0))\n",
    "    \n",
    "    # Modelo con características seleccionadas\n",
    "    \n",
    "    final_model =gaussian_process.GaussianProcessRegressor(kernel=kernel)\n",
    "    #final_model = Ridge(random_state=0)\n",
    "    \n",
    "    \n",
    "    final_model.fit(X_train.filter(sels, axis=1), Y_train)\n",
    "    y_pred_test = final_model.predict(X_test.filter(sels, axis=1))\n",
    "    r2_score_final = r2_score(Y_test, y_pred_test)\n",
    "    mse = mean_squared_error(Y_test, y_pred_test)\n",
    "    MSE.append(mse)\n",
    "    \n",
    "    y_pred_test=np.where(y_pred_test<=-1, 0, 1)\n",
    "    Y_test=np.where(Y_test<=-1, 0, 1)\n",
    "    acc = accuracy_score(Y_test, y_pred_test)\n",
    "    accur.append(acc)"
   ]
  },
  {
   "cell_type": "markdown",
   "metadata": {},
   "source": [
    "#### AUC y Accuracy"
   ]
  },
  {
   "cell_type": "code",
   "execution_count": 42,
   "metadata": {},
   "outputs": [],
   "source": [
    "summar1 = pd.concat([pd.DataFrame(MSE), pd.DataFrame(accur)],axis=1)"
   ]
  },
  {
   "cell_type": "code",
   "execution_count": 43,
   "metadata": {},
   "outputs": [],
   "source": [
    "summar1.columns=['MSE','Accuracy']"
   ]
  },
  {
   "cell_type": "markdown",
   "metadata": {},
   "source": [
    "Distribución del MSE"
   ]
  },
  {
   "cell_type": "code",
   "execution_count": 44,
   "metadata": {},
   "outputs": [
    {
     "name": "stdout",
     "output_type": "stream",
     "text": [
      "Q1: 2.9412163527496626\n",
      "Median: 3.5407240907374735\n",
      "Q3: 4.172495138034305\n"
     ]
    }
   ],
   "source": [
    "print('Q1:', np.percentile(summar1['MSE'],25))\n",
    "print('Median:',np.median(summar1['MSE']))\n",
    "print('Q3:', np.percentile(summar1['MSE'],75))"
   ]
  },
  {
   "cell_type": "markdown",
   "metadata": {},
   "source": [
    "Distribución accuracy"
   ]
  },
  {
   "cell_type": "code",
   "execution_count": 45,
   "metadata": {},
   "outputs": [
    {
     "name": "stdout",
     "output_type": "stream",
     "text": [
      "Q1: 0.7333333333333333\n",
      "Median: 0.7666666666666667\n",
      "Q3: 0.8\n"
     ]
    }
   ],
   "source": [
    "print('Q1:', np.percentile(summar1['Accuracy'],25))\n",
    "print('Median:',np.median(summar1['Accuracy']))\n",
    "print('Q3:', np.percentile(summar1['Accuracy'],75))"
   ]
  },
  {
   "cell_type": "markdown",
   "metadata": {},
   "source": [
    "igauagskashaskugasudk\n",
    "# HEader 1\n",
    "## Header 2\n",
    "\n",
    "$$\\frac{1}{2}$$\n",
    "\n",
    "\\begin{equation}\n",
    "    \\frac{1}{2}\n",
    "\\end{equation}"
   ]
  },
  {
   "cell_type": "code",
   "execution_count": null,
   "metadata": {},
   "outputs": [],
   "source": []
  }
 ],
 "metadata": {
  "kernelspec": {
   "display_name": "Python 3",
   "language": "python",
   "name": "python3"
  },
  "language_info": {
   "codemirror_mode": {
    "name": "ipython",
    "version": 3
   },
   "file_extension": ".py",
   "mimetype": "text/x-python",
   "name": "python",
   "nbconvert_exporter": "python",
   "pygments_lexer": "ipython3",
   "version": "3.7.3"
  }
 },
 "nbformat": 4,
 "nbformat_minor": 2
}
