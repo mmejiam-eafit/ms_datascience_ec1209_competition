{
 "cells": [
  {
   "cell_type": "code",
   "execution_count": 1,
   "metadata": {},
   "outputs": [],
   "source": [
    "import pandas as pd\n",
    "import numpy as np\n",
    "\n",
    "import matplotlib.pyplot as plt\n",
    "import seaborn as sns\n",
    "%matplotlib inline\n",
    "\n",
    "from sklearn.model_selection import train_test_split\n",
    "\n",
    "import itertools\n",
    "\n",
    "from sklearn.metrics import roc_auc_score, r2_score, accuracy_score"
   ]
  },
  {
   "cell_type": "code",
   "execution_count": 2,
   "metadata": {},
   "outputs": [],
   "source": [
    "from sklearn.preprocessing import StandardScaler\n",
    "from sklearn.pipeline import Pipeline\n",
    "from sklearn.compose import ColumnTransformer\n",
    "from sklearn.impute import SimpleImputer\n",
    "from sklearn.linear_model import LogisticRegression"
   ]
  },
  {
   "cell_type": "code",
   "execution_count": 3,
   "metadata": {},
   "outputs": [],
   "source": [
    "data=pd.read_csv(\"../data/raw/databinarystudents.csv\").head(150)"
   ]
  },
  {
   "cell_type": "markdown",
   "metadata": {},
   "source": [
    "## Entrenamiento del modelo"
   ]
  },
  {
   "cell_type": "code",
   "execution_count": 4,
   "metadata": {},
   "outputs": [],
   "source": [
    "roc = []\n",
    "accur = []\n",
    "\n",
    "from sklearn.linear_model import RidgeClassifier\n",
    "\n",
    "for j in range(1+1000,101+1000):\n",
    "    \n",
    "    train, test = train_test_split(data, test_size = 0.2, random_state=j)\n",
    "    #print(train.shape)\n",
    "    train=train.drop(['id'], axis=1)\n",
    "    X_train=train.drop(['yL'], axis=1)\n",
    "    Y_train=train['yL']\n",
    "    test=test.drop(['id'], axis=1)\n",
    "    X_test=test.drop(['yL'], axis=1)\n",
    "    Y_test=test['yL']\n",
    "    \n",
    "    sel= ['x1','x17','x18','x20','x23','x24','x4']\n",
    "    #sel= ['x17', 'x18', 'x23', 'x4', 'x10', 'x24']\n",
    "    num_features = sel\n",
    "    num_pipeline = Pipeline([\n",
    "        ('scaler',StandardScaler()),\n",
    "        ('imputer',SimpleImputer(strategy='median'))\n",
    "        ])\n",
    "    col_transformer = ColumnTransformer(transformers=[\n",
    "        ('num', num_pipeline, num_features)\n",
    "        ])\n",
    "    \n",
    "    columns=X_train.columns.values.tolist()\n",
    "    col_transformer.fit(X_train.fillna(0))\n",
    "    X_train[num_features]=col_transformer.transform(X_train.fillna(0))\n",
    "    X_test[num_features]=col_transformer.transform(X_test.fillna(0))\n",
    "    \n",
    "    # Modelo con características seleccionadas\n",
    "    \n",
    "    final_m = RidgeClassifier()\n",
    "    \n",
    "    \n",
    "    final_m.fit(X_train.filter(sel, axis=1), Y_train)\n",
    "    \n",
    "    #y_pred_test = final_m.predict_proba()[:,1]\n",
    "    d = final_m.decision_function(X_test.filter(sel, axis=1))\n",
    "    \n",
    "    y_pred_test = np.exp(d) / (1 + np.exp(d))\n",
    "    \n",
    "    ROC_AUC_final = roc_auc_score(Y_test, y_pred_test)\n",
    "    \n",
    "    y_pred_test1 = final_m.predict(X_test.filter(sel, axis=1))\n",
    "    acc = accuracy_score(Y_test, y_pred_test1)\n",
    "    \n",
    "    roc.append(ROC_AUC_final)\n",
    "    accur.append(acc)"
   ]
  },
  {
   "cell_type": "markdown",
   "metadata": {},
   "source": [
    "#### AUC y Accuracy"
   ]
  },
  {
   "cell_type": "code",
   "execution_count": 5,
   "metadata": {},
   "outputs": [],
   "source": [
    "summar1 = pd.concat([pd.DataFrame(roc), pd.DataFrame(accur)],axis=1)"
   ]
  },
  {
   "cell_type": "code",
   "execution_count": 6,
   "metadata": {},
   "outputs": [],
   "source": [
    "summar1.columns=['ROC_AUC','Accuracy']"
   ]
  },
  {
   "cell_type": "markdown",
   "metadata": {},
   "source": [
    "Distribución del AUC"
   ]
  },
  {
   "cell_type": "code",
   "execution_count": 8,
   "metadata": {},
   "outputs": [
    {
     "name": "stdout",
     "output_type": "stream",
     "text": [
      "Q1: 0.7361111111111112\n",
      "Median: 0.7909276018099548\n",
      "Q3: 0.8337053571428572\n"
     ]
    }
   ],
   "source": [
    "print('Q1:', np.percentile(summar1['ROC_AUC'],25))\n",
    "print('Median:',np.median(summar1['ROC_AUC']))\n",
    "print('Q3:', np.percentile(summar1['ROC_AUC'],75))"
   ]
  },
  {
   "cell_type": "markdown",
   "metadata": {},
   "source": [
    "Distribución accuracy"
   ]
  },
  {
   "cell_type": "code",
   "execution_count": 10,
   "metadata": {},
   "outputs": [
    {
     "name": "stdout",
     "output_type": "stream",
     "text": [
      "Q1: 0.6333333333333333\n",
      "Median: 0.7\n",
      "Q3: 0.7333333333333333\n"
     ]
    }
   ],
   "source": [
    "print('Q1:', np.percentile(summar1['Accuracy'],25))\n",
    "print('Median:',np.median(summar1['Accuracy']))\n",
    "print('Q3:', np.percentile(summar1['Accuracy'],75))"
   ]
  },
  {
   "cell_type": "code",
   "execution_count": null,
   "metadata": {},
   "outputs": [],
   "source": []
  }
 ],
 "metadata": {
  "kernelspec": {
   "display_name": "Python 3",
   "language": "python",
   "name": "python3"
  },
  "language_info": {
   "codemirror_mode": {
    "name": "ipython",
    "version": 3
   },
   "file_extension": ".py",
   "mimetype": "text/x-python",
   "name": "python",
   "nbconvert_exporter": "python",
   "pygments_lexer": "ipython3",
   "version": "3.7.3"
  }
 },
 "nbformat": 4,
 "nbformat_minor": 2
}
