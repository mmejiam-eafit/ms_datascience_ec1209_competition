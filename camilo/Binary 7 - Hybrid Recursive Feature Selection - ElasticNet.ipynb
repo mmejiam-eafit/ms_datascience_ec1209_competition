{
 "cells": [
  {
   "cell_type": "code",
   "execution_count": 1,
   "metadata": {},
   "outputs": [],
   "source": [
    "import pandas as pd\n",
    "import numpy as np\n",
    "\n",
    "import matplotlib.pyplot as plt\n",
    "import seaborn as sns\n",
    "%matplotlib inline\n",
    "\n",
    "from sklearn.model_selection import train_test_split\n",
    "\n",
    "import xgboost as xgb\n",
    "\n",
    "from sklearn.metrics import roc_auc_score, r2_score, accuracy_score, classification_report"
   ]
  },
  {
   "cell_type": "code",
   "execution_count": 2,
   "metadata": {},
   "outputs": [],
   "source": [
    "from sklearn.preprocessing import MinMaxScaler, StandardScaler\n",
    "from sklearn.pipeline import make_pipeline\n",
    "from sklearn.impute import SimpleImputer\n",
    "from sklearn.model_selection import GridSearchCV\n",
    "from sklearn.linear_model import Lasso, LogisticRegression\n",
    "from sklearn.linear_model import BayesianRidge\n",
    "from sklearn.linear_model import ElasticNet"
   ]
  },
  {
   "cell_type": "code",
   "execution_count": 3,
   "metadata": {},
   "outputs": [],
   "source": [
    "train=pd.read_csv(\"./data/train/databinarystudents_train.csv\")\n",
    "train=train.drop(['id'], axis=1)\n",
    "#train.head()"
   ]
  },
  {
   "cell_type": "code",
   "execution_count": 4,
   "metadata": {},
   "outputs": [
    {
     "data": {
      "text/plain": [
       "((120, 32), (120,))"
      ]
     },
     "execution_count": 4,
     "metadata": {},
     "output_type": "execute_result"
    }
   ],
   "source": [
    "X_train=train.drop(['yL'], axis=1)\n",
    "Y_train=train['yL']\n",
    "X_train.shape, Y_train.shape"
   ]
  },
  {
   "cell_type": "code",
   "execution_count": 5,
   "metadata": {},
   "outputs": [],
   "source": [
    "test=pd.read_csv(\"./data/test/databinarystudents_test.csv\")\n",
    "test=test.drop(['id'], axis=1)\n",
    "#test.head()"
   ]
  },
  {
   "cell_type": "code",
   "execution_count": 6,
   "metadata": {},
   "outputs": [
    {
     "data": {
      "text/plain": [
       "((30, 32), (30,))"
      ]
     },
     "execution_count": 6,
     "metadata": {},
     "output_type": "execute_result"
    }
   ],
   "source": [
    "X_test=test.drop(['yL'], axis=1)\n",
    "Y_test=test['yL']\n",
    "X_test.shape, Y_test.shape"
   ]
  },
  {
   "cell_type": "markdown",
   "metadata": {},
   "source": [
    "#### Análisis variables numéricas vs target"
   ]
  },
  {
   "cell_type": "markdown",
   "metadata": {},
   "source": [
    "Resumen estadístico"
   ]
  },
  {
   "cell_type": "code",
   "execution_count": 7,
   "metadata": {},
   "outputs": [
    {
     "data": {
      "text/html": [
       "<div>\n",
       "<style scoped>\n",
       "    .dataframe tbody tr th:only-of-type {\n",
       "        vertical-align: middle;\n",
       "    }\n",
       "\n",
       "    .dataframe tbody tr th {\n",
       "        vertical-align: top;\n",
       "    }\n",
       "\n",
       "    .dataframe thead th {\n",
       "        text-align: right;\n",
       "    }\n",
       "</style>\n",
       "<table border=\"1\" class=\"dataframe\">\n",
       "  <thead>\n",
       "    <tr style=\"text-align: right;\">\n",
       "      <th></th>\n",
       "      <th>yL</th>\n",
       "      <th>x1</th>\n",
       "      <th>x2</th>\n",
       "      <th>x3</th>\n",
       "      <th>x4</th>\n",
       "      <th>x5</th>\n",
       "      <th>x6</th>\n",
       "      <th>x7</th>\n",
       "      <th>x8</th>\n",
       "      <th>x9</th>\n",
       "      <th>...</th>\n",
       "      <th>x23</th>\n",
       "      <th>x24</th>\n",
       "      <th>x25</th>\n",
       "      <th>x26</th>\n",
       "      <th>x27</th>\n",
       "      <th>x28</th>\n",
       "      <th>x29</th>\n",
       "      <th>x30</th>\n",
       "      <th>x31</th>\n",
       "      <th>x32</th>\n",
       "    </tr>\n",
       "  </thead>\n",
       "  <tbody>\n",
       "    <tr>\n",
       "      <th>count</th>\n",
       "      <td>120.000000</td>\n",
       "      <td>120.000000</td>\n",
       "      <td>120.000000</td>\n",
       "      <td>120.000000</td>\n",
       "      <td>120.000000</td>\n",
       "      <td>120.000000</td>\n",
       "      <td>120.000000</td>\n",
       "      <td>120.000000</td>\n",
       "      <td>120.000000</td>\n",
       "      <td>120.000000</td>\n",
       "      <td>...</td>\n",
       "      <td>120.000000</td>\n",
       "      <td>120.000000</td>\n",
       "      <td>120.000000</td>\n",
       "      <td>120.000000</td>\n",
       "      <td>120.000000</td>\n",
       "      <td>120.000000</td>\n",
       "      <td>120.000000</td>\n",
       "      <td>120.000000</td>\n",
       "      <td>120.000000</td>\n",
       "      <td>120.000000</td>\n",
       "    </tr>\n",
       "    <tr>\n",
       "      <th>mean</th>\n",
       "      <td>0.666667</td>\n",
       "      <td>63.887836</td>\n",
       "      <td>51.545833</td>\n",
       "      <td>0.316667</td>\n",
       "      <td>0.150000</td>\n",
       "      <td>0.050000</td>\n",
       "      <td>0.091667</td>\n",
       "      <td>0.125000</td>\n",
       "      <td>15.383806</td>\n",
       "      <td>26.425000</td>\n",
       "      <td>...</td>\n",
       "      <td>0.254489</td>\n",
       "      <td>0.037739</td>\n",
       "      <td>6.325000</td>\n",
       "      <td>5.608333</td>\n",
       "      <td>79.625782</td>\n",
       "      <td>0.125000</td>\n",
       "      <td>0.066667</td>\n",
       "      <td>4.108333</td>\n",
       "      <td>0.296166</td>\n",
       "      <td>0.509870</td>\n",
       "    </tr>\n",
       "    <tr>\n",
       "      <th>std</th>\n",
       "      <td>0.473381</td>\n",
       "      <td>10.216179</td>\n",
       "      <td>41.591189</td>\n",
       "      <td>0.467127</td>\n",
       "      <td>0.358569</td>\n",
       "      <td>0.218859</td>\n",
       "      <td>0.289765</td>\n",
       "      <td>0.332106</td>\n",
       "      <td>1.952842</td>\n",
       "      <td>15.826614</td>\n",
       "      <td>...</td>\n",
       "      <td>0.352119</td>\n",
       "      <td>0.148418</td>\n",
       "      <td>0.918187</td>\n",
       "      <td>0.972702</td>\n",
       "      <td>50.109709</td>\n",
       "      <td>0.332106</td>\n",
       "      <td>0.250490</td>\n",
       "      <td>2.152957</td>\n",
       "      <td>0.199186</td>\n",
       "      <td>0.306627</td>\n",
       "    </tr>\n",
       "    <tr>\n",
       "      <th>min</th>\n",
       "      <td>0.000000</td>\n",
       "      <td>34.217000</td>\n",
       "      <td>4.600000</td>\n",
       "      <td>0.000000</td>\n",
       "      <td>0.000000</td>\n",
       "      <td>0.000000</td>\n",
       "      <td>0.000000</td>\n",
       "      <td>0.000000</td>\n",
       "      <td>11.107900</td>\n",
       "      <td>0.000000</td>\n",
       "      <td>...</td>\n",
       "      <td>0.000000</td>\n",
       "      <td>0.000000</td>\n",
       "      <td>4.000000</td>\n",
       "      <td>3.000000</td>\n",
       "      <td>11.087400</td>\n",
       "      <td>0.000000</td>\n",
       "      <td>0.000000</td>\n",
       "      <td>1.000000</td>\n",
       "      <td>0.011540</td>\n",
       "      <td>0.023037</td>\n",
       "    </tr>\n",
       "    <tr>\n",
       "      <th>25%</th>\n",
       "      <td>0.000000</td>\n",
       "      <td>56.677750</td>\n",
       "      <td>16.075000</td>\n",
       "      <td>0.000000</td>\n",
       "      <td>0.000000</td>\n",
       "      <td>0.000000</td>\n",
       "      <td>0.000000</td>\n",
       "      <td>0.000000</td>\n",
       "      <td>14.282493</td>\n",
       "      <td>22.750000</td>\n",
       "      <td>...</td>\n",
       "      <td>0.002000</td>\n",
       "      <td>0.000000</td>\n",
       "      <td>6.000000</td>\n",
       "      <td>5.000000</td>\n",
       "      <td>44.144175</td>\n",
       "      <td>0.000000</td>\n",
       "      <td>0.000000</td>\n",
       "      <td>2.000000</td>\n",
       "      <td>0.098875</td>\n",
       "      <td>0.190509</td>\n",
       "    </tr>\n",
       "    <tr>\n",
       "      <th>50%</th>\n",
       "      <td>1.000000</td>\n",
       "      <td>67.518000</td>\n",
       "      <td>40.650000</td>\n",
       "      <td>0.000000</td>\n",
       "      <td>0.000000</td>\n",
       "      <td>0.000000</td>\n",
       "      <td>0.000000</td>\n",
       "      <td>0.000000</td>\n",
       "      <td>15.382245</td>\n",
       "      <td>31.000000</td>\n",
       "      <td>...</td>\n",
       "      <td>0.033750</td>\n",
       "      <td>0.000100</td>\n",
       "      <td>6.000000</td>\n",
       "      <td>6.000000</td>\n",
       "      <td>70.322450</td>\n",
       "      <td>0.000000</td>\n",
       "      <td>0.000000</td>\n",
       "      <td>4.000000</td>\n",
       "      <td>0.263287</td>\n",
       "      <td>0.493752</td>\n",
       "    </tr>\n",
       "    <tr>\n",
       "      <th>75%</th>\n",
       "      <td>1.000000</td>\n",
       "      <td>71.182049</td>\n",
       "      <td>82.975000</td>\n",
       "      <td>1.000000</td>\n",
       "      <td>0.000000</td>\n",
       "      <td>0.000000</td>\n",
       "      <td>0.000000</td>\n",
       "      <td>0.000000</td>\n",
       "      <td>16.608645</td>\n",
       "      <td>37.250000</td>\n",
       "      <td>...</td>\n",
       "      <td>0.455000</td>\n",
       "      <td>0.001525</td>\n",
       "      <td>7.000000</td>\n",
       "      <td>6.000000</td>\n",
       "      <td>105.504000</td>\n",
       "      <td>0.000000</td>\n",
       "      <td>0.000000</td>\n",
       "      <td>6.000000</td>\n",
       "      <td>0.494643</td>\n",
       "      <td>0.816140</td>\n",
       "    </tr>\n",
       "    <tr>\n",
       "      <th>max</th>\n",
       "      <td>1.000000</td>\n",
       "      <td>78.836829</td>\n",
       "      <td>173.700000</td>\n",
       "      <td>1.000000</td>\n",
       "      <td>1.000000</td>\n",
       "      <td>1.000000</td>\n",
       "      <td>1.000000</td>\n",
       "      <td>1.000000</td>\n",
       "      <td>20.850060</td>\n",
       "      <td>45.000000</td>\n",
       "      <td>...</td>\n",
       "      <td>0.994200</td>\n",
       "      <td>0.846600</td>\n",
       "      <td>8.000000</td>\n",
       "      <td>7.000000</td>\n",
       "      <td>344.830000</td>\n",
       "      <td>1.000000</td>\n",
       "      <td>1.000000</td>\n",
       "      <td>7.000000</td>\n",
       "      <td>0.662330</td>\n",
       "      <td>0.996328</td>\n",
       "    </tr>\n",
       "  </tbody>\n",
       "</table>\n",
       "<p>8 rows × 33 columns</p>\n",
       "</div>"
      ],
      "text/plain": [
       "               yL          x1          x2          x3          x4          x5  \\\n",
       "count  120.000000  120.000000  120.000000  120.000000  120.000000  120.000000   \n",
       "mean     0.666667   63.887836   51.545833    0.316667    0.150000    0.050000   \n",
       "std      0.473381   10.216179   41.591189    0.467127    0.358569    0.218859   \n",
       "min      0.000000   34.217000    4.600000    0.000000    0.000000    0.000000   \n",
       "25%      0.000000   56.677750   16.075000    0.000000    0.000000    0.000000   \n",
       "50%      1.000000   67.518000   40.650000    0.000000    0.000000    0.000000   \n",
       "75%      1.000000   71.182049   82.975000    1.000000    0.000000    0.000000   \n",
       "max      1.000000   78.836829  173.700000    1.000000    1.000000    1.000000   \n",
       "\n",
       "               x6          x7          x8          x9  ...         x23  \\\n",
       "count  120.000000  120.000000  120.000000  120.000000  ...  120.000000   \n",
       "mean     0.091667    0.125000   15.383806   26.425000  ...    0.254489   \n",
       "std      0.289765    0.332106    1.952842   15.826614  ...    0.352119   \n",
       "min      0.000000    0.000000   11.107900    0.000000  ...    0.000000   \n",
       "25%      0.000000    0.000000   14.282493   22.750000  ...    0.002000   \n",
       "50%      0.000000    0.000000   15.382245   31.000000  ...    0.033750   \n",
       "75%      0.000000    0.000000   16.608645   37.250000  ...    0.455000   \n",
       "max      1.000000    1.000000   20.850060   45.000000  ...    0.994200   \n",
       "\n",
       "              x24         x25         x26         x27         x28         x29  \\\n",
       "count  120.000000  120.000000  120.000000  120.000000  120.000000  120.000000   \n",
       "mean     0.037739    6.325000    5.608333   79.625782    0.125000    0.066667   \n",
       "std      0.148418    0.918187    0.972702   50.109709    0.332106    0.250490   \n",
       "min      0.000000    4.000000    3.000000   11.087400    0.000000    0.000000   \n",
       "25%      0.000000    6.000000    5.000000   44.144175    0.000000    0.000000   \n",
       "50%      0.000100    6.000000    6.000000   70.322450    0.000000    0.000000   \n",
       "75%      0.001525    7.000000    6.000000  105.504000    0.000000    0.000000   \n",
       "max      0.846600    8.000000    7.000000  344.830000    1.000000    1.000000   \n",
       "\n",
       "              x30         x31         x32  \n",
       "count  120.000000  120.000000  120.000000  \n",
       "mean     4.108333    0.296166    0.509870  \n",
       "std      2.152957    0.199186    0.306627  \n",
       "min      1.000000    0.011540    0.023037  \n",
       "25%      2.000000    0.098875    0.190509  \n",
       "50%      4.000000    0.263287    0.493752  \n",
       "75%      6.000000    0.494643    0.816140  \n",
       "max      7.000000    0.662330    0.996328  \n",
       "\n",
       "[8 rows x 33 columns]"
      ]
     },
     "execution_count": 7,
     "metadata": {},
     "output_type": "execute_result"
    }
   ],
   "source": [
    "train.describe()"
   ]
  },
  {
   "cell_type": "markdown",
   "metadata": {},
   "source": [
    "Correlación"
   ]
  },
  {
   "cell_type": "code",
   "execution_count": 8,
   "metadata": {},
   "outputs": [
    {
     "data": {
      "text/plain": [
       "<matplotlib.axes._subplots.AxesSubplot at 0x1c378fd1390>"
      ]
     },
     "execution_count": 8,
     "metadata": {},
     "output_type": "execute_result"
    },
    {
     "data": {
      "image/png": "[encoded data removed]",
      "text/plain": [
       "<Figure size 792x792 with 2 Axes>"
      ]
     },
     "metadata": {
      "needs_background": "light"
     },
     "output_type": "display_data"
    }
   ],
   "source": [
    "corrmat = train.corr()\n",
    "fig, ax = plt.subplots()\n",
    "fig.set_size_inches(11,11)\n",
    "sns.heatmap(corrmat)"
   ]
  },
  {
   "cell_type": "markdown",
   "metadata": {},
   "source": [
    "Estandarización de regresoras Train"
   ]
  },
  {
   "cell_type": "code",
   "execution_count": 9,
   "metadata": {},
   "outputs": [],
   "source": [
    "columns=X_train.columns.values.tolist()"
   ]
  },
  {
   "cell_type": "code",
   "execution_count": 10,
   "metadata": {},
   "outputs": [
    {
     "data": {
      "text/plain": [
       "StandardScaler(copy=True, with_mean=True, with_std=True)"
      ]
     },
     "execution_count": 10,
     "metadata": {},
     "output_type": "execute_result"
    }
   ],
   "source": [
    "scaler = StandardScaler()\n",
    "scaler.fit(X_train.fillna(0))"
   ]
  },
  {
   "cell_type": "code",
   "execution_count": 11,
   "metadata": {},
   "outputs": [],
   "source": [
    "X_train=scaler.transform(X_train.fillna(0))"
   ]
  },
  {
   "cell_type": "code",
   "execution_count": 12,
   "metadata": {},
   "outputs": [],
   "source": [
    "X_train=pd.DataFrame(X_train, columns=columns)"
   ]
  },
  {
   "cell_type": "markdown",
   "metadata": {},
   "source": [
    "Estandarización de regresoras Test"
   ]
  },
  {
   "cell_type": "code",
   "execution_count": 13,
   "metadata": {},
   "outputs": [],
   "source": [
    "columns1=X_test.columns.values.tolist()"
   ]
  },
  {
   "cell_type": "code",
   "execution_count": 14,
   "metadata": {},
   "outputs": [],
   "source": [
    "X_test=scaler.transform(X_test.fillna(0))"
   ]
  },
  {
   "cell_type": "code",
   "execution_count": 15,
   "metadata": {},
   "outputs": [],
   "source": [
    "X_test=pd.DataFrame(X_test, columns=columns1)"
   ]
  },
  {
   "cell_type": "code",
   "execution_count": 16,
   "metadata": {},
   "outputs": [
    {
     "name": "stdout",
     "output_type": "stream",
     "text": [
      "Test all features model ROC AUC=0.740000\n"
     ]
    }
   ],
   "source": [
    "# Modelo con todas las características para determinar importancia\n",
    "\n",
    "seed_val = 99\n",
    "np.random.seed(seed_val)\n",
    "\n",
    "model_all_features = LogisticRegression(C=1, penalty='elasticnet', solver='saga',\n",
    "                                        l1_ratio=0.5, max_iter=10000)\n",
    "\n",
    "model_all_features.fit(X_train, Y_train)\n",
    "\n",
    "y_pred_test = model_all_features.predict_proba(X_test)[:, 1]\n",
    "auc_score_all = roc_auc_score(Y_test, y_pred_test)\n",
    "print('Test all features model ROC AUC=%f' % (auc_score_all))"
   ]
  },
  {
   "cell_type": "code",
   "execution_count": 17,
   "metadata": {},
   "outputs": [
    {
     "data": {
      "text/plain": [
       "<matplotlib.axes._subplots.AxesSubplot at 0x1c37b486fd0>"
      ]
     },
     "execution_count": 17,
     "metadata": {},
     "output_type": "execute_result"
    },
    {
     "data": {
      "image/png": "[encoded data removed]",
      "text/plain": [
       "<Figure size 1440x432 with 1 Axes>"
      ]
     },
     "metadata": {
      "needs_background": "light"
     },
     "output_type": "display_data"
    }
   ],
   "source": [
    "features = pd.Series(abs(model_all_features.coef_[0,:])) # esto con valor absoluto?\n",
    "features.index = X_train.columns\n",
    "\n",
    "features.sort_values(ascending=False, inplace=True)\n",
    "\n",
    "features.plot.bar(figsize=(20,6))"
   ]
  },
  {
   "cell_type": "code",
   "execution_count": 18,
   "metadata": {},
   "outputs": [
    {
     "data": {
      "text/plain": [
       "['x17',\n",
       " 'x18',\n",
       " 'x23',\n",
       " 'x16',\n",
       " 'x10',\n",
       " 'x20',\n",
       " 'x7',\n",
       " 'x24',\n",
       " 'x32',\n",
       " 'x4',\n",
       " 'x2',\n",
       " 'x6',\n",
       " 'x13',\n",
       " 'x21',\n",
       " 'x29',\n",
       " 'x27',\n",
       " 'x14',\n",
       " 'x1',\n",
       " 'x11',\n",
       " 'x28',\n",
       " 'x3',\n",
       " 'x25',\n",
       " 'x22',\n",
       " 'x12',\n",
       " 'x15',\n",
       " 'x8',\n",
       " 'x30',\n",
       " 'x26',\n",
       " 'x9',\n",
       " 'x5',\n",
       " 'x31',\n",
       " 'x19']"
      ]
     },
     "execution_count": 18,
     "metadata": {},
     "output_type": "execute_result"
    }
   ],
   "source": [
    "features = list(features.index)\n",
    "features"
   ]
  },
  {
   "cell_type": "code",
   "execution_count": 19,
   "metadata": {},
   "outputs": [
    {
     "name": "stdout",
     "output_type": "stream",
     "text": [
      "Test one feature model ROC AUC=0.700000\n"
     ]
    }
   ],
   "source": [
    "# Modelo con la característca más importante (desde la que se inicia la adición)\n",
    "\n",
    "seed_val = 99\n",
    "np.random.seed(seed_val)\n",
    "\n",
    "model_one_feature = LogisticRegression(C=1, penalty='elasticnet', solver='saga',\n",
    "                                        l1_ratio=0.5, max_iter=10000)\n",
    "\n",
    "model_one_feature.fit(X_train[features[0]].to_frame(), Y_train)\n",
    "\n",
    "y_pred_test = model_one_feature.predict_proba(X_test[features[0]].to_frame())[:, 1]\n",
    "auc_score_first = roc_auc_score(Y_test, y_pred_test)\n",
    "print('Test one feature model ROC AUC=%f' % (auc_score_first))"
   ]
  },
  {
   "cell_type": "code",
   "execution_count": 20,
   "metadata": {},
   "outputs": [
    {
     "name": "stdout",
     "output_type": "stream",
     "text": [
      "doing recursive feature addition\n",
      "\n",
      "testing feature:  x18  which is feature  1  out of  32\n",
      "New Test ROC AUC=0.765\n",
      "All features Test ROC AUC=0.7\n",
      "Increase in ROC AUC=0.06500000000000006\n",
      "keep:  x18\n",
      "\n",
      "testing feature:  x23  which is feature  2  out of  32\n",
      "New Test ROC AUC=0.8124999999999999\n",
      "All features Test ROC AUC=0.765\n",
      "Increase in ROC AUC=0.047499999999999876\n",
      "keep:  x23\n",
      "\n",
      "testing feature:  x16  which is feature  3  out of  32\n",
      "New Test ROC AUC=0.8175\n",
      "All features Test ROC AUC=0.8124999999999999\n",
      "Increase in ROC AUC=0.0050000000000001155\n",
      "keep:  x16\n",
      "\n",
      "testing feature:  x10  which is feature  4  out of  32\n",
      "New Test ROC AUC=0.85\n",
      "All features Test ROC AUC=0.8175\n",
      "Increase in ROC AUC=0.03249999999999997\n",
      "keep:  x10\n",
      "\n",
      "testing feature:  x20  which is feature  5  out of  32\n",
      "New Test ROC AUC=0.835\n",
      "All features Test ROC AUC=0.85\n",
      "Increase in ROC AUC=-0.015000000000000013\n",
      "remove:  x20\n",
      "\n",
      "testing feature:  x7  which is feature  6  out of  32\n",
      "New Test ROC AUC=0.85\n",
      "All features Test ROC AUC=0.85\n",
      "Increase in ROC AUC=0.0\n",
      "remove:  x7\n",
      "\n",
      "testing feature:  x24  which is feature  7  out of  32\n",
      "New Test ROC AUC=0.855\n",
      "All features Test ROC AUC=0.85\n",
      "Increase in ROC AUC=0.0050000000000000044\n",
      "keep:  x24\n",
      "\n",
      "testing feature:  x32  which is feature  8  out of  32\n",
      "New Test ROC AUC=0.825\n",
      "All features Test ROC AUC=0.855\n",
      "Increase in ROC AUC=-0.030000000000000027\n",
      "remove:  x32\n",
      "\n",
      "testing feature:  x4  which is feature  9  out of  32\n",
      "New Test ROC AUC=0.85\n",
      "All features Test ROC AUC=0.855\n",
      "Increase in ROC AUC=-0.0050000000000000044\n",
      "remove:  x4\n",
      "\n",
      "testing feature:  x2  which is feature  10  out of  32\n",
      "New Test ROC AUC=0.825\n",
      "All features Test ROC AUC=0.855\n",
      "Increase in ROC AUC=-0.030000000000000027\n",
      "remove:  x2\n",
      "\n",
      "testing feature:  x6  which is feature  11  out of  32\n",
      "New Test ROC AUC=0.8\n",
      "All features Test ROC AUC=0.855\n",
      "Increase in ROC AUC=-0.05499999999999994\n",
      "remove:  x6\n",
      "\n",
      "testing feature:  x13  which is feature  12  out of  32\n",
      "New Test ROC AUC=0.855\n",
      "All features Test ROC AUC=0.855\n",
      "Increase in ROC AUC=0.0\n",
      "remove:  x13\n",
      "\n",
      "testing feature:  x21  which is feature  13  out of  32\n",
      "New Test ROC AUC=0.855\n",
      "All features Test ROC AUC=0.855\n",
      "Increase in ROC AUC=0.0\n",
      "remove:  x21\n",
      "\n",
      "testing feature:  x29  which is feature  14  out of  32\n",
      "New Test ROC AUC=0.86\n",
      "All features Test ROC AUC=0.855\n",
      "Increase in ROC AUC=0.0050000000000000044\n",
      "keep:  x29\n",
      "\n",
      "testing feature:  x27  which is feature  15  out of  32\n",
      "New Test ROC AUC=0.815\n",
      "All features Test ROC AUC=0.86\n",
      "Increase in ROC AUC=-0.04500000000000004\n",
      "remove:  x27\n",
      "\n",
      "testing feature:  x14  which is feature  16  out of  32\n",
      "New Test ROC AUC=0.86\n",
      "All features Test ROC AUC=0.86\n",
      "Increase in ROC AUC=0.0\n",
      "remove:  x14\n",
      "\n",
      "testing feature:  x1  which is feature  17  out of  32\n",
      "New Test ROC AUC=0.825\n",
      "All features Test ROC AUC=0.86\n",
      "Increase in ROC AUC=-0.03500000000000003\n",
      "remove:  x1\n",
      "\n",
      "testing feature:  x11  which is feature  18  out of  32\n",
      "New Test ROC AUC=0.8049999999999999\n",
      "All features Test ROC AUC=0.86\n",
      "Increase in ROC AUC=-0.05500000000000005\n",
      "remove:  x11\n",
      "\n",
      "testing feature:  x28  which is feature  19  out of  32\n",
      "New Test ROC AUC=0.82\n",
      "All features Test ROC AUC=0.86\n",
      "Increase in ROC AUC=-0.040000000000000036\n",
      "remove:  x28\n",
      "\n",
      "testing feature:  x3  which is feature  20  out of  32\n",
      "New Test ROC AUC=0.845\n",
      "All features Test ROC AUC=0.86\n",
      "Increase in ROC AUC=-0.015000000000000013\n",
      "remove:  x3\n",
      "\n",
      "testing feature:  x25  which is feature  21  out of  32\n",
      "New Test ROC AUC=0.85\n",
      "All features Test ROC AUC=0.86\n",
      "Increase in ROC AUC=-0.010000000000000009\n",
      "remove:  x25\n",
      "\n",
      "testing feature:  x22  which is feature  22  out of  32\n",
      "New Test ROC AUC=0.855\n",
      "All features Test ROC AUC=0.86\n",
      "Increase in ROC AUC=-0.0050000000000000044\n",
      "remove:  x22\n",
      "\n",
      "testing feature:  x12  which is feature  23  out of  32\n",
      "New Test ROC AUC=0.835\n",
      "All features Test ROC AUC=0.86\n",
      "Increase in ROC AUC=-0.025000000000000022\n",
      "remove:  x12\n",
      "\n",
      "testing feature:  x15  which is feature  24  out of  32\n",
      "New Test ROC AUC=0.85\n",
      "All features Test ROC AUC=0.86\n",
      "Increase in ROC AUC=-0.010000000000000009\n",
      "remove:  x15\n",
      "\n",
      "testing feature:  x8  which is feature  25  out of  32\n",
      "New Test ROC AUC=0.875\n",
      "All features Test ROC AUC=0.86\n",
      "Increase in ROC AUC=0.015000000000000013\n",
      "keep:  x8\n",
      "\n",
      "testing feature:  x30  which is feature  26  out of  32\n",
      "New Test ROC AUC=0.865\n",
      "All features Test ROC AUC=0.875\n",
      "Increase in ROC AUC=-0.010000000000000009\n",
      "remove:  x30\n",
      "\n",
      "testing feature:  x26  which is feature  27  out of  32\n",
      "New Test ROC AUC=0.89\n",
      "All features Test ROC AUC=0.875\n",
      "Increase in ROC AUC=0.015000000000000013\n",
      "keep:  x26\n",
      "\n",
      "testing feature:  x9  which is feature  28  out of  32\n",
      "New Test ROC AUC=0.8500000000000001\n",
      "All features Test ROC AUC=0.89\n",
      "Increase in ROC AUC=-0.039999999999999925\n",
      "remove:  x9\n",
      "\n",
      "testing feature:  x5  which is feature  29  out of  32\n",
      "New Test ROC AUC=0.89\n",
      "All features Test ROC AUC=0.89\n",
      "Increase in ROC AUC=0.0\n",
      "remove:  x5\n",
      "\n",
      "testing feature:  x31  which is feature  30  out of  32\n",
      "New Test ROC AUC=0.85\n",
      "All features Test ROC AUC=0.89\n",
      "Increase in ROC AUC=-0.040000000000000036\n",
      "remove:  x31\n",
      "\n",
      "testing feature:  x19  which is feature  31  out of  32\n",
      "New Test ROC AUC=0.835\n",
      "All features Test ROC AUC=0.89\n",
      "Increase in ROC AUC=-0.05500000000000005\n",
      "remove:  x19\n",
      "\n",
      "DONE!!\n",
      "total features to keep:  9\n",
      "selected features:  ['x17', 'x18', 'x23', 'x16', 'x10', 'x24', 'x29', 'x8', 'x26']\n",
      "final test ROC AUC score=0.89\n"
     ]
    }
   ],
   "source": [
    "# Adición de características y evaluación de modelos, una a la vez (en orden de importancia)\n",
    "\n",
    "tol = 0.001\n",
    "\n",
    "print('doing recursive feature addition')\n",
    "\n",
    "features_to_keep = [features[0]]\n",
    "\n",
    "count = 1\n",
    "\n",
    "for feature in features[1:]:\n",
    "    print()\n",
    "    print('testing feature: ', feature, ' which is feature ', count,\n",
    "          ' out of ', len(features))\n",
    "    count = count + 1\n",
    "\n",
    "    model_int = LogisticRegression(C=1, penalty='elasticnet', solver='saga',\n",
    "                                        l1_ratio=0.5, max_iter=10000)\n",
    "\n",
    "    model_int.fit(\n",
    "        X_train[features_to_keep + [feature] ], Y_train)\n",
    "\n",
    "    y_pred_test = model_int.predict_proba(\n",
    "        X_test[features_to_keep + [feature] ])[:, 1]\n",
    "\n",
    "    auc_score_int = roc_auc_score(Y_test, y_pred_test)\n",
    "    print('New Test ROC AUC={}'.format((auc_score_int)))\n",
    "\n",
    "    print('All features Test ROC AUC={}'.format((auc_score_first)))\n",
    "\n",
    "    diff_auc = auc_score_int - auc_score_first\n",
    "\n",
    "    if diff_auc >= tol:\n",
    "        print('Increase in ROC AUC={}'.format(diff_auc))\n",
    "        print('keep: ', feature)\n",
    "        print\n",
    "\n",
    "        auc_score_first = auc_score_int\n",
    "\n",
    "        features_to_keep.append(feature)\n",
    "    else:\n",
    "        print('Increase in ROC AUC={}'.format(diff_auc))\n",
    "        print('remove: ', feature)\n",
    "        print\n",
    "\n",
    "print()\n",
    "print('DONE!!')\n",
    "print('total features to keep: ', len(features_to_keep))\n",
    "print('selected features: ', features_to_keep)\n",
    "print('final test ROC AUC score={}'.format(auc_score_first))"
   ]
  },
  {
   "cell_type": "code",
   "execution_count": 21,
   "metadata": {},
   "outputs": [
    {
     "name": "stdout",
     "output_type": "stream",
     "text": [
      "Test selected features ROC AUC=0.890000\n",
      "Test selected features accuracy=0.766667\n",
      "\n",
      "              precision    recall  f1-score   support\n",
      "\n",
      "         0.0       0.71      0.50      0.59        10\n",
      "         1.0       0.78      0.90      0.84        20\n",
      "\n",
      "    accuracy                           0.77        30\n",
      "   macro avg       0.75      0.70      0.71        30\n",
      "weighted avg       0.76      0.77      0.75        30\n",
      "\n"
     ]
    }
   ],
   "source": [
    "# Modelo con características seleccionadas\n",
    "\n",
    "seed_val = 99\n",
    "np.random.seed(seed_val)\n",
    "\n",
    "final_xgb = LogisticRegression(C=1, penalty='elasticnet', solver='saga',\n",
    "                                        l1_ratio=0.5, max_iter=10000)\n",
    "\n",
    "final_xgb.fit(X_train[features_to_keep], Y_train)\n",
    "\n",
    "y_pred_test = final_xgb.predict_proba(X_test[features_to_keep])[:,1]\n",
    "\n",
    "ROC_AUC_final = roc_auc_score(Y_test, y_pred_test)\n",
    "print('Test selected features ROC AUC=%f' % (ROC_AUC_final))\n",
    "\n",
    "y_pred_test = final_xgb.predict(X_test[features_to_keep])\n",
    "\n",
    "acc = accuracy_score(Y_test, y_pred_test)\n",
    "print('Test selected features accuracy=%f' % (acc))\n",
    "\n",
    "print()\n",
    "print(classification_report(Y_test,y_pred_test))"
   ]
  },
  {
   "cell_type": "code",
   "execution_count": null,
   "metadata": {},
   "outputs": [],
   "source": []
  }
 ],
 "metadata": {
  "kernelspec": {
   "display_name": "Python 3",
   "language": "python",
   "name": "python3"
  },
  "language_info": {
   "codemirror_mode": {
    "name": "ipython",
    "version": 3
   },
   "file_extension": ".py",
   "mimetype": "text/x-python",
   "name": "python",
   "nbconvert_exporter": "python",
   "pygments_lexer": "ipython3",
   "version": "3.7.1"
  }
 },
 "nbformat": 4,
 "nbformat_minor": 2
}
