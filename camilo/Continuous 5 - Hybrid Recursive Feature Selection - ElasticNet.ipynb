{
 "cells": [
  {
   "cell_type": "code",
   "execution_count": 1,
   "metadata": {},
   "outputs": [],
   "source": [
    "import pandas as pd\n",
    "import numpy as np\n",
    "\n",
    "import matplotlib.pyplot as plt\n",
    "import seaborn as sns\n",
    "%matplotlib inline\n",
    "\n",
    "from sklearn.model_selection import train_test_split\n",
    "\n",
    "import xgboost as xgb\n",
    "\n",
    "from sklearn.metrics import roc_auc_score, r2_score, mean_squared_error"
   ]
  },
  {
   "cell_type": "code",
   "execution_count": 2,
   "metadata": {},
   "outputs": [],
   "source": [
    "from sklearn.preprocessing import MinMaxScaler, StandardScaler\n",
    "from sklearn.pipeline import make_pipeline\n",
    "from sklearn.impute import SimpleImputer\n",
    "from sklearn.model_selection import GridSearchCV\n",
    "from sklearn.linear_model import Lasso, LogisticRegression\n",
    "from sklearn.linear_model import BayesianRidge\n",
    "from sklearn.linear_model import ElasticNet"
   ]
  },
  {
   "cell_type": "code",
   "execution_count": 3,
   "metadata": {},
   "outputs": [],
   "source": [
    "train=pd.read_csv(\"./data/train/datacontinuousstudents_train.csv\")\n",
    "train=train.drop(['id'], axis=1)\n",
    "#train.head()"
   ]
  },
  {
   "cell_type": "code",
   "execution_count": 4,
   "metadata": {},
   "outputs": [
    {
     "data": {
      "text/plain": [
       "((120, 32), (120,))"
      ]
     },
     "execution_count": 4,
     "metadata": {},
     "output_type": "execute_result"
    }
   ],
   "source": [
    "X_train=train.drop(['y'], axis=1)\n",
    "Y_train=train['y']\n",
    "X_train.shape, Y_train.shape"
   ]
  },
  {
   "cell_type": "code",
   "execution_count": 5,
   "metadata": {},
   "outputs": [],
   "source": [
    "test=pd.read_csv(\"./data/test/datacontinuousstudents_test.csv\")\n",
    "test=test.drop(['id'], axis=1)\n",
    "#test.head()"
   ]
  },
  {
   "cell_type": "code",
   "execution_count": 6,
   "metadata": {},
   "outputs": [
    {
     "data": {
      "text/plain": [
       "((30, 32), (30,))"
      ]
     },
     "execution_count": 6,
     "metadata": {},
     "output_type": "execute_result"
    }
   ],
   "source": [
    "X_test=test.drop(['y'], axis=1)\n",
    "Y_test=test['y']\n",
    "X_test.shape, Y_test.shape"
   ]
  },
  {
   "cell_type": "markdown",
   "metadata": {},
   "source": [
    "#### Análisis variables numéricas vs target"
   ]
  },
  {
   "cell_type": "markdown",
   "metadata": {},
   "source": [
    "Resumen estadístico"
   ]
  },
  {
   "cell_type": "code",
   "execution_count": 7,
   "metadata": {},
   "outputs": [
    {
     "data": {
      "text/html": [
       "<div>\n",
       "<style scoped>\n",
       "    .dataframe tbody tr th:only-of-type {\n",
       "        vertical-align: middle;\n",
       "    }\n",
       "\n",
       "    .dataframe tbody tr th {\n",
       "        vertical-align: top;\n",
       "    }\n",
       "\n",
       "    .dataframe thead th {\n",
       "        text-align: right;\n",
       "    }\n",
       "</style>\n",
       "<table border=\"1\" class=\"dataframe\">\n",
       "  <thead>\n",
       "    <tr style=\"text-align: right;\">\n",
       "      <th></th>\n",
       "      <th>y</th>\n",
       "      <th>x1</th>\n",
       "      <th>x2</th>\n",
       "      <th>x3</th>\n",
       "      <th>x4</th>\n",
       "      <th>x5</th>\n",
       "      <th>x6</th>\n",
       "      <th>x7</th>\n",
       "      <th>x8</th>\n",
       "      <th>x9</th>\n",
       "      <th>...</th>\n",
       "      <th>x23</th>\n",
       "      <th>x24</th>\n",
       "      <th>x25</th>\n",
       "      <th>x26</th>\n",
       "      <th>x27</th>\n",
       "      <th>x28</th>\n",
       "      <th>x29</th>\n",
       "      <th>x30</th>\n",
       "      <th>x31</th>\n",
       "      <th>x32</th>\n",
       "    </tr>\n",
       "  </thead>\n",
       "  <tbody>\n",
       "    <tr>\n",
       "      <th>count</th>\n",
       "      <td>120.000000</td>\n",
       "      <td>120.000000</td>\n",
       "      <td>120.000000</td>\n",
       "      <td>120.000000</td>\n",
       "      <td>120.000000</td>\n",
       "      <td>120.000000</td>\n",
       "      <td>120.000000</td>\n",
       "      <td>120.000000</td>\n",
       "      <td>120.000000</td>\n",
       "      <td>120.000000</td>\n",
       "      <td>...</td>\n",
       "      <td>120.000000</td>\n",
       "      <td>120.000000</td>\n",
       "      <td>120.000000</td>\n",
       "      <td>120.000000</td>\n",
       "      <td>120.000000</td>\n",
       "      <td>120.000000</td>\n",
       "      <td>120.000000</td>\n",
       "      <td>120.000000</td>\n",
       "      <td>120.000000</td>\n",
       "      <td>120.000000</td>\n",
       "    </tr>\n",
       "    <tr>\n",
       "      <th>mean</th>\n",
       "      <td>0.513959</td>\n",
       "      <td>64.574126</td>\n",
       "      <td>49.281667</td>\n",
       "      <td>0.300000</td>\n",
       "      <td>0.141667</td>\n",
       "      <td>0.041667</td>\n",
       "      <td>0.108333</td>\n",
       "      <td>0.083333</td>\n",
       "      <td>15.299094</td>\n",
       "      <td>27.791667</td>\n",
       "      <td>...</td>\n",
       "      <td>0.219333</td>\n",
       "      <td>0.039371</td>\n",
       "      <td>6.366667</td>\n",
       "      <td>5.558333</td>\n",
       "      <td>81.542031</td>\n",
       "      <td>0.108333</td>\n",
       "      <td>0.050000</td>\n",
       "      <td>3.841667</td>\n",
       "      <td>0.281920</td>\n",
       "      <td>0.489820</td>\n",
       "    </tr>\n",
       "    <tr>\n",
       "      <th>std</th>\n",
       "      <td>2.250778</td>\n",
       "      <td>9.488580</td>\n",
       "      <td>40.817030</td>\n",
       "      <td>0.460179</td>\n",
       "      <td>0.350170</td>\n",
       "      <td>0.200664</td>\n",
       "      <td>0.312104</td>\n",
       "      <td>0.277544</td>\n",
       "      <td>1.937916</td>\n",
       "      <td>15.292056</td>\n",
       "      <td>...</td>\n",
       "      <td>0.342694</td>\n",
       "      <td>0.149234</td>\n",
       "      <td>0.897553</td>\n",
       "      <td>1.002483</td>\n",
       "      <td>48.853216</td>\n",
       "      <td>0.312104</td>\n",
       "      <td>0.218859</td>\n",
       "      <td>2.153738</td>\n",
       "      <td>0.191636</td>\n",
       "      <td>0.295519</td>\n",
       "    </tr>\n",
       "    <tr>\n",
       "      <th>min</th>\n",
       "      <td>-6.143410</td>\n",
       "      <td>41.696000</td>\n",
       "      <td>4.600000</td>\n",
       "      <td>0.000000</td>\n",
       "      <td>0.000000</td>\n",
       "      <td>0.000000</td>\n",
       "      <td>0.000000</td>\n",
       "      <td>0.000000</td>\n",
       "      <td>10.617270</td>\n",
       "      <td>0.000000</td>\n",
       "      <td>...</td>\n",
       "      <td>0.000000</td>\n",
       "      <td>0.000000</td>\n",
       "      <td>4.000000</td>\n",
       "      <td>3.000000</td>\n",
       "      <td>13.533800</td>\n",
       "      <td>0.000000</td>\n",
       "      <td>0.000000</td>\n",
       "      <td>1.000000</td>\n",
       "      <td>0.016302</td>\n",
       "      <td>0.032387</td>\n",
       "    </tr>\n",
       "    <tr>\n",
       "      <th>25%</th>\n",
       "      <td>-0.849932</td>\n",
       "      <td>57.820250</td>\n",
       "      <td>14.975000</td>\n",
       "      <td>0.000000</td>\n",
       "      <td>0.000000</td>\n",
       "      <td>0.000000</td>\n",
       "      <td>0.000000</td>\n",
       "      <td>0.000000</td>\n",
       "      <td>14.282493</td>\n",
       "      <td>27.000000</td>\n",
       "      <td>...</td>\n",
       "      <td>0.001375</td>\n",
       "      <td>0.000000</td>\n",
       "      <td>6.000000</td>\n",
       "      <td>5.000000</td>\n",
       "      <td>46.428100</td>\n",
       "      <td>0.000000</td>\n",
       "      <td>0.000000</td>\n",
       "      <td>2.000000</td>\n",
       "      <td>0.099620</td>\n",
       "      <td>0.191323</td>\n",
       "    </tr>\n",
       "    <tr>\n",
       "      <th>50%</th>\n",
       "      <td>0.563972</td>\n",
       "      <td>67.946500</td>\n",
       "      <td>36.300000</td>\n",
       "      <td>0.000000</td>\n",
       "      <td>0.000000</td>\n",
       "      <td>0.000000</td>\n",
       "      <td>0.000000</td>\n",
       "      <td>0.000000</td>\n",
       "      <td>15.437490</td>\n",
       "      <td>31.000000</td>\n",
       "      <td>...</td>\n",
       "      <td>0.019950</td>\n",
       "      <td>0.000100</td>\n",
       "      <td>6.000000</td>\n",
       "      <td>6.000000</td>\n",
       "      <td>69.777400</td>\n",
       "      <td>0.000000</td>\n",
       "      <td>0.000000</td>\n",
       "      <td>4.000000</td>\n",
       "      <td>0.247636</td>\n",
       "      <td>0.455207</td>\n",
       "    </tr>\n",
       "    <tr>\n",
       "      <th>75%</th>\n",
       "      <td>2.237177</td>\n",
       "      <td>71.359000</td>\n",
       "      <td>76.150000</td>\n",
       "      <td>1.000000</td>\n",
       "      <td>0.000000</td>\n",
       "      <td>0.000000</td>\n",
       "      <td>0.000000</td>\n",
       "      <td>0.000000</td>\n",
       "      <td>16.399015</td>\n",
       "      <td>40.250000</td>\n",
       "      <td>...</td>\n",
       "      <td>0.239000</td>\n",
       "      <td>0.001850</td>\n",
       "      <td>7.000000</td>\n",
       "      <td>6.000000</td>\n",
       "      <td>105.504000</td>\n",
       "      <td>0.000000</td>\n",
       "      <td>0.000000</td>\n",
       "      <td>6.000000</td>\n",
       "      <td>0.426950</td>\n",
       "      <td>0.795187</td>\n",
       "    </tr>\n",
       "    <tr>\n",
       "      <th>max</th>\n",
       "      <td>6.800272</td>\n",
       "      <td>78.836829</td>\n",
       "      <td>173.700000</td>\n",
       "      <td>1.000000</td>\n",
       "      <td>1.000000</td>\n",
       "      <td>1.000000</td>\n",
       "      <td>1.000000</td>\n",
       "      <td>1.000000</td>\n",
       "      <td>20.584160</td>\n",
       "      <td>45.000000</td>\n",
       "      <td>...</td>\n",
       "      <td>0.991800</td>\n",
       "      <td>0.846600</td>\n",
       "      <td>8.000000</td>\n",
       "      <td>7.000000</td>\n",
       "      <td>344.830000</td>\n",
       "      <td>1.000000</td>\n",
       "      <td>1.000000</td>\n",
       "      <td>7.000000</td>\n",
       "      <td>0.662330</td>\n",
       "      <td>0.996328</td>\n",
       "    </tr>\n",
       "  </tbody>\n",
       "</table>\n",
       "<p>8 rows × 33 columns</p>\n",
       "</div>"
      ],
      "text/plain": [
       "                y          x1          x2          x3          x4          x5  \\\n",
       "count  120.000000  120.000000  120.000000  120.000000  120.000000  120.000000   \n",
       "mean     0.513959   64.574126   49.281667    0.300000    0.141667    0.041667   \n",
       "std      2.250778    9.488580   40.817030    0.460179    0.350170    0.200664   \n",
       "min     -6.143410   41.696000    4.600000    0.000000    0.000000    0.000000   \n",
       "25%     -0.849932   57.820250   14.975000    0.000000    0.000000    0.000000   \n",
       "50%      0.563972   67.946500   36.300000    0.000000    0.000000    0.000000   \n",
       "75%      2.237177   71.359000   76.150000    1.000000    0.000000    0.000000   \n",
       "max      6.800272   78.836829  173.700000    1.000000    1.000000    1.000000   \n",
       "\n",
       "               x6          x7          x8          x9  ...         x23  \\\n",
       "count  120.000000  120.000000  120.000000  120.000000  ...  120.000000   \n",
       "mean     0.108333    0.083333   15.299094   27.791667  ...    0.219333   \n",
       "std      0.312104    0.277544    1.937916   15.292056  ...    0.342694   \n",
       "min      0.000000    0.000000   10.617270    0.000000  ...    0.000000   \n",
       "25%      0.000000    0.000000   14.282493   27.000000  ...    0.001375   \n",
       "50%      0.000000    0.000000   15.437490   31.000000  ...    0.019950   \n",
       "75%      0.000000    0.000000   16.399015   40.250000  ...    0.239000   \n",
       "max      1.000000    1.000000   20.584160   45.000000  ...    0.991800   \n",
       "\n",
       "              x24         x25         x26         x27         x28         x29  \\\n",
       "count  120.000000  120.000000  120.000000  120.000000  120.000000  120.000000   \n",
       "mean     0.039371    6.366667    5.558333   81.542031    0.108333    0.050000   \n",
       "std      0.149234    0.897553    1.002483   48.853216    0.312104    0.218859   \n",
       "min      0.000000    4.000000    3.000000   13.533800    0.000000    0.000000   \n",
       "25%      0.000000    6.000000    5.000000   46.428100    0.000000    0.000000   \n",
       "50%      0.000100    6.000000    6.000000   69.777400    0.000000    0.000000   \n",
       "75%      0.001850    7.000000    6.000000  105.504000    0.000000    0.000000   \n",
       "max      0.846600    8.000000    7.000000  344.830000    1.000000    1.000000   \n",
       "\n",
       "              x30         x31         x32  \n",
       "count  120.000000  120.000000  120.000000  \n",
       "mean     3.841667    0.281920    0.489820  \n",
       "std      2.153738    0.191636    0.295519  \n",
       "min      1.000000    0.016302    0.032387  \n",
       "25%      2.000000    0.099620    0.191323  \n",
       "50%      4.000000    0.247636    0.455207  \n",
       "75%      6.000000    0.426950    0.795187  \n",
       "max      7.000000    0.662330    0.996328  \n",
       "\n",
       "[8 rows x 33 columns]"
      ]
     },
     "execution_count": 7,
     "metadata": {},
     "output_type": "execute_result"
    }
   ],
   "source": [
    "train.describe()"
   ]
  },
  {
   "cell_type": "markdown",
   "metadata": {},
   "source": [
    "Correlación"
   ]
  },
  {
   "cell_type": "code",
   "execution_count": 8,
   "metadata": {},
   "outputs": [
    {
     "data": {
      "text/plain": [
       "<matplotlib.axes._subplots.AxesSubplot at 0x2eb0a8e7fd0>"
      ]
     },
     "execution_count": 8,
     "metadata": {},
     "output_type": "execute_result"
    },
    {
     "data": {
      "image/png": "[encoded data removed]",
      "text/plain": [
       "<Figure size 792x792 with 2 Axes>"
      ]
     },
     "metadata": {
      "needs_background": "light"
     },
     "output_type": "display_data"
    }
   ],
   "source": [
    "corrmat = train.corr()\n",
    "fig, ax = plt.subplots()\n",
    "fig.set_size_inches(11,11)\n",
    "sns.heatmap(corrmat)"
   ]
  },
  {
   "cell_type": "markdown",
   "metadata": {},
   "source": [
    "Estandarización de regresoras Train"
   ]
  },
  {
   "cell_type": "code",
   "execution_count": 9,
   "metadata": {},
   "outputs": [],
   "source": [
    "columns=X_train.columns.values.tolist()"
   ]
  },
  {
   "cell_type": "code",
   "execution_count": 10,
   "metadata": {},
   "outputs": [
    {
     "data": {
      "text/plain": [
       "StandardScaler(copy=True, with_mean=True, with_std=True)"
      ]
     },
     "execution_count": 10,
     "metadata": {},
     "output_type": "execute_result"
    }
   ],
   "source": [
    "scaler = StandardScaler()\n",
    "scaler.fit(X_train.fillna(0))"
   ]
  },
  {
   "cell_type": "code",
   "execution_count": 11,
   "metadata": {},
   "outputs": [],
   "source": [
    "X_train=scaler.transform(X_train.fillna(0))"
   ]
  },
  {
   "cell_type": "code",
   "execution_count": 12,
   "metadata": {},
   "outputs": [],
   "source": [
    "X_train=pd.DataFrame(X_train, columns=columns)"
   ]
  },
  {
   "cell_type": "markdown",
   "metadata": {},
   "source": [
    "Estandarización de regresoras Test"
   ]
  },
  {
   "cell_type": "code",
   "execution_count": 13,
   "metadata": {},
   "outputs": [],
   "source": [
    "columns1=X_test.columns.values.tolist()"
   ]
  },
  {
   "cell_type": "code",
   "execution_count": 14,
   "metadata": {},
   "outputs": [],
   "source": [
    "X_test=scaler.transform(X_test.fillna(0))"
   ]
  },
  {
   "cell_type": "code",
   "execution_count": 15,
   "metadata": {},
   "outputs": [],
   "source": [
    "X_test=pd.DataFrame(X_test, columns=columns1)"
   ]
  },
  {
   "cell_type": "code",
   "execution_count": 16,
   "metadata": {},
   "outputs": [
    {
     "name": "stdout",
     "output_type": "stream",
     "text": [
      "Test all features model R2 = -0.006684\n"
     ]
    }
   ],
   "source": [
    "# Modelo con todas las características para determinar importancia\n",
    "\n",
    "seed_val = 99\n",
    "np.random.seed(seed_val)\n",
    "\n",
    "model_all_features = ElasticNet(alpha=1, l1_ratio=0.1)\n",
    "\n",
    "model_all_features.fit(X_train, Y_train)\n",
    "\n",
    "y_pred_test = model_all_features.predict(X_test)\n",
    "r2_score_all = r2_score(Y_test, y_pred_test)\n",
    "print('Test all features model R2 = %f' % (r2_score_all))"
   ]
  },
  {
   "cell_type": "code",
   "execution_count": 17,
   "metadata": {},
   "outputs": [
    {
     "data": {
      "text/plain": [
       "array([ 4.34359607e-02, -0.00000000e+00, -5.38883814e-02, -0.00000000e+00,\n",
       "        0.00000000e+00,  1.22644913e-01,  1.03134108e-02,  0.00000000e+00,\n",
       "       -0.00000000e+00,  1.43008649e-01,  0.00000000e+00,  7.28539383e-02,\n",
       "       -1.79405571e-01, -1.67444669e-02, -3.15950135e-02,  0.00000000e+00,\n",
       "       -0.00000000e+00, -3.81452803e-02,  0.00000000e+00,  1.77807772e-04,\n",
       "       -3.01277513e-02, -0.00000000e+00,  2.65619305e-01, -1.42024000e-01,\n",
       "        1.68649471e-01, -0.00000000e+00,  3.71236867e-02, -0.00000000e+00,\n",
       "        1.14239488e-01,  0.00000000e+00, -1.27659867e-01, -1.65175587e-01])"
      ]
     },
     "execution_count": 17,
     "metadata": {},
     "output_type": "execute_result"
    }
   ],
   "source": [
    "model_all_features.coef_"
   ]
  },
  {
   "cell_type": "code",
   "execution_count": 18,
   "metadata": {},
   "outputs": [
    {
     "data": {
      "text/plain": [
       "<matplotlib.axes._subplots.AxesSubplot at 0x2eb0ce2de10>"
      ]
     },
     "execution_count": 18,
     "metadata": {},
     "output_type": "execute_result"
    },
    {
     "data": {
      "image/png": "[encoded data removed]",
      "text/plain": [
       "<Figure size 1440x432 with 1 Axes>"
      ]
     },
     "metadata": {
      "needs_background": "light"
     },
     "output_type": "display_data"
    }
   ],
   "source": [
    "features = pd.Series(abs(model_all_features.coef_)) #esto con valor absoluto?\n",
    "features.index = X_train.columns\n",
    "\n",
    "features.sort_values(ascending=False, inplace=True)\n",
    "\n",
    "features.plot.bar(figsize=(20,6))"
   ]
  },
  {
   "cell_type": "code",
   "execution_count": 19,
   "metadata": {},
   "outputs": [
    {
     "data": {
      "text/plain": [
       "['x23',\n",
       " 'x13',\n",
       " 'x25',\n",
       " 'x32',\n",
       " 'x10',\n",
       " 'x24',\n",
       " 'x31',\n",
       " 'x6',\n",
       " 'x29',\n",
       " 'x12',\n",
       " 'x3',\n",
       " 'x1',\n",
       " 'x18',\n",
       " 'x27',\n",
       " 'x15',\n",
       " 'x21',\n",
       " 'x14',\n",
       " 'x7',\n",
       " 'x20',\n",
       " 'x22',\n",
       " 'x26',\n",
       " 'x11',\n",
       " 'x19',\n",
       " 'x9',\n",
       " 'x8',\n",
       " 'x17',\n",
       " 'x28',\n",
       " 'x5',\n",
       " 'x4',\n",
       " 'x30',\n",
       " 'x2',\n",
       " 'x16']"
      ]
     },
     "execution_count": 19,
     "metadata": {},
     "output_type": "execute_result"
    }
   ],
   "source": [
    "features = list(features.index)\n",
    "features"
   ]
  },
  {
   "cell_type": "code",
   "execution_count": 20,
   "metadata": {},
   "outputs": [
    {
     "name": "stdout",
     "output_type": "stream",
     "text": [
      "Test one feature model R2=0.040561\n"
     ]
    }
   ],
   "source": [
    "# Modelo con la característca más importante (desde la que se inicia la adición)\n",
    "\n",
    "seed_val = 99\n",
    "np.random.seed(seed_val)\n",
    "\n",
    "model_one_feature = ElasticNet(alpha=1, l1_ratio=0.1)\n",
    "\n",
    "model_one_feature.fit(X_train[features[0]].to_frame(), Y_train)\n",
    "\n",
    "y_pred_test = model_one_feature.predict(X_test[features[0]].to_frame())\n",
    "r2_score_first = r2_score(Y_test, y_pred_test)\n",
    "print('Test one feature model R2=%f' % (r2_score_first))"
   ]
  },
  {
   "cell_type": "code",
   "execution_count": 21,
   "metadata": {},
   "outputs": [
    {
     "name": "stdout",
     "output_type": "stream",
     "text": [
      "doing recursive feature addition\n",
      "\n",
      "testing feature:  x13  which is feature  1  out of  32\n",
      "New Test R2=-0.007360194769576944\n",
      "All features Test R2=0.04056118635004091\n",
      "Increase in r2 = -0.047921381119617856\n",
      "remove:  x13\n",
      "\n",
      "testing feature:  x25  which is feature  2  out of  32\n",
      "New Test R2=0.0818346741447683\n",
      "All features Test R2=0.04056118635004091\n",
      "Increase in r2 = 0.04127348779472739\n",
      "keep:  x25\n",
      "\n",
      "testing feature:  x32  which is feature  3  out of  32\n",
      "New Test R2=0.11661690538514535\n",
      "All features Test R2=0.0818346741447683\n",
      "Increase in r2 = 0.03478223124037705\n",
      "keep:  x32\n",
      "\n",
      "testing feature:  x10  which is feature  4  out of  32\n",
      "New Test R2=0.1267587636207098\n",
      "All features Test R2=0.11661690538514535\n",
      "Increase in r2 = 0.01014185823556446\n",
      "keep:  x10\n",
      "\n",
      "testing feature:  x24  which is feature  5  out of  32\n",
      "New Test R2=0.11955554399843848\n",
      "All features Test R2=0.1267587636207098\n",
      "Increase in r2 = -0.0072032196222713285\n",
      "remove:  x24\n",
      "\n",
      "testing feature:  x31  which is feature  6  out of  32\n",
      "New Test R2=0.13541716741459286\n",
      "All features Test R2=0.1267587636207098\n",
      "Increase in r2 = 0.008658403793883052\n",
      "keep:  x31\n",
      "\n",
      "testing feature:  x6  which is feature  7  out of  32\n",
      "New Test R2=0.09201301834294695\n",
      "All features Test R2=0.13541716741459286\n",
      "Increase in r2 = -0.043404149071645914\n",
      "remove:  x6\n",
      "\n",
      "testing feature:  x29  which is feature  8  out of  32\n",
      "New Test R2=0.11074105877880958\n",
      "All features Test R2=0.13541716741459286\n",
      "Increase in r2 = -0.02467610863578329\n",
      "remove:  x29\n",
      "\n",
      "testing feature:  x12  which is feature  9  out of  32\n",
      "New Test R2=0.0977437834915319\n",
      "All features Test R2=0.13541716741459286\n",
      "Increase in r2 = -0.037673383923060966\n",
      "remove:  x12\n",
      "\n",
      "testing feature:  x3  which is feature  10  out of  32\n",
      "New Test R2=0.1056028485829934\n",
      "All features Test R2=0.13541716741459286\n",
      "Increase in r2 = -0.029814318831599462\n",
      "remove:  x3\n",
      "\n",
      "testing feature:  x1  which is feature  11  out of  32\n",
      "New Test R2=0.14471880089639955\n",
      "All features Test R2=0.13541716741459286\n",
      "Increase in r2 = 0.009301633481806681\n",
      "keep:  x1\n",
      "\n",
      "testing feature:  x18  which is feature  12  out of  32\n",
      "New Test R2=0.13541235330475754\n",
      "All features Test R2=0.14471880089639955\n",
      "Increase in r2 = -0.009306447591642009\n",
      "remove:  x18\n",
      "\n",
      "testing feature:  x27  which is feature  13  out of  32\n",
      "New Test R2=0.14471880089639955\n",
      "All features Test R2=0.14471880089639955\n",
      "Increase in r2 = 0.0\n",
      "remove:  x27\n",
      "\n",
      "testing feature:  x15  which is feature  14  out of  32\n",
      "New Test R2=0.11282096433756716\n",
      "All features Test R2=0.14471880089639955\n",
      "Increase in r2 = -0.03189783655883238\n",
      "remove:  x15\n",
      "\n",
      "testing feature:  x21  which is feature  15  out of  32\n",
      "New Test R2=0.14492907662893528\n",
      "All features Test R2=0.14471880089639955\n",
      "Increase in r2 = 0.00021027573253573628\n",
      "remove:  x21\n",
      "\n",
      "testing feature:  x14  which is feature  16  out of  32\n",
      "New Test R2=0.14461246734009103\n",
      "All features Test R2=0.14471880089639955\n",
      "Increase in r2 = -0.00010633355630851327\n",
      "remove:  x14\n",
      "\n",
      "testing feature:  x7  which is feature  17  out of  32\n",
      "New Test R2=0.14404951769986996\n",
      "All features Test R2=0.14471880089639955\n",
      "Increase in r2 = -0.0006692831965295909\n",
      "remove:  x7\n",
      "\n",
      "testing feature:  x20  which is feature  18  out of  32\n",
      "New Test R2=0.14471880089639955\n",
      "All features Test R2=0.14471880089639955\n",
      "Increase in r2 = 0.0\n",
      "remove:  x20\n",
      "\n",
      "testing feature:  x22  which is feature  19  out of  32\n",
      "New Test R2=0.14471880089639955\n",
      "All features Test R2=0.14471880089639955\n",
      "Increase in r2 = 0.0\n",
      "remove:  x22\n",
      "\n",
      "testing feature:  x26  which is feature  20  out of  32\n",
      "New Test R2=0.14688929184223176\n",
      "All features Test R2=0.14471880089639955\n",
      "Increase in r2 = 0.0021704909458322152\n",
      "keep:  x26\n",
      "\n",
      "testing feature:  x11  which is feature  21  out of  32\n",
      "New Test R2=0.14688929184223176\n",
      "All features Test R2=0.14688929184223176\n",
      "Increase in r2 = 0.0\n",
      "remove:  x11\n",
      "\n",
      "testing feature:  x19  which is feature  22  out of  32\n",
      "New Test R2=0.14378155514094704\n",
      "All features Test R2=0.14688929184223176\n",
      "Increase in r2 = -0.0031077367012847246\n",
      "remove:  x19\n",
      "\n",
      "testing feature:  x9  which is feature  23  out of  32\n",
      "New Test R2=0.14688929184223176\n",
      "All features Test R2=0.14688929184223176\n",
      "Increase in r2 = 0.0\n",
      "remove:  x9\n",
      "\n",
      "testing feature:  x8  which is feature  24  out of  32\n",
      "New Test R2=0.13612374918052095\n",
      "All features Test R2=0.14688929184223176\n",
      "Increase in r2 = -0.010765542661710814\n",
      "remove:  x8\n",
      "\n",
      "testing feature:  x17  which is feature  25  out of  32\n",
      "New Test R2=0.14688929184223176\n",
      "All features Test R2=0.14688929184223176\n",
      "Increase in r2 = 0.0\n",
      "remove:  x17\n",
      "\n",
      "testing feature:  x28  which is feature  26  out of  32\n",
      "New Test R2=0.14685058218950586\n",
      "All features Test R2=0.14688929184223176\n",
      "Increase in r2 = -3.870965272589899e-05\n",
      "remove:  x28\n",
      "\n",
      "testing feature:  x5  which is feature  27  out of  32\n",
      "New Test R2=0.14688929184223176\n",
      "All features Test R2=0.14688929184223176\n",
      "Increase in r2 = 0.0\n",
      "remove:  x5\n",
      "\n",
      "testing feature:  x4  which is feature  28  out of  32\n",
      "New Test R2=0.14688929184223176\n",
      "All features Test R2=0.14688929184223176\n",
      "Increase in r2 = 0.0\n",
      "remove:  x4\n",
      "\n",
      "testing feature:  x30  which is feature  29  out of  32\n",
      "New Test R2=0.14688929184223176\n",
      "All features Test R2=0.14688929184223176\n",
      "Increase in r2 = 0.0\n",
      "remove:  x30\n",
      "\n",
      "testing feature:  x2  which is feature  30  out of  32\n",
      "New Test R2=0.14688929184223176\n",
      "All features Test R2=0.14688929184223176\n",
      "Increase in r2 = 0.0\n",
      "remove:  x2\n",
      "\n",
      "testing feature:  x16  which is feature  31  out of  32\n",
      "New Test R2=0.14688929184223176\n",
      "All features Test R2=0.14688929184223176\n",
      "Increase in r2 = 0.0\n",
      "remove:  x16\n",
      "\n",
      "DONE!!\n",
      "total features to keep:  7\n",
      "selected features:  ['x23', 'x25', 'x32', 'x10', 'x31', 'x1', 'x26']\n",
      "final test R2 score=0.14688929184223176\n"
     ]
    }
   ],
   "source": [
    "# Adición de características y evaluación de modelos, una a la vez (en orden de importancia)\n",
    "\n",
    "tol = 0.001\n",
    "\n",
    "print('doing recursive feature addition')\n",
    "\n",
    "features_to_keep = [features[0]]\n",
    "\n",
    "count = 1\n",
    "\n",
    "for feature in features[1:]:\n",
    "    print()\n",
    "    print('testing feature: ', feature, ' which is feature ', count,\n",
    "          ' out of ', len(features))\n",
    "    count = count + 1\n",
    "\n",
    "    model_int = ElasticNet(alpha=1, l1_ratio=0.1)\n",
    "\n",
    "    model_int.fit(\n",
    "        X_train[features_to_keep + [feature] ], Y_train)\n",
    "\n",
    "    y_pred_test = model_int.predict(\n",
    "        X_test[features_to_keep + [feature] ])\n",
    "\n",
    "    r2_score_int = r2_score(Y_test, y_pred_test)\n",
    "    print('New Test R2={}'.format((r2_score_int)))\n",
    "\n",
    "    print('All features Test R2={}'.format((r2_score_first)))\n",
    "\n",
    "    diff_r2 = r2_score_int - r2_score_first\n",
    "\n",
    "    if diff_r2 >= tol:\n",
    "        print('Increase in r2 = {}'.format(diff_r2))\n",
    "        print('keep: ', feature)\n",
    "        print\n",
    "\n",
    "        r2_score_first = r2_score_int\n",
    "\n",
    "        features_to_keep.append(feature)\n",
    "    else:\n",
    "        print('Increase in r2 = {}'.format(diff_r2))\n",
    "        print('remove: ', feature)\n",
    "        print\n",
    "\n",
    "print()\n",
    "print('DONE!!')\n",
    "print('total features to keep: ', len(features_to_keep))\n",
    "print('selected features: ', features_to_keep)\n",
    "print('final test R2 score={}'.format(r2_score_first))"
   ]
  },
  {
   "cell_type": "code",
   "execution_count": 22,
   "metadata": {},
   "outputs": [
    {
     "name": "stdout",
     "output_type": "stream",
     "text": [
      "Test selected features R2=0.146889\n",
      "Test selected features mse=2.597398\n"
     ]
    }
   ],
   "source": [
    "# Modelo con características seleccionadas\n",
    "\n",
    "seed_val = 99\n",
    "np.random.seed(seed_val)\n",
    "\n",
    "final_model = ElasticNet(alpha=1, l1_ratio=0.1)\n",
    "\n",
    "final_model.fit(X_train[features_to_keep], Y_train)\n",
    "\n",
    "y_pred_test = final_model.predict(X_test[features_to_keep])\n",
    "\n",
    "r2_score_final = r2_score(Y_test, y_pred_test)\n",
    "print('Test selected features R2=%f' % (r2_score_final))\n",
    "\n",
    "mse = mean_squared_error(Y_test, y_pred_test)\n",
    "print('Test selected features mse=%f' % (mse))"
   ]
  },
  {
   "cell_type": "code",
   "execution_count": null,
   "metadata": {},
   "outputs": [],
   "source": []
  }
 ],
 "metadata": {
  "kernelspec": {
   "display_name": "Python 3",
   "language": "python",
   "name": "python3"
  },
  "language_info": {
   "codemirror_mode": {
    "name": "ipython",
    "version": 3
   },
   "file_extension": ".py",
   "mimetype": "text/x-python",
   "name": "python",
   "nbconvert_exporter": "python",
   "pygments_lexer": "ipython3",
   "version": "3.7.1"
  }
 },
 "nbformat": 4,
 "nbformat_minor": 2
}
