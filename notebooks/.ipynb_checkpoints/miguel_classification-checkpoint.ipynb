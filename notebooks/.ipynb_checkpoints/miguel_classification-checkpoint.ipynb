{
 "cells": [
  {
   "cell_type": "code",
   "execution_count": 1,
   "metadata": {},
   "outputs": [],
   "source": [
    "# Load Basic libraries to manipulate the data\n",
    "import pandas as pd\n",
    "import numpy as np\n",
    "import matplotlib.pyplot as plt\n",
    "import seaborn as sns\n",
    "%matplotlib inline"
   ]
  },
  {
   "cell_type": "code",
   "execution_count": 29,
   "metadata": {},
   "outputs": [],
   "source": [
    "# Load models and metrics for those models\n",
    "from sklearn.preprocessing import StandardScaler, MinMaxScaler\n",
    "from sklearn.impute import SimpleImputer\n",
    "from sklearn.pipeline import Pipeline\n",
    "\n",
    "from sklearn.feature_selection import mutual_info_classif\n",
    "\n",
    "from sklearn.model_selection import GridSearchCV\n",
    "\n",
    "from sklearn.ensemble import GradientBoostingClassifier\n",
    "from sklearn.neural_network import MLPClassifier\n",
    "from sklearn.metrics import recall_score, roc_auc_score, classification_report"
   ]
  },
  {
   "cell_type": "code",
   "execution_count": 3,
   "metadata": {},
   "outputs": [],
   "source": [
    "# load data\n",
    "bin_data = pd.read_csv('../data/train/databinarystudents_train.csv')"
   ]
  },
  {
   "cell_type": "code",
   "execution_count": 4,
   "metadata": {},
   "outputs": [
    {
     "data": {
      "text/plain": [
       "Index(['id', 'yL', 'x1', 'x2', 'x3', 'x4', 'x5', 'x6', 'x7', 'x8', 'x9', 'x10',\n",
       "       'x11', 'x12', 'x13', 'x14', 'x15', 'x16', 'x17', 'x18', 'x19', 'x20',\n",
       "       'x21', 'x22', 'x23', 'x24', 'x25', 'x26', 'x27', 'x28', 'x29', 'x30',\n",
       "       'x31', 'x32'],\n",
       "      dtype='object')"
      ]
     },
     "execution_count": 4,
     "metadata": {},
     "output_type": "execute_result"
    }
   ],
   "source": [
    "bin_data.columns"
   ]
  },
  {
   "cell_type": "code",
   "execution_count": 5,
   "metadata": {},
   "outputs": [],
   "source": [
    "bin_data.drop(['id'], axis=1, inplace=True)"
   ]
  },
  {
   "cell_type": "code",
   "execution_count": 6,
   "metadata": {},
   "outputs": [
    {
     "data": {
      "text/html": [
       "<div>\n",
       "<style scoped>\n",
       "    .dataframe tbody tr th:only-of-type {\n",
       "        vertical-align: middle;\n",
       "    }\n",
       "\n",
       "    .dataframe tbody tr th {\n",
       "        vertical-align: top;\n",
       "    }\n",
       "\n",
       "    .dataframe thead th {\n",
       "        text-align: right;\n",
       "    }\n",
       "</style>\n",
       "<table border=\"1\" class=\"dataframe\">\n",
       "  <thead>\n",
       "    <tr style=\"text-align: right;\">\n",
       "      <th></th>\n",
       "      <th>yL</th>\n",
       "      <th>x1</th>\n",
       "      <th>x2</th>\n",
       "      <th>x3</th>\n",
       "      <th>x4</th>\n",
       "      <th>x5</th>\n",
       "      <th>x6</th>\n",
       "      <th>x7</th>\n",
       "      <th>x8</th>\n",
       "      <th>x9</th>\n",
       "      <th>...</th>\n",
       "      <th>x23</th>\n",
       "      <th>x24</th>\n",
       "      <th>x25</th>\n",
       "      <th>x26</th>\n",
       "      <th>x27</th>\n",
       "      <th>x28</th>\n",
       "      <th>x29</th>\n",
       "      <th>x30</th>\n",
       "      <th>x31</th>\n",
       "      <th>x32</th>\n",
       "    </tr>\n",
       "  </thead>\n",
       "  <tbody>\n",
       "    <tr>\n",
       "      <th>count</th>\n",
       "      <td>120.000000</td>\n",
       "      <td>120.000000</td>\n",
       "      <td>120.000000</td>\n",
       "      <td>120.000000</td>\n",
       "      <td>120.000000</td>\n",
       "      <td>120.000000</td>\n",
       "      <td>120.000000</td>\n",
       "      <td>120.000000</td>\n",
       "      <td>120.000000</td>\n",
       "      <td>120.000000</td>\n",
       "      <td>...</td>\n",
       "      <td>120.000000</td>\n",
       "      <td>120.000000</td>\n",
       "      <td>120.000000</td>\n",
       "      <td>120.000000</td>\n",
       "      <td>120.000000</td>\n",
       "      <td>120.000000</td>\n",
       "      <td>120.000000</td>\n",
       "      <td>120.000000</td>\n",
       "      <td>120.000000</td>\n",
       "      <td>120.000000</td>\n",
       "    </tr>\n",
       "    <tr>\n",
       "      <th>mean</th>\n",
       "      <td>0.666667</td>\n",
       "      <td>63.887836</td>\n",
       "      <td>51.545833</td>\n",
       "      <td>0.316667</td>\n",
       "      <td>0.150000</td>\n",
       "      <td>0.050000</td>\n",
       "      <td>0.091667</td>\n",
       "      <td>0.125000</td>\n",
       "      <td>15.383806</td>\n",
       "      <td>26.425000</td>\n",
       "      <td>...</td>\n",
       "      <td>0.254489</td>\n",
       "      <td>0.037739</td>\n",
       "      <td>6.325000</td>\n",
       "      <td>5.608333</td>\n",
       "      <td>79.625782</td>\n",
       "      <td>0.125000</td>\n",
       "      <td>0.066667</td>\n",
       "      <td>4.108333</td>\n",
       "      <td>0.296166</td>\n",
       "      <td>0.509870</td>\n",
       "    </tr>\n",
       "    <tr>\n",
       "      <th>std</th>\n",
       "      <td>0.473381</td>\n",
       "      <td>10.216179</td>\n",
       "      <td>41.591189</td>\n",
       "      <td>0.467127</td>\n",
       "      <td>0.358569</td>\n",
       "      <td>0.218859</td>\n",
       "      <td>0.289765</td>\n",
       "      <td>0.332106</td>\n",
       "      <td>1.952842</td>\n",
       "      <td>15.826614</td>\n",
       "      <td>...</td>\n",
       "      <td>0.352119</td>\n",
       "      <td>0.148418</td>\n",
       "      <td>0.918187</td>\n",
       "      <td>0.972702</td>\n",
       "      <td>50.109709</td>\n",
       "      <td>0.332106</td>\n",
       "      <td>0.250490</td>\n",
       "      <td>2.152957</td>\n",
       "      <td>0.199186</td>\n",
       "      <td>0.306627</td>\n",
       "    </tr>\n",
       "    <tr>\n",
       "      <th>min</th>\n",
       "      <td>0.000000</td>\n",
       "      <td>34.217000</td>\n",
       "      <td>4.600000</td>\n",
       "      <td>0.000000</td>\n",
       "      <td>0.000000</td>\n",
       "      <td>0.000000</td>\n",
       "      <td>0.000000</td>\n",
       "      <td>0.000000</td>\n",
       "      <td>11.107900</td>\n",
       "      <td>0.000000</td>\n",
       "      <td>...</td>\n",
       "      <td>0.000000</td>\n",
       "      <td>0.000000</td>\n",
       "      <td>4.000000</td>\n",
       "      <td>3.000000</td>\n",
       "      <td>11.087400</td>\n",
       "      <td>0.000000</td>\n",
       "      <td>0.000000</td>\n",
       "      <td>1.000000</td>\n",
       "      <td>0.011540</td>\n",
       "      <td>0.023037</td>\n",
       "    </tr>\n",
       "    <tr>\n",
       "      <th>25%</th>\n",
       "      <td>0.000000</td>\n",
       "      <td>56.677750</td>\n",
       "      <td>16.075000</td>\n",
       "      <td>0.000000</td>\n",
       "      <td>0.000000</td>\n",
       "      <td>0.000000</td>\n",
       "      <td>0.000000</td>\n",
       "      <td>0.000000</td>\n",
       "      <td>14.282493</td>\n",
       "      <td>22.750000</td>\n",
       "      <td>...</td>\n",
       "      <td>0.002000</td>\n",
       "      <td>0.000000</td>\n",
       "      <td>6.000000</td>\n",
       "      <td>5.000000</td>\n",
       "      <td>44.144175</td>\n",
       "      <td>0.000000</td>\n",
       "      <td>0.000000</td>\n",
       "      <td>2.000000</td>\n",
       "      <td>0.098875</td>\n",
       "      <td>0.190509</td>\n",
       "    </tr>\n",
       "    <tr>\n",
       "      <th>50%</th>\n",
       "      <td>1.000000</td>\n",
       "      <td>67.518000</td>\n",
       "      <td>40.650000</td>\n",
       "      <td>0.000000</td>\n",
       "      <td>0.000000</td>\n",
       "      <td>0.000000</td>\n",
       "      <td>0.000000</td>\n",
       "      <td>0.000000</td>\n",
       "      <td>15.382245</td>\n",
       "      <td>31.000000</td>\n",
       "      <td>...</td>\n",
       "      <td>0.033750</td>\n",
       "      <td>0.000100</td>\n",
       "      <td>6.000000</td>\n",
       "      <td>6.000000</td>\n",
       "      <td>70.322450</td>\n",
       "      <td>0.000000</td>\n",
       "      <td>0.000000</td>\n",
       "      <td>4.000000</td>\n",
       "      <td>0.263287</td>\n",
       "      <td>0.493752</td>\n",
       "    </tr>\n",
       "    <tr>\n",
       "      <th>75%</th>\n",
       "      <td>1.000000</td>\n",
       "      <td>71.182049</td>\n",
       "      <td>82.975000</td>\n",
       "      <td>1.000000</td>\n",
       "      <td>0.000000</td>\n",
       "      <td>0.000000</td>\n",
       "      <td>0.000000</td>\n",
       "      <td>0.000000</td>\n",
       "      <td>16.608645</td>\n",
       "      <td>37.250000</td>\n",
       "      <td>...</td>\n",
       "      <td>0.455000</td>\n",
       "      <td>0.001525</td>\n",
       "      <td>7.000000</td>\n",
       "      <td>6.000000</td>\n",
       "      <td>105.504000</td>\n",
       "      <td>0.000000</td>\n",
       "      <td>0.000000</td>\n",
       "      <td>6.000000</td>\n",
       "      <td>0.494643</td>\n",
       "      <td>0.816140</td>\n",
       "    </tr>\n",
       "    <tr>\n",
       "      <th>max</th>\n",
       "      <td>1.000000</td>\n",
       "      <td>78.836829</td>\n",
       "      <td>173.700000</td>\n",
       "      <td>1.000000</td>\n",
       "      <td>1.000000</td>\n",
       "      <td>1.000000</td>\n",
       "      <td>1.000000</td>\n",
       "      <td>1.000000</td>\n",
       "      <td>20.850060</td>\n",
       "      <td>45.000000</td>\n",
       "      <td>...</td>\n",
       "      <td>0.994200</td>\n",
       "      <td>0.846600</td>\n",
       "      <td>8.000000</td>\n",
       "      <td>7.000000</td>\n",
       "      <td>344.830000</td>\n",
       "      <td>1.000000</td>\n",
       "      <td>1.000000</td>\n",
       "      <td>7.000000</td>\n",
       "      <td>0.662330</td>\n",
       "      <td>0.996328</td>\n",
       "    </tr>\n",
       "  </tbody>\n",
       "</table>\n",
       "<p>8 rows × 33 columns</p>\n",
       "</div>"
      ],
      "text/plain": [
       "               yL          x1          x2          x3          x4          x5  \\\n",
       "count  120.000000  120.000000  120.000000  120.000000  120.000000  120.000000   \n",
       "mean     0.666667   63.887836   51.545833    0.316667    0.150000    0.050000   \n",
       "std      0.473381   10.216179   41.591189    0.467127    0.358569    0.218859   \n",
       "min      0.000000   34.217000    4.600000    0.000000    0.000000    0.000000   \n",
       "25%      0.000000   56.677750   16.075000    0.000000    0.000000    0.000000   \n",
       "50%      1.000000   67.518000   40.650000    0.000000    0.000000    0.000000   \n",
       "75%      1.000000   71.182049   82.975000    1.000000    0.000000    0.000000   \n",
       "max      1.000000   78.836829  173.700000    1.000000    1.000000    1.000000   \n",
       "\n",
       "               x6          x7          x8          x9  ...         x23  \\\n",
       "count  120.000000  120.000000  120.000000  120.000000  ...  120.000000   \n",
       "mean     0.091667    0.125000   15.383806   26.425000  ...    0.254489   \n",
       "std      0.289765    0.332106    1.952842   15.826614  ...    0.352119   \n",
       "min      0.000000    0.000000   11.107900    0.000000  ...    0.000000   \n",
       "25%      0.000000    0.000000   14.282493   22.750000  ...    0.002000   \n",
       "50%      0.000000    0.000000   15.382245   31.000000  ...    0.033750   \n",
       "75%      0.000000    0.000000   16.608645   37.250000  ...    0.455000   \n",
       "max      1.000000    1.000000   20.850060   45.000000  ...    0.994200   \n",
       "\n",
       "              x24         x25         x26         x27         x28         x29  \\\n",
       "count  120.000000  120.000000  120.000000  120.000000  120.000000  120.000000   \n",
       "mean     0.037739    6.325000    5.608333   79.625782    0.125000    0.066667   \n",
       "std      0.148418    0.918187    0.972702   50.109709    0.332106    0.250490   \n",
       "min      0.000000    4.000000    3.000000   11.087400    0.000000    0.000000   \n",
       "25%      0.000000    6.000000    5.000000   44.144175    0.000000    0.000000   \n",
       "50%      0.000100    6.000000    6.000000   70.322450    0.000000    0.000000   \n",
       "75%      0.001525    7.000000    6.000000  105.504000    0.000000    0.000000   \n",
       "max      0.846600    8.000000    7.000000  344.830000    1.000000    1.000000   \n",
       "\n",
       "              x30         x31         x32  \n",
       "count  120.000000  120.000000  120.000000  \n",
       "mean     4.108333    0.296166    0.509870  \n",
       "std      2.152957    0.199186    0.306627  \n",
       "min      1.000000    0.011540    0.023037  \n",
       "25%      2.000000    0.098875    0.190509  \n",
       "50%      4.000000    0.263287    0.493752  \n",
       "75%      6.000000    0.494643    0.816140  \n",
       "max      7.000000    0.662330    0.996328  \n",
       "\n",
       "[8 rows x 33 columns]"
      ]
     },
     "execution_count": 6,
     "metadata": {},
     "output_type": "execute_result"
    }
   ],
   "source": [
    "bin_data.describe()"
   ]
  },
  {
   "cell_type": "code",
   "execution_count": 7,
   "metadata": {},
   "outputs": [
    {
     "data": {
      "text/html": [
       "<div>\n",
       "<style scoped>\n",
       "    .dataframe tbody tr th:only-of-type {\n",
       "        vertical-align: middle;\n",
       "    }\n",
       "\n",
       "    .dataframe tbody tr th {\n",
       "        vertical-align: top;\n",
       "    }\n",
       "\n",
       "    .dataframe thead th {\n",
       "        text-align: right;\n",
       "    }\n",
       "</style>\n",
       "<table border=\"1\" class=\"dataframe\">\n",
       "  <thead>\n",
       "    <tr style=\"text-align: right;\">\n",
       "      <th></th>\n",
       "      <th>yL</th>\n",
       "      <th>x1</th>\n",
       "      <th>x2</th>\n",
       "      <th>x3</th>\n",
       "      <th>x4</th>\n",
       "      <th>x5</th>\n",
       "      <th>x6</th>\n",
       "      <th>x7</th>\n",
       "      <th>x8</th>\n",
       "      <th>x9</th>\n",
       "      <th>...</th>\n",
       "      <th>x23</th>\n",
       "      <th>x24</th>\n",
       "      <th>x25</th>\n",
       "      <th>x26</th>\n",
       "      <th>x27</th>\n",
       "      <th>x28</th>\n",
       "      <th>x29</th>\n",
       "      <th>x30</th>\n",
       "      <th>x31</th>\n",
       "      <th>x32</th>\n",
       "    </tr>\n",
       "  </thead>\n",
       "  <tbody>\n",
       "    <tr>\n",
       "      <th>0</th>\n",
       "      <td>1.0</td>\n",
       "      <td>49.856000</td>\n",
       "      <td>118.8</td>\n",
       "      <td>1.0</td>\n",
       "      <td>0.0</td>\n",
       "      <td>0.0</td>\n",
       "      <td>0.0</td>\n",
       "      <td>0.0</td>\n",
       "      <td>16.32096</td>\n",
       "      <td>0.0</td>\n",
       "      <td>...</td>\n",
       "      <td>0.9709</td>\n",
       "      <td>0.0003</td>\n",
       "      <td>6.0</td>\n",
       "      <td>6.0</td>\n",
       "      <td>24.7138</td>\n",
       "      <td>0.0</td>\n",
       "      <td>0.0</td>\n",
       "      <td>7.0</td>\n",
       "      <td>0.056546</td>\n",
       "      <td>0.112860</td>\n",
       "    </tr>\n",
       "    <tr>\n",
       "      <th>1</th>\n",
       "      <td>1.0</td>\n",
       "      <td>71.836000</td>\n",
       "      <td>34.8</td>\n",
       "      <td>0.0</td>\n",
       "      <td>0.0</td>\n",
       "      <td>0.0</td>\n",
       "      <td>0.0</td>\n",
       "      <td>1.0</td>\n",
       "      <td>15.00535</td>\n",
       "      <td>44.0</td>\n",
       "      <td>...</td>\n",
       "      <td>0.4200</td>\n",
       "      <td>0.0000</td>\n",
       "      <td>8.0</td>\n",
       "      <td>4.0</td>\n",
       "      <td>38.0658</td>\n",
       "      <td>0.0</td>\n",
       "      <td>0.0</td>\n",
       "      <td>7.0</td>\n",
       "      <td>0.655260</td>\n",
       "      <td>0.886908</td>\n",
       "    </tr>\n",
       "    <tr>\n",
       "      <th>2</th>\n",
       "      <td>1.0</td>\n",
       "      <td>66.725000</td>\n",
       "      <td>41.8</td>\n",
       "      <td>0.0</td>\n",
       "      <td>1.0</td>\n",
       "      <td>0.0</td>\n",
       "      <td>0.0</td>\n",
       "      <td>0.0</td>\n",
       "      <td>17.07023</td>\n",
       "      <td>27.0</td>\n",
       "      <td>...</td>\n",
       "      <td>0.9650</td>\n",
       "      <td>0.0000</td>\n",
       "      <td>6.0</td>\n",
       "      <td>6.0</td>\n",
       "      <td>48.3807</td>\n",
       "      <td>0.0</td>\n",
       "      <td>1.0</td>\n",
       "      <td>4.0</td>\n",
       "      <td>0.067855</td>\n",
       "      <td>0.133944</td>\n",
       "    </tr>\n",
       "    <tr>\n",
       "      <th>3</th>\n",
       "      <td>0.0</td>\n",
       "      <td>41.696000</td>\n",
       "      <td>132.0</td>\n",
       "      <td>0.0</td>\n",
       "      <td>0.0</td>\n",
       "      <td>1.0</td>\n",
       "      <td>0.0</td>\n",
       "      <td>0.0</td>\n",
       "      <td>16.31460</td>\n",
       "      <td>0.0</td>\n",
       "      <td>...</td>\n",
       "      <td>0.0091</td>\n",
       "      <td>0.0001</td>\n",
       "      <td>6.0</td>\n",
       "      <td>4.0</td>\n",
       "      <td>59.8410</td>\n",
       "      <td>0.0</td>\n",
       "      <td>0.0</td>\n",
       "      <td>7.0</td>\n",
       "      <td>0.133230</td>\n",
       "      <td>0.260102</td>\n",
       "    </tr>\n",
       "    <tr>\n",
       "      <th>4</th>\n",
       "      <td>1.0</td>\n",
       "      <td>71.351000</td>\n",
       "      <td>24.2</td>\n",
       "      <td>1.0</td>\n",
       "      <td>0.0</td>\n",
       "      <td>0.0</td>\n",
       "      <td>0.0</td>\n",
       "      <td>0.0</td>\n",
       "      <td>11.10790</td>\n",
       "      <td>31.0</td>\n",
       "      <td>...</td>\n",
       "      <td>0.0051</td>\n",
       "      <td>0.0000</td>\n",
       "      <td>5.0</td>\n",
       "      <td>7.0</td>\n",
       "      <td>175.9250</td>\n",
       "      <td>0.0</td>\n",
       "      <td>0.0</td>\n",
       "      <td>3.0</td>\n",
       "      <td>0.318584</td>\n",
       "      <td>0.627729</td>\n",
       "    </tr>\n",
       "    <tr>\n",
       "      <th>5</th>\n",
       "      <td>1.0</td>\n",
       "      <td>71.565000</td>\n",
       "      <td>25.4</td>\n",
       "      <td>0.0</td>\n",
       "      <td>0.0</td>\n",
       "      <td>0.0</td>\n",
       "      <td>1.0</td>\n",
       "      <td>0.0</td>\n",
       "      <td>17.30379</td>\n",
       "      <td>38.0</td>\n",
       "      <td>...</td>\n",
       "      <td>0.0000</td>\n",
       "      <td>0.0000</td>\n",
       "      <td>5.0</td>\n",
       "      <td>7.0</td>\n",
       "      <td>14.9909</td>\n",
       "      <td>1.0</td>\n",
       "      <td>0.0</td>\n",
       "      <td>1.0</td>\n",
       "      <td>0.173189</td>\n",
       "      <td>0.330825</td>\n",
       "    </tr>\n",
       "    <tr>\n",
       "      <th>6</th>\n",
       "      <td>1.0</td>\n",
       "      <td>67.879000</td>\n",
       "      <td>42.3</td>\n",
       "      <td>0.0</td>\n",
       "      <td>0.0</td>\n",
       "      <td>0.0</td>\n",
       "      <td>0.0</td>\n",
       "      <td>1.0</td>\n",
       "      <td>15.07912</td>\n",
       "      <td>31.0</td>\n",
       "      <td>...</td>\n",
       "      <td>0.0022</td>\n",
       "      <td>0.0001</td>\n",
       "      <td>7.0</td>\n",
       "      <td>3.0</td>\n",
       "      <td>81.3357</td>\n",
       "      <td>0.0</td>\n",
       "      <td>0.0</td>\n",
       "      <td>5.0</td>\n",
       "      <td>0.219665</td>\n",
       "      <td>0.436101</td>\n",
       "    </tr>\n",
       "    <tr>\n",
       "      <th>7</th>\n",
       "      <td>0.0</td>\n",
       "      <td>76.994634</td>\n",
       "      <td>7.6</td>\n",
       "      <td>1.0</td>\n",
       "      <td>0.0</td>\n",
       "      <td>0.0</td>\n",
       "      <td>0.0</td>\n",
       "      <td>0.0</td>\n",
       "      <td>16.65255</td>\n",
       "      <td>45.0</td>\n",
       "      <td>...</td>\n",
       "      <td>0.0094</td>\n",
       "      <td>0.0082</td>\n",
       "      <td>6.0</td>\n",
       "      <td>6.0</td>\n",
       "      <td>31.9150</td>\n",
       "      <td>1.0</td>\n",
       "      <td>0.0</td>\n",
       "      <td>1.0</td>\n",
       "      <td>0.297416</td>\n",
       "      <td>0.558743</td>\n",
       "    </tr>\n",
       "    <tr>\n",
       "      <th>8</th>\n",
       "      <td>1.0</td>\n",
       "      <td>75.568293</td>\n",
       "      <td>8.0</td>\n",
       "      <td>0.0</td>\n",
       "      <td>0.0</td>\n",
       "      <td>0.0</td>\n",
       "      <td>0.0</td>\n",
       "      <td>0.0</td>\n",
       "      <td>15.85385</td>\n",
       "      <td>45.0</td>\n",
       "      <td>...</td>\n",
       "      <td>0.0204</td>\n",
       "      <td>0.0000</td>\n",
       "      <td>8.0</td>\n",
       "      <td>4.0</td>\n",
       "      <td>73.9691</td>\n",
       "      <td>1.0</td>\n",
       "      <td>0.0</td>\n",
       "      <td>1.0</td>\n",
       "      <td>0.285290</td>\n",
       "      <td>0.539237</td>\n",
       "    </tr>\n",
       "    <tr>\n",
       "      <th>9</th>\n",
       "      <td>1.0</td>\n",
       "      <td>70.705000</td>\n",
       "      <td>19.6</td>\n",
       "      <td>1.0</td>\n",
       "      <td>0.0</td>\n",
       "      <td>0.0</td>\n",
       "      <td>0.0</td>\n",
       "      <td>0.0</td>\n",
       "      <td>12.45424</td>\n",
       "      <td>31.0</td>\n",
       "      <td>...</td>\n",
       "      <td>0.0000</td>\n",
       "      <td>0.0000</td>\n",
       "      <td>6.0</td>\n",
       "      <td>6.0</td>\n",
       "      <td>110.1200</td>\n",
       "      <td>0.0</td>\n",
       "      <td>0.0</td>\n",
       "      <td>2.0</td>\n",
       "      <td>0.292938</td>\n",
       "      <td>0.583095</td>\n",
       "    </tr>\n",
       "    <tr>\n",
       "      <th>10</th>\n",
       "      <td>1.0</td>\n",
       "      <td>72.390000</td>\n",
       "      <td>19.6</td>\n",
       "      <td>1.0</td>\n",
       "      <td>0.0</td>\n",
       "      <td>0.0</td>\n",
       "      <td>0.0</td>\n",
       "      <td>0.0</td>\n",
       "      <td>13.11419</td>\n",
       "      <td>31.0</td>\n",
       "      <td>...</td>\n",
       "      <td>0.8635</td>\n",
       "      <td>0.0002</td>\n",
       "      <td>6.0</td>\n",
       "      <td>6.0</td>\n",
       "      <td>210.1610</td>\n",
       "      <td>0.0</td>\n",
       "      <td>0.0</td>\n",
       "      <td>6.0</td>\n",
       "      <td>0.244678</td>\n",
       "      <td>0.442987</td>\n",
       "    </tr>\n",
       "    <tr>\n",
       "      <th>11</th>\n",
       "      <td>1.0</td>\n",
       "      <td>71.383000</td>\n",
       "      <td>16.0</td>\n",
       "      <td>1.0</td>\n",
       "      <td>0.0</td>\n",
       "      <td>0.0</td>\n",
       "      <td>0.0</td>\n",
       "      <td>0.0</td>\n",
       "      <td>12.46987</td>\n",
       "      <td>31.0</td>\n",
       "      <td>...</td>\n",
       "      <td>0.0042</td>\n",
       "      <td>0.0004</td>\n",
       "      <td>6.0</td>\n",
       "      <td>6.0</td>\n",
       "      <td>100.8310</td>\n",
       "      <td>0.0</td>\n",
       "      <td>0.0</td>\n",
       "      <td>1.0</td>\n",
       "      <td>0.431135</td>\n",
       "      <td>0.850350</td>\n",
       "    </tr>\n",
       "    <tr>\n",
       "      <th>12</th>\n",
       "      <td>1.0</td>\n",
       "      <td>70.836585</td>\n",
       "      <td>12.2</td>\n",
       "      <td>0.0</td>\n",
       "      <td>0.0</td>\n",
       "      <td>0.0</td>\n",
       "      <td>0.0</td>\n",
       "      <td>0.0</td>\n",
       "      <td>16.13682</td>\n",
       "      <td>31.0</td>\n",
       "      <td>...</td>\n",
       "      <td>0.0015</td>\n",
       "      <td>0.0001</td>\n",
       "      <td>5.0</td>\n",
       "      <td>6.0</td>\n",
       "      <td>89.6074</td>\n",
       "      <td>0.0</td>\n",
       "      <td>0.0</td>\n",
       "      <td>4.0</td>\n",
       "      <td>0.425556</td>\n",
       "      <td>0.839806</td>\n",
       "    </tr>\n",
       "    <tr>\n",
       "      <th>13</th>\n",
       "      <td>1.0</td>\n",
       "      <td>76.051951</td>\n",
       "      <td>8.3</td>\n",
       "      <td>0.0</td>\n",
       "      <td>0.0</td>\n",
       "      <td>0.0</td>\n",
       "      <td>0.0</td>\n",
       "      <td>0.0</td>\n",
       "      <td>16.11483</td>\n",
       "      <td>45.0</td>\n",
       "      <td>...</td>\n",
       "      <td>0.0316</td>\n",
       "      <td>0.0020</td>\n",
       "      <td>6.0</td>\n",
       "      <td>6.0</td>\n",
       "      <td>132.3320</td>\n",
       "      <td>1.0</td>\n",
       "      <td>0.0</td>\n",
       "      <td>1.0</td>\n",
       "      <td>0.260125</td>\n",
       "      <td>0.476567</td>\n",
       "    </tr>\n",
       "    <tr>\n",
       "      <th>14</th>\n",
       "      <td>0.0</td>\n",
       "      <td>71.246000</td>\n",
       "      <td>31.3</td>\n",
       "      <td>1.0</td>\n",
       "      <td>0.0</td>\n",
       "      <td>0.0</td>\n",
       "      <td>0.0</td>\n",
       "      <td>0.0</td>\n",
       "      <td>12.14181</td>\n",
       "      <td>31.0</td>\n",
       "      <td>...</td>\n",
       "      <td>0.0053</td>\n",
       "      <td>0.0032</td>\n",
       "      <td>6.0</td>\n",
       "      <td>6.0</td>\n",
       "      <td>122.2850</td>\n",
       "      <td>0.0</td>\n",
       "      <td>0.0</td>\n",
       "      <td>1.0</td>\n",
       "      <td>0.234838</td>\n",
       "      <td>0.445292</td>\n",
       "    </tr>\n",
       "  </tbody>\n",
       "</table>\n",
       "<p>15 rows × 33 columns</p>\n",
       "</div>"
      ],
      "text/plain": [
       "     yL         x1     x2   x3   x4   x5   x6   x7        x8    x9  ...  \\\n",
       "0   1.0  49.856000  118.8  1.0  0.0  0.0  0.0  0.0  16.32096   0.0  ...   \n",
       "1   1.0  71.836000   34.8  0.0  0.0  0.0  0.0  1.0  15.00535  44.0  ...   \n",
       "2   1.0  66.725000   41.8  0.0  1.0  0.0  0.0  0.0  17.07023  27.0  ...   \n",
       "3   0.0  41.696000  132.0  0.0  0.0  1.0  0.0  0.0  16.31460   0.0  ...   \n",
       "4   1.0  71.351000   24.2  1.0  0.0  0.0  0.0  0.0  11.10790  31.0  ...   \n",
       "5   1.0  71.565000   25.4  0.0  0.0  0.0  1.0  0.0  17.30379  38.0  ...   \n",
       "6   1.0  67.879000   42.3  0.0  0.0  0.0  0.0  1.0  15.07912  31.0  ...   \n",
       "7   0.0  76.994634    7.6  1.0  0.0  0.0  0.0  0.0  16.65255  45.0  ...   \n",
       "8   1.0  75.568293    8.0  0.0  0.0  0.0  0.0  0.0  15.85385  45.0  ...   \n",
       "9   1.0  70.705000   19.6  1.0  0.0  0.0  0.0  0.0  12.45424  31.0  ...   \n",
       "10  1.0  72.390000   19.6  1.0  0.0  0.0  0.0  0.0  13.11419  31.0  ...   \n",
       "11  1.0  71.383000   16.0  1.0  0.0  0.0  0.0  0.0  12.46987  31.0  ...   \n",
       "12  1.0  70.836585   12.2  0.0  0.0  0.0  0.0  0.0  16.13682  31.0  ...   \n",
       "13  1.0  76.051951    8.3  0.0  0.0  0.0  0.0  0.0  16.11483  45.0  ...   \n",
       "14  0.0  71.246000   31.3  1.0  0.0  0.0  0.0  0.0  12.14181  31.0  ...   \n",
       "\n",
       "       x23     x24  x25  x26       x27  x28  x29  x30       x31       x32  \n",
       "0   0.9709  0.0003  6.0  6.0   24.7138  0.0  0.0  7.0  0.056546  0.112860  \n",
       "1   0.4200  0.0000  8.0  4.0   38.0658  0.0  0.0  7.0  0.655260  0.886908  \n",
       "2   0.9650  0.0000  6.0  6.0   48.3807  0.0  1.0  4.0  0.067855  0.133944  \n",
       "3   0.0091  0.0001  6.0  4.0   59.8410  0.0  0.0  7.0  0.133230  0.260102  \n",
       "4   0.0051  0.0000  5.0  7.0  175.9250  0.0  0.0  3.0  0.318584  0.627729  \n",
       "5   0.0000  0.0000  5.0  7.0   14.9909  1.0  0.0  1.0  0.173189  0.330825  \n",
       "6   0.0022  0.0001  7.0  3.0   81.3357  0.0  0.0  5.0  0.219665  0.436101  \n",
       "7   0.0094  0.0082  6.0  6.0   31.9150  1.0  0.0  1.0  0.297416  0.558743  \n",
       "8   0.0204  0.0000  8.0  4.0   73.9691  1.0  0.0  1.0  0.285290  0.539237  \n",
       "9   0.0000  0.0000  6.0  6.0  110.1200  0.0  0.0  2.0  0.292938  0.583095  \n",
       "10  0.8635  0.0002  6.0  6.0  210.1610  0.0  0.0  6.0  0.244678  0.442987  \n",
       "11  0.0042  0.0004  6.0  6.0  100.8310  0.0  0.0  1.0  0.431135  0.850350  \n",
       "12  0.0015  0.0001  5.0  6.0   89.6074  0.0  0.0  4.0  0.425556  0.839806  \n",
       "13  0.0316  0.0020  6.0  6.0  132.3320  1.0  0.0  1.0  0.260125  0.476567  \n",
       "14  0.0053  0.0032  6.0  6.0  122.2850  0.0  0.0  1.0  0.234838  0.445292  \n",
       "\n",
       "[15 rows x 33 columns]"
      ]
     },
     "execution_count": 7,
     "metadata": {},
     "output_type": "execute_result"
    }
   ],
   "source": [
    "bin_data.head(15)"
   ]
  },
  {
   "cell_type": "code",
   "execution_count": 8,
   "metadata": {},
   "outputs": [
    {
     "data": {
      "text/plain": [
       "<matplotlib.axes._subplots.AxesSubplot at 0x26d7eb31a90>"
      ]
     },
     "execution_count": 8,
     "metadata": {},
     "output_type": "execute_result"
    },
    {
     "data": {
      "image/png": "[encoded data removed]",
      "text/plain": [
       "<Figure size 1800x1800 with 2 Axes>"
      ]
     },
     "metadata": {
      "needs_background": "light"
     },
     "output_type": "display_data"
    }
   ],
   "source": [
    "corr_data = bin_data.corr().abs()\n",
    "\n",
    "fig, ax = plt.subplots()\n",
    "fig.set_size_inches(25,25)\n",
    "sns.heatmap(corr_data)"
   ]
  },
  {
   "cell_type": "code",
   "execution_count": 9,
   "metadata": {},
   "outputs": [],
   "source": [
    "data = bin_data.drop(['yL'], axis=1)\n",
    "target = bin_data['yL']"
   ]
  },
  {
   "cell_type": "code",
   "execution_count": 10,
   "metadata": {},
   "outputs": [
    {
     "data": {
      "text/plain": [
       "<matplotlib.axes._subplots.AxesSubplot at 0x26d7ef0f4e0>"
      ]
     },
     "execution_count": 10,
     "metadata": {},
     "output_type": "execute_result"
    },
    {
     "data": {
      "image/png": "[encoded data removed]",
      "text/plain": [
       "<Figure size 432x288 with 1 Axes>"
      ]
     },
     "metadata": {
      "needs_background": "light"
     },
     "output_type": "display_data"
    }
   ],
   "source": [
    "target.value_counts().plot(kind='bar')"
   ]
  },
  {
   "cell_type": "code",
   "execution_count": 11,
   "metadata": {},
   "outputs": [],
   "source": [
    "numerical_features = ['x1', 'x2', 'x8', 'x10', 'x11','x12','x21','x22','x23','x24','x27','x31','x32']"
   ]
  },
  {
   "cell_type": "code",
   "execution_count": 12,
   "metadata": {},
   "outputs": [],
   "source": [
    "categorical_features = ['x3','x4','x5','x6','x7','x13','x14',\n",
    "                        'x15','x16','x17','x18','x19','x20','x28','x29']"
   ]
  },
  {
   "cell_type": "code",
   "execution_count": 13,
   "metadata": {},
   "outputs": [],
   "source": [
    "count_features = [i for i in data.columns if i not in numerical_features and i not in categorical_features]"
   ]
  },
  {
   "cell_type": "code",
   "execution_count": 14,
   "metadata": {},
   "outputs": [],
   "source": [
    "si = SimpleImputer(strategy='median').fit(data[numerical_features + count_features])"
   ]
  },
  {
   "cell_type": "code",
   "execution_count": 15,
   "metadata": {},
   "outputs": [],
   "source": [
    "data[numerical_features + count_features] = si.transform(data[numerical_features + count_features])"
   ]
  },
  {
   "cell_type": "code",
   "execution_count": 16,
   "metadata": {},
   "outputs": [],
   "source": [
    "se = StandardScaler().fit(data[numerical_features])\n",
    "mms = MinMaxScaler().fit(data[count_features])"
   ]
  },
  {
   "cell_type": "code",
   "execution_count": 17,
   "metadata": {},
   "outputs": [],
   "source": [
    "data[numerical_features] = se.transform(data[numerical_features])\n",
    "data[count_features] = mms.transform(data[count_features])"
   ]
  },
  {
   "cell_type": "code",
   "execution_count": 18,
   "metadata": {},
   "outputs": [
    {
     "data": {
      "text/plain": [
       "0      1.0\n",
       "1      1.0\n",
       "2      1.0\n",
       "3      0.0\n",
       "4      1.0\n",
       "      ... \n",
       "115    1.0\n",
       "116    0.0\n",
       "117    1.0\n",
       "118    0.0\n",
       "119    1.0\n",
       "Name: yL, Length: 120, dtype: float64"
      ]
     },
     "execution_count": 18,
     "metadata": {},
     "output_type": "execute_result"
    }
   ],
   "source": [
    "data.fillna(data.median())\n",
    "target.fillna(target.median())"
   ]
  },
  {
   "cell_type": "code",
   "execution_count": 19,
   "metadata": {},
   "outputs": [],
   "source": [
    "is_discrete = [i in categorical_features for i in data.columns]"
   ]
  },
  {
   "cell_type": "code",
   "execution_count": 20,
   "metadata": {},
   "outputs": [],
   "source": [
    "mutual_info = mutual_info_classif(data, target, discrete_features=is_discrete, random_state=42)"
   ]
  },
  {
   "cell_type": "code",
   "execution_count": 21,
   "metadata": {},
   "outputs": [],
   "source": [
    "mutual_info_series = pd.Series(data=mutual_info,index=data.columns)"
   ]
  },
  {
   "cell_type": "code",
   "execution_count": 22,
   "metadata": {},
   "outputs": [
    {
     "data": {
      "text/plain": [
       "<matplotlib.axes._subplots.AxesSubplot at 0x26d7ef9f198>"
      ]
     },
     "execution_count": 22,
     "metadata": {},
     "output_type": "execute_result"
    },
    {
     "data": {
      "image/png": "[encoded data removed]",
      "text/plain": [
       "<Figure size 432x288 with 1 Axes>"
      ]
     },
     "metadata": {
      "needs_background": "light"
     },
     "output_type": "display_data"
    }
   ],
   "source": [
    "mutual_info_series.sort_values(ascending=False).plot.bar()"
   ]
  },
  {
   "cell_type": "code",
   "execution_count": 23,
   "metadata": {},
   "outputs": [],
   "source": [
    "mutual_info_series.sort_values(ascending=False, inplace=True)"
   ]
  },
  {
   "cell_type": "code",
   "execution_count": 24,
   "metadata": {},
   "outputs": [],
   "source": [
    "selected_features = mutual_info_series[mutual_info_series > 1e-2].index.to_numpy()"
   ]
  },
  {
   "cell_type": "code",
   "execution_count": 25,
   "metadata": {},
   "outputs": [
    {
     "data": {
      "text/plain": [
       "array(['x10', 'x22', 'x26', 'x1', 'x17', 'x12', 'x11', 'x2', 'x8', 'x4',\n",
       "       'x19', 'x21', 'x6', 'x30'], dtype=object)"
      ]
     },
     "execution_count": 25,
     "metadata": {},
     "output_type": "execute_result"
    }
   ],
   "source": [
    "selected_features"
   ]
  },
  {
   "cell_type": "code",
   "execution_count": 27,
   "metadata": {
    "scrolled": false
   },
   "outputs": [
    {
     "name": "stdout",
     "output_type": "stream",
     "text": [
      "Previous ROC AUC: 1e-06\n",
      "Current best: 1e-06\n",
      "Currently training model with features: ['x10']\n"
     ]
    },
    {
     "name": "stderr",
     "output_type": "stream",
     "text": [
      "C:\\Users\\mmeji\\.conda\\envs\\ec1209\\lib\\site-packages\\sklearn\\model_selection\\_search.py:814: DeprecationWarning: The default of the `iid` parameter will change from True to False in version 0.22 and will be removed in 0.24. This will change numeric results when test-set sizes are unequal.\n",
      "  DeprecationWarning)\n"
     ]
    },
    {
     "name": "stdout",
     "output_type": "stream",
     "text": [
      "Finished training model, score: 0.81875 \n",
      "\n",
      "\n",
      "Previous ROC AUC: 0.81875\n",
      "Current best: 0.81875\n",
      "Currently training model with features: ['x10', 'x22']\n"
     ]
    },
    {
     "name": "stderr",
     "output_type": "stream",
     "text": [
      "C:\\Users\\mmeji\\.conda\\envs\\ec1209\\lib\\site-packages\\sklearn\\model_selection\\_search.py:814: DeprecationWarning: The default of the `iid` parameter will change from True to False in version 0.22 and will be removed in 0.24. This will change numeric results when test-set sizes are unequal.\n",
      "  DeprecationWarning)\n"
     ]
    },
    {
     "name": "stdout",
     "output_type": "stream",
     "text": [
      "Finished training model, score: 1.0 \n",
      "\n",
      "\n",
      "Previous ROC AUC: 1.0\n",
      "Current best: 1.0\n",
      "Currently training model with features: ['x10', 'x22', 'x26']\n"
     ]
    },
    {
     "name": "stderr",
     "output_type": "stream",
     "text": [
      "C:\\Users\\mmeji\\.conda\\envs\\ec1209\\lib\\site-packages\\sklearn\\model_selection\\_search.py:814: DeprecationWarning: The default of the `iid` parameter will change from True to False in version 0.22 and will be removed in 0.24. This will change numeric results when test-set sizes are unequal.\n",
      "  DeprecationWarning)\n"
     ]
    },
    {
     "name": "stdout",
     "output_type": "stream",
     "text": [
      "Finished training model, score: 0.9312499999999999 \n",
      "\n",
      "\n",
      "Previous ROC AUC: 0.9312499999999999\n",
      "Current best: 1.0\n",
      "Currently training model with features: ['x10', 'x22', 'x26', 'x1']\n"
     ]
    },
    {
     "name": "stderr",
     "output_type": "stream",
     "text": [
      "C:\\Users\\mmeji\\.conda\\envs\\ec1209\\lib\\site-packages\\sklearn\\model_selection\\_search.py:814: DeprecationWarning: The default of the `iid` parameter will change from True to False in version 0.22 and will be removed in 0.24. This will change numeric results when test-set sizes are unequal.\n",
      "  DeprecationWarning)\n",
      "C:\\Users\\mmeji\\.conda\\envs\\ec1209\\lib\\site-packages\\sklearn\\neural_network\\multilayer_perceptron.py:566: ConvergenceWarning: Stochastic Optimizer: Maximum iterations (200) reached and the optimization hasn't converged yet.\n",
      "  % self.max_iter, ConvergenceWarning)\n"
     ]
    },
    {
     "name": "stdout",
     "output_type": "stream",
     "text": [
      "Finished training model, score: 0.6687500000000001 \n",
      "\n",
      "\n",
      "Previous ROC AUC: 0.6687500000000001\n",
      "Current best: 1.0\n",
      "Currently training model with features: ['x10', 'x22', 'x26', 'x1', 'x17']\n"
     ]
    },
    {
     "name": "stderr",
     "output_type": "stream",
     "text": [
      "C:\\Users\\mmeji\\.conda\\envs\\ec1209\\lib\\site-packages\\sklearn\\model_selection\\_search.py:814: DeprecationWarning: The default of the `iid` parameter will change from True to False in version 0.22 and will be removed in 0.24. This will change numeric results when test-set sizes are unequal.\n",
      "  DeprecationWarning)\n",
      "C:\\Users\\mmeji\\.conda\\envs\\ec1209\\lib\\site-packages\\sklearn\\neural_network\\multilayer_perceptron.py:566: ConvergenceWarning: Stochastic Optimizer: Maximum iterations (200) reached and the optimization hasn't converged yet.\n",
      "  % self.max_iter, ConvergenceWarning)\n"
     ]
    },
    {
     "name": "stdout",
     "output_type": "stream",
     "text": [
      "Finished training model, score: 0.65 \n",
      "\n",
      "\n",
      "Previous ROC AUC: 0.65\n",
      "Current best: 1.0\n",
      "Currently training model with features: ['x10', 'x22', 'x26', 'x1', 'x17', 'x12']\n"
     ]
    },
    {
     "name": "stderr",
     "output_type": "stream",
     "text": [
      "C:\\Users\\mmeji\\.conda\\envs\\ec1209\\lib\\site-packages\\sklearn\\model_selection\\_search.py:814: DeprecationWarning: The default of the `iid` parameter will change from True to False in version 0.22 and will be removed in 0.24. This will change numeric results when test-set sizes are unequal.\n",
      "  DeprecationWarning)\n",
      "C:\\Users\\mmeji\\.conda\\envs\\ec1209\\lib\\site-packages\\sklearn\\neural_network\\multilayer_perceptron.py:566: ConvergenceWarning: Stochastic Optimizer: Maximum iterations (200) reached and the optimization hasn't converged yet.\n",
      "  % self.max_iter, ConvergenceWarning)\n"
     ]
    },
    {
     "name": "stdout",
     "output_type": "stream",
     "text": [
      "Finished training model, score: 0.49375 \n",
      "\n",
      "\n",
      "Previous ROC AUC: 0.49375\n",
      "Current best: 1.0\n",
      "Currently training model with features: ['x10', 'x22', 'x26', 'x1', 'x17', 'x12', 'x11']\n"
     ]
    },
    {
     "name": "stderr",
     "output_type": "stream",
     "text": [
      "C:\\Users\\mmeji\\.conda\\envs\\ec1209\\lib\\site-packages\\sklearn\\model_selection\\_search.py:814: DeprecationWarning: The default of the `iid` parameter will change from True to False in version 0.22 and will be removed in 0.24. This will change numeric results when test-set sizes are unequal.\n",
      "  DeprecationWarning)\n",
      "C:\\Users\\mmeji\\.conda\\envs\\ec1209\\lib\\site-packages\\sklearn\\neural_network\\multilayer_perceptron.py:566: ConvergenceWarning: Stochastic Optimizer: Maximum iterations (200) reached and the optimization hasn't converged yet.\n",
      "  % self.max_iter, ConvergenceWarning)\n"
     ]
    },
    {
     "name": "stdout",
     "output_type": "stream",
     "text": [
      "Finished training model, score: 0.5 \n",
      "\n",
      "\n",
      "Previous ROC AUC: 0.5\n",
      "Current best: 1.0\n",
      "Currently training model with features: ['x10', 'x22', 'x26', 'x1', 'x17', 'x12', 'x11', 'x2']\n"
     ]
    },
    {
     "name": "stderr",
     "output_type": "stream",
     "text": [
      "C:\\Users\\mmeji\\.conda\\envs\\ec1209\\lib\\site-packages\\sklearn\\model_selection\\_search.py:814: DeprecationWarning: The default of the `iid` parameter will change from True to False in version 0.22 and will be removed in 0.24. This will change numeric results when test-set sizes are unequal.\n",
      "  DeprecationWarning)\n",
      "C:\\Users\\mmeji\\.conda\\envs\\ec1209\\lib\\site-packages\\sklearn\\neural_network\\multilayer_perceptron.py:566: ConvergenceWarning: Stochastic Optimizer: Maximum iterations (200) reached and the optimization hasn't converged yet.\n",
      "  % self.max_iter, ConvergenceWarning)\n"
     ]
    },
    {
     "name": "stdout",
     "output_type": "stream",
     "text": [
      "Finished training model, score: 0.6875 \n",
      "\n",
      "\n",
      "Previous ROC AUC: 0.6875\n",
      "Current best: 1.0\n",
      "Currently training model with features: ['x10', 'x22', 'x26', 'x1', 'x17', 'x12', 'x11', 'x2', 'x8']\n"
     ]
    },
    {
     "name": "stderr",
     "output_type": "stream",
     "text": [
      "C:\\Users\\mmeji\\.conda\\envs\\ec1209\\lib\\site-packages\\sklearn\\model_selection\\_search.py:814: DeprecationWarning: The default of the `iid` parameter will change from True to False in version 0.22 and will be removed in 0.24. This will change numeric results when test-set sizes are unequal.\n",
      "  DeprecationWarning)\n",
      "C:\\Users\\mmeji\\.conda\\envs\\ec1209\\lib\\site-packages\\sklearn\\neural_network\\multilayer_perceptron.py:566: ConvergenceWarning: Stochastic Optimizer: Maximum iterations (200) reached and the optimization hasn't converged yet.\n",
      "  % self.max_iter, ConvergenceWarning)\n"
     ]
    },
    {
     "name": "stdout",
     "output_type": "stream",
     "text": [
      "Finished training model, score: 0.5875 \n",
      "\n",
      "\n",
      "Previous ROC AUC: 0.5875\n",
      "Current best: 1.0\n",
      "Currently training model with features: ['x10', 'x22', 'x26', 'x1', 'x17', 'x12', 'x11', 'x2', 'x8', 'x4']\n"
     ]
    },
    {
     "name": "stderr",
     "output_type": "stream",
     "text": [
      "C:\\Users\\mmeji\\.conda\\envs\\ec1209\\lib\\site-packages\\sklearn\\model_selection\\_search.py:814: DeprecationWarning: The default of the `iid` parameter will change from True to False in version 0.22 and will be removed in 0.24. This will change numeric results when test-set sizes are unequal.\n",
      "  DeprecationWarning)\n"
     ]
    },
    {
     "name": "stdout",
     "output_type": "stream",
     "text": [
      "Finished training model, score: 0.9874999999999999 \n",
      "\n",
      "\n",
      "Previous ROC AUC: 0.9874999999999999\n",
      "Current best: 1.0\n",
      "Currently training model with features: ['x10', 'x22', 'x26', 'x1', 'x17', 'x12', 'x11', 'x2', 'x8', 'x4', 'x19']\n"
     ]
    },
    {
     "name": "stderr",
     "output_type": "stream",
     "text": [
      "C:\\Users\\mmeji\\.conda\\envs\\ec1209\\lib\\site-packages\\sklearn\\model_selection\\_search.py:814: DeprecationWarning: The default of the `iid` parameter will change from True to False in version 0.22 and will be removed in 0.24. This will change numeric results when test-set sizes are unequal.\n",
      "  DeprecationWarning)\n",
      "C:\\Users\\mmeji\\.conda\\envs\\ec1209\\lib\\site-packages\\sklearn\\neural_network\\multilayer_perceptron.py:566: ConvergenceWarning: Stochastic Optimizer: Maximum iterations (200) reached and the optimization hasn't converged yet.\n",
      "  % self.max_iter, ConvergenceWarning)\n"
     ]
    },
    {
     "name": "stdout",
     "output_type": "stream",
     "text": [
      "Finished training model, score: 0.6875 \n",
      "\n",
      "\n",
      "Previous ROC AUC: 0.6875\n",
      "Current best: 1.0\n",
      "Currently training model with features: ['x10', 'x22', 'x26', 'x1', 'x17', 'x12', 'x11', 'x2', 'x8', 'x4', 'x19', 'x21']\n"
     ]
    },
    {
     "name": "stderr",
     "output_type": "stream",
     "text": [
      "C:\\Users\\mmeji\\.conda\\envs\\ec1209\\lib\\site-packages\\sklearn\\model_selection\\_search.py:814: DeprecationWarning: The default of the `iid` parameter will change from True to False in version 0.22 and will be removed in 0.24. This will change numeric results when test-set sizes are unequal.\n",
      "  DeprecationWarning)\n"
     ]
    },
    {
     "name": "stdout",
     "output_type": "stream",
     "text": [
      "Finished training model, score: 1.0 \n",
      "\n",
      "\n",
      "Previous ROC AUC: 1.0\n",
      "Current best: 1.0\n",
      "Currently training model with features: ['x10', 'x22', 'x26', 'x1', 'x17', 'x12', 'x11', 'x2', 'x8', 'x4', 'x19', 'x21', 'x6']\n"
     ]
    },
    {
     "name": "stderr",
     "output_type": "stream",
     "text": [
      "C:\\Users\\mmeji\\.conda\\envs\\ec1209\\lib\\site-packages\\sklearn\\model_selection\\_search.py:814: DeprecationWarning: The default of the `iid` parameter will change from True to False in version 0.22 and will be removed in 0.24. This will change numeric results when test-set sizes are unequal.\n",
      "  DeprecationWarning)\n",
      "C:\\Users\\mmeji\\.conda\\envs\\ec1209\\lib\\site-packages\\sklearn\\neural_network\\multilayer_perceptron.py:566: ConvergenceWarning: Stochastic Optimizer: Maximum iterations (200) reached and the optimization hasn't converged yet.\n",
      "  % self.max_iter, ConvergenceWarning)\n"
     ]
    },
    {
     "name": "stdout",
     "output_type": "stream",
     "text": [
      "Finished training model, score: 0.65625 \n",
      "\n",
      "\n",
      "Previous ROC AUC: 0.65625\n",
      "Current best: 1.0\n",
      "Currently training model with features: ['x10', 'x22', 'x26', 'x1', 'x17', 'x12', 'x11', 'x2', 'x8', 'x4', 'x19', 'x21', 'x6', 'x30']\n",
      "Finished training model, score: 0.9375 \n",
      "\n",
      "\n",
      "Selected features to run: ['x10', 'x22', 'x21']\n"
     ]
    },
    {
     "name": "stderr",
     "output_type": "stream",
     "text": [
      "C:\\Users\\mmeji\\.conda\\envs\\ec1209\\lib\\site-packages\\sklearn\\model_selection\\_search.py:814: DeprecationWarning: The default of the `iid` parameter will change from True to False in version 0.22 and will be removed in 0.24. This will change numeric results when test-set sizes are unequal.\n",
      "  DeprecationWarning)\n"
     ]
    }
   ],
   "source": [
    "current_features = []\n",
    "current_roc_auc = 0\n",
    "previous_roc_auc = 1e-6 # randomly chosen to always be higher the first run\n",
    "best_roc_auc = 1e-6 # randomly chosen to always be higher the first run\n",
    "features_to_use = []\n",
    "\n",
    "count_pipeline = Pipeline([\n",
    "    ('model', MLPClassifier()) #Placeholder in order to call the GridSearchCV on the pipeline\n",
    "])\n",
    "\n",
    "\n",
    "parameter_space = [{\n",
    "    'model': [MLPClassifier()],\n",
    "    'model__hidden_layer_sizes': [(3,), (3,5), (3,5,7), (3,5,7,9), (7,5,3), (5,3)]\n",
    "},\n",
    "{\n",
    "    'model': [GradientBoostingClassifier()],\n",
    "    'model__learning_rate': [0.1, 0.5, 1.5, 0.01, 5],\n",
    "    'model__n_estimators': [100, 200, 500, 50]\n",
    "}]\n",
    "\n",
    "\n",
    "model = GridSearchCV(count_pipeline, parameter_space, cv=3, scoring='roc_auc',\n",
    "                          n_jobs=-1, refit='roc_auc')\n",
    "\n",
    "for x in selected_features:\n",
    "    current_features.append(x)\n",
    "    \n",
    "    print(\"Previous ROC AUC: {}\".format(previous_roc_auc))\n",
    "    print(\"Current best: {}\".format(best_roc_auc))\n",
    "    \n",
    "    print(\"Currently training model with features: {}\".format(current_features))\n",
    "    \n",
    "    model.fit(data[current_features].values, target)\n",
    "    \n",
    "    current_roc_auc = roc_auc_score(target, model.predict(data[current_features]))\n",
    "    \n",
    "    print(\"Finished training model, score: {} \\n\\n\".format(current_roc_auc))\n",
    "    \n",
    "    if current_roc_auc > previous_roc_auc and current_roc_auc >= best_roc_auc:\n",
    "        features_to_use.append(x)\n",
    "        best_roc_auc = current_roc_auc\n",
    "    previous_roc_auc = current_roc_auc\n",
    "\n",
    "print(\"Selected features to run: {}\".format(features_to_use))"
   ]
  },
  {
   "cell_type": "code",
   "execution_count": 28,
   "metadata": {},
   "outputs": [
    {
     "name": "stderr",
     "output_type": "stream",
     "text": [
      "C:\\Users\\mmeji\\.conda\\envs\\ec1209\\lib\\site-packages\\sklearn\\model_selection\\_search.py:814: DeprecationWarning: The default of the `iid` parameter will change from True to False in version 0.22 and will be removed in 0.24. This will change numeric results when test-set sizes are unequal.\n",
      "  DeprecationWarning)\n"
     ]
    },
    {
     "data": {
      "text/plain": [
       "GridSearchCV(cv=3, error_score='raise-deprecating',\n",
       "             estimator=Pipeline(memory=None,\n",
       "                                steps=[('model',\n",
       "                                        MLPClassifier(activation='relu',\n",
       "                                                      alpha=0.0001,\n",
       "                                                      batch_size='auto',\n",
       "                                                      beta_1=0.9, beta_2=0.999,\n",
       "                                                      early_stopping=False,\n",
       "                                                      epsilon=1e-08,\n",
       "                                                      hidden_layer_sizes=(100,),\n",
       "                                                      learning_rate='constant',\n",
       "                                                      learning_rate_init=0.001,\n",
       "                                                      max_iter=200,\n",
       "                                                      momentum=0.9,\n",
       "                                                      n_iter_no_change=10,\n",
       "                                                      nesterovs...\n",
       "                                                               min_weight_fraction_leaf=0.0,\n",
       "                                                               n_estimators=500,\n",
       "                                                               n_iter_no_change=None,\n",
       "                                                               presort='auto',\n",
       "                                                               random_state=None,\n",
       "                                                               subsample=1.0,\n",
       "                                                               tol=0.0001,\n",
       "                                                               validation_fraction=0.1,\n",
       "                                                               verbose=0,\n",
       "                                                               warm_start=False)],\n",
       "                          'model__learning_rate': [0.1, 0.5, 1.5, 0.01, 5],\n",
       "                          'model__n_estimators': [100, 200, 500, 50]}],\n",
       "             pre_dispatch='2*n_jobs', refit='roc_auc', return_train_score=False,\n",
       "             scoring='roc_auc', verbose=0)"
      ]
     },
     "execution_count": 28,
     "metadata": {},
     "output_type": "execute_result"
    }
   ],
   "source": [
    "model.fit(data[features_to_use], target)"
   ]
  },
  {
   "cell_type": "code",
   "execution_count": 30,
   "metadata": {},
   "outputs": [
    {
     "name": "stdout",
     "output_type": "stream",
     "text": [
      "              precision    recall  f1-score   support\n",
      "\n",
      "         0.0       1.00      0.90      0.95        40\n",
      "         1.0       0.95      1.00      0.98        80\n",
      "\n",
      "    accuracy                           0.97       120\n",
      "   macro avg       0.98      0.95      0.96       120\n",
      "weighted avg       0.97      0.97      0.97       120\n",
      "\n"
     ]
    }
   ],
   "source": [
    "print(classification_report(target, model.predict(data[features_to_use])))"
   ]
  },
  {
   "cell_type": "code",
   "execution_count": 31,
   "metadata": {},
   "outputs": [],
   "source": [
    "bin_data_test = pd.read_csv('../data/test/databinarystudents_test.csv')"
   ]
  },
  {
   "cell_type": "code",
   "execution_count": 32,
   "metadata": {},
   "outputs": [],
   "source": [
    "test_data = bin_data_test.drop(['yL','id'], axis=1)\n",
    "test_target = bin_data_test['yL']"
   ]
  },
  {
   "cell_type": "code",
   "execution_count": 33,
   "metadata": {},
   "outputs": [
    {
     "data": {
      "text/plain": [
       "0     1.0\n",
       "1     1.0\n",
       "2     0.0\n",
       "3     1.0\n",
       "4     0.0\n",
       "5     0.0\n",
       "6     1.0\n",
       "7     1.0\n",
       "8     1.0\n",
       "9     1.0\n",
       "10    1.0\n",
       "11    0.0\n",
       "12    1.0\n",
       "13    1.0\n",
       "14    1.0\n",
       "15    1.0\n",
       "16    0.0\n",
       "17    0.0\n",
       "18    0.0\n",
       "19    1.0\n",
       "20    0.0\n",
       "21    0.0\n",
       "22    1.0\n",
       "23    1.0\n",
       "24    1.0\n",
       "25    1.0\n",
       "26    1.0\n",
       "27    1.0\n",
       "28    1.0\n",
       "29    0.0\n",
       "Name: yL, dtype: float64"
      ]
     },
     "execution_count": 33,
     "metadata": {},
     "output_type": "execute_result"
    }
   ],
   "source": [
    "test_data[numerical_features + count_features] = si.transform(test_data[numerical_features + count_features])\n",
    "test_data[numerical_features] = se.transform(test_data[numerical_features])\n",
    "test_data[count_features] = mms.transform(test_data[count_features])\n",
    "test_data.fillna(test_data.median())\n",
    "test_target.fillna(test_target.median())"
   ]
  },
  {
   "cell_type": "code",
   "execution_count": 35,
   "metadata": {},
   "outputs": [
    {
     "name": "stdout",
     "output_type": "stream",
     "text": [
      "              precision    recall  f1-score   support\n",
      "\n",
      "         0.0       1.00      0.30      0.46        10\n",
      "         1.0       0.74      1.00      0.85        20\n",
      "\n",
      "    accuracy                           0.77        30\n",
      "   macro avg       0.87      0.65      0.66        30\n",
      "weighted avg       0.83      0.77      0.72        30\n",
      "\n"
     ]
    }
   ],
   "source": [
    "print(classification_report(test_target, model.predict(test_data[features_to_use])))"
   ]
  },
  {
   "cell_type": "code",
   "execution_count": 36,
   "metadata": {},
   "outputs": [],
   "source": [
    "data_dict = {\"real\": test_target, \"guess\": model.predict_proba(test_data[features_to_use])[:,1]}\n",
    "results = pd.DataFrame(data_dict)"
   ]
  },
  {
   "cell_type": "code",
   "execution_count": 37,
   "metadata": {},
   "outputs": [],
   "source": [
    "results.to_csv('../validation/binaria/miguel.csv')"
   ]
  },
  {
   "cell_type": "code",
   "execution_count": 38,
   "metadata": {},
   "outputs": [
    {
     "data": {
      "text/plain": [
       "Pipeline(memory=None,\n",
       "         steps=[('model',\n",
       "                 GradientBoostingClassifier(criterion='friedman_mse', init=None,\n",
       "                                            learning_rate=0.01, loss='deviance',\n",
       "                                            max_depth=3, max_features=None,\n",
       "                                            max_leaf_nodes=None,\n",
       "                                            min_impurity_decrease=0.0,\n",
       "                                            min_impurity_split=None,\n",
       "                                            min_samples_leaf=1,\n",
       "                                            min_samples_split=2,\n",
       "                                            min_weight_fraction_leaf=0.0,\n",
       "                                            n_estimators=500,\n",
       "                                            n_iter_no_change=None,\n",
       "                                            presort='auto', random_state=None,\n",
       "                                            subsample=1.0, tol=0.0001,\n",
       "                                            validation_fraction=0.1, verbose=0,\n",
       "                                            warm_start=False))],\n",
       "         verbose=False)"
      ]
     },
     "execution_count": 38,
     "metadata": {},
     "output_type": "execute_result"
    }
   ],
   "source": [
    "model.best_estimator_ "
   ]
  }
 ],
 "metadata": {
  "kernelspec": {
   "display_name": "Python 3",
   "language": "python",
   "name": "python3"
  },
  "language_info": {
   "codemirror_mode": {
    "name": "ipython",
    "version": 3
   },
   "file_extension": ".py",
   "mimetype": "text/x-python",
   "name": "python",
   "nbconvert_exporter": "python",
   "pygments_lexer": "ipython3",
   "version": "3.7.3"
  }
 },
 "nbformat": 4,
 "nbformat_minor": 2
}
