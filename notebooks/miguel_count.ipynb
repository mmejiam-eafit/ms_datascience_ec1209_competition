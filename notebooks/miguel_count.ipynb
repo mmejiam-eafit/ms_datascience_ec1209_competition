{
 "cells": [
  {
   "cell_type": "code",
   "execution_count": 1,
   "metadata": {},
   "outputs": [],
   "source": [
    "# Load Basic libraries to manipulate the data\n",
    "import pandas as pd\n",
    "import numpy as np\n",
    "import matplotlib.pyplot as plt\n",
    "import seaborn as sns\n",
    "%matplotlib inline\n"
   ]
  },
  {
   "cell_type": "code",
   "execution_count": 2,
   "metadata": {},
   "outputs": [],
   "source": [
    "# Load models and metrics for those models\n",
    "from sklearn.preprocessing import StandardScaler, MinMaxScaler\n",
    "from sklearn.impute import SimpleImputer\n",
    "from sklearn.pipeline import Pipeline\n",
    "\n",
    "from sklearn.feature_selection import mutual_info_regression\n",
    "\n",
    "from sklearn.model_selection import GridSearchCV\n",
    "\n",
    "from sklearn.ensemble import GradientBoostingRegressor\n",
    "from sklearn.neural_network import MLPRegressor\n",
    "from sklearn.metrics import mean_squared_error"
   ]
  },
  {
   "cell_type": "code",
   "execution_count": 3,
   "metadata": {},
   "outputs": [],
   "source": [
    "# load data\n",
    "count_data = pd.read_csv('../data/train/datacountstudents_train.csv')"
   ]
  },
  {
   "cell_type": "code",
   "execution_count": 4,
   "metadata": {},
   "outputs": [
    {
     "data": {
      "text/plain": [
       "Index(['id', 'yC', 'x1', 'x2', 'x3', 'x4', 'x5', 'x6', 'x7', 'x8', 'x9', 'x10',\n",
       "       'x11', 'x12', 'x13', 'x14', 'x15', 'x16', 'x17', 'x18', 'x19', 'x20',\n",
       "       'x21', 'x22', 'x23', 'x24', 'x25', 'x26', 'x27', 'x28', 'x29', 'x30',\n",
       "       'x31', 'x32'],\n",
       "      dtype='object')"
      ]
     },
     "execution_count": 4,
     "metadata": {},
     "output_type": "execute_result"
    }
   ],
   "source": [
    "count_data.columns"
   ]
  },
  {
   "cell_type": "code",
   "execution_count": 5,
   "metadata": {},
   "outputs": [],
   "source": [
    "count_data.drop(['id'], axis=1, inplace=True)"
   ]
  },
  {
   "cell_type": "code",
   "execution_count": 6,
   "metadata": {},
   "outputs": [
    {
     "data": {
      "text/html": [
       "<div>\n",
       "<style scoped>\n",
       "    .dataframe tbody tr th:only-of-type {\n",
       "        vertical-align: middle;\n",
       "    }\n",
       "\n",
       "    .dataframe tbody tr th {\n",
       "        vertical-align: top;\n",
       "    }\n",
       "\n",
       "    .dataframe thead th {\n",
       "        text-align: right;\n",
       "    }\n",
       "</style>\n",
       "<table border=\"1\" class=\"dataframe\">\n",
       "  <thead>\n",
       "    <tr style=\"text-align: right;\">\n",
       "      <th></th>\n",
       "      <th>yC</th>\n",
       "      <th>x1</th>\n",
       "      <th>x2</th>\n",
       "      <th>x3</th>\n",
       "      <th>x4</th>\n",
       "      <th>x5</th>\n",
       "      <th>x6</th>\n",
       "      <th>x7</th>\n",
       "      <th>x8</th>\n",
       "      <th>x9</th>\n",
       "      <th>...</th>\n",
       "      <th>x23</th>\n",
       "      <th>x24</th>\n",
       "      <th>x25</th>\n",
       "      <th>x26</th>\n",
       "      <th>x27</th>\n",
       "      <th>x28</th>\n",
       "      <th>x29</th>\n",
       "      <th>x30</th>\n",
       "      <th>x31</th>\n",
       "      <th>x32</th>\n",
       "    </tr>\n",
       "  </thead>\n",
       "  <tbody>\n",
       "    <tr>\n",
       "      <th>count</th>\n",
       "      <td>120.000000</td>\n",
       "      <td>120.000000</td>\n",
       "      <td>120.000000</td>\n",
       "      <td>120.000000</td>\n",
       "      <td>120.000000</td>\n",
       "      <td>120.000000</td>\n",
       "      <td>120.000000</td>\n",
       "      <td>120.000000</td>\n",
       "      <td>120.000000</td>\n",
       "      <td>120.000000</td>\n",
       "      <td>...</td>\n",
       "      <td>120.000000</td>\n",
       "      <td>120.000000</td>\n",
       "      <td>120.000000</td>\n",
       "      <td>120.000000</td>\n",
       "      <td>120.000000</td>\n",
       "      <td>120.000000</td>\n",
       "      <td>120.000000</td>\n",
       "      <td>120.000000</td>\n",
       "      <td>120.000000</td>\n",
       "      <td>120.000000</td>\n",
       "    </tr>\n",
       "    <tr>\n",
       "      <th>mean</th>\n",
       "      <td>1.216667</td>\n",
       "      <td>64.530643</td>\n",
       "      <td>49.414167</td>\n",
       "      <td>0.308333</td>\n",
       "      <td>0.150000</td>\n",
       "      <td>0.033333</td>\n",
       "      <td>0.125000</td>\n",
       "      <td>0.083333</td>\n",
       "      <td>15.478996</td>\n",
       "      <td>28.133333</td>\n",
       "      <td>...</td>\n",
       "      <td>0.228209</td>\n",
       "      <td>0.027142</td>\n",
       "      <td>6.450000</td>\n",
       "      <td>5.558333</td>\n",
       "      <td>78.822689</td>\n",
       "      <td>0.141667</td>\n",
       "      <td>0.041667</td>\n",
       "      <td>3.866667</td>\n",
       "      <td>0.300111</td>\n",
       "      <td>0.515788</td>\n",
       "    </tr>\n",
       "    <tr>\n",
       "      <th>std</th>\n",
       "      <td>1.258139</td>\n",
       "      <td>10.093439</td>\n",
       "      <td>40.977939</td>\n",
       "      <td>0.463741</td>\n",
       "      <td>0.358569</td>\n",
       "      <td>0.180258</td>\n",
       "      <td>0.332106</td>\n",
       "      <td>0.277544</td>\n",
       "      <td>1.913951</td>\n",
       "      <td>15.052253</td>\n",
       "      <td>...</td>\n",
       "      <td>0.335089</td>\n",
       "      <td>0.112337</td>\n",
       "      <td>0.877832</td>\n",
       "      <td>0.985575</td>\n",
       "      <td>49.591147</td>\n",
       "      <td>0.350170</td>\n",
       "      <td>0.200664</td>\n",
       "      <td>2.145675</td>\n",
       "      <td>0.195522</td>\n",
       "      <td>0.297028</td>\n",
       "    </tr>\n",
       "    <tr>\n",
       "      <th>min</th>\n",
       "      <td>0.000000</td>\n",
       "      <td>34.217000</td>\n",
       "      <td>4.600000</td>\n",
       "      <td>0.000000</td>\n",
       "      <td>0.000000</td>\n",
       "      <td>0.000000</td>\n",
       "      <td>0.000000</td>\n",
       "      <td>0.000000</td>\n",
       "      <td>10.617270</td>\n",
       "      <td>0.000000</td>\n",
       "      <td>...</td>\n",
       "      <td>0.000000</td>\n",
       "      <td>0.000000</td>\n",
       "      <td>5.000000</td>\n",
       "      <td>3.000000</td>\n",
       "      <td>11.087400</td>\n",
       "      <td>0.000000</td>\n",
       "      <td>0.000000</td>\n",
       "      <td>1.000000</td>\n",
       "      <td>0.020398</td>\n",
       "      <td>0.040737</td>\n",
       "    </tr>\n",
       "    <tr>\n",
       "      <th>25%</th>\n",
       "      <td>0.000000</td>\n",
       "      <td>57.452500</td>\n",
       "      <td>14.300000</td>\n",
       "      <td>0.000000</td>\n",
       "      <td>0.000000</td>\n",
       "      <td>0.000000</td>\n",
       "      <td>0.000000</td>\n",
       "      <td>0.000000</td>\n",
       "      <td>14.586870</td>\n",
       "      <td>27.750000</td>\n",
       "      <td>...</td>\n",
       "      <td>0.001525</td>\n",
       "      <td>0.000000</td>\n",
       "      <td>6.000000</td>\n",
       "      <td>5.000000</td>\n",
       "      <td>43.637425</td>\n",
       "      <td>0.000000</td>\n",
       "      <td>0.000000</td>\n",
       "      <td>2.000000</td>\n",
       "      <td>0.107324</td>\n",
       "      <td>0.213143</td>\n",
       "    </tr>\n",
       "    <tr>\n",
       "      <th>50%</th>\n",
       "      <td>1.000000</td>\n",
       "      <td>67.946500</td>\n",
       "      <td>37.900000</td>\n",
       "      <td>0.000000</td>\n",
       "      <td>0.000000</td>\n",
       "      <td>0.000000</td>\n",
       "      <td>0.000000</td>\n",
       "      <td>0.000000</td>\n",
       "      <td>15.421435</td>\n",
       "      <td>31.000000</td>\n",
       "      <td>...</td>\n",
       "      <td>0.019950</td>\n",
       "      <td>0.000100</td>\n",
       "      <td>6.000000</td>\n",
       "      <td>6.000000</td>\n",
       "      <td>66.143600</td>\n",
       "      <td>0.000000</td>\n",
       "      <td>0.000000</td>\n",
       "      <td>4.000000</td>\n",
       "      <td>0.262157</td>\n",
       "      <td>0.495616</td>\n",
       "    </tr>\n",
       "    <tr>\n",
       "      <th>75%</th>\n",
       "      <td>2.000000</td>\n",
       "      <td>71.690097</td>\n",
       "      <td>77.500000</td>\n",
       "      <td>1.000000</td>\n",
       "      <td>0.000000</td>\n",
       "      <td>0.000000</td>\n",
       "      <td>0.000000</td>\n",
       "      <td>0.000000</td>\n",
       "      <td>16.542645</td>\n",
       "      <td>40.250000</td>\n",
       "      <td>...</td>\n",
       "      <td>0.407775</td>\n",
       "      <td>0.001225</td>\n",
       "      <td>7.000000</td>\n",
       "      <td>6.000000</td>\n",
       "      <td>104.938750</td>\n",
       "      <td>0.000000</td>\n",
       "      <td>0.000000</td>\n",
       "      <td>6.000000</td>\n",
       "      <td>0.494643</td>\n",
       "      <td>0.808403</td>\n",
       "    </tr>\n",
       "    <tr>\n",
       "      <th>max</th>\n",
       "      <td>7.000000</td>\n",
       "      <td>78.836829</td>\n",
       "      <td>159.400000</td>\n",
       "      <td>1.000000</td>\n",
       "      <td>1.000000</td>\n",
       "      <td>1.000000</td>\n",
       "      <td>1.000000</td>\n",
       "      <td>1.000000</td>\n",
       "      <td>20.850060</td>\n",
       "      <td>45.000000</td>\n",
       "      <td>...</td>\n",
       "      <td>0.985000</td>\n",
       "      <td>0.746200</td>\n",
       "      <td>9.000000</td>\n",
       "      <td>7.000000</td>\n",
       "      <td>344.830000</td>\n",
       "      <td>1.000000</td>\n",
       "      <td>1.000000</td>\n",
       "      <td>7.000000</td>\n",
       "      <td>0.662330</td>\n",
       "      <td>0.996328</td>\n",
       "    </tr>\n",
       "  </tbody>\n",
       "</table>\n",
       "<p>8 rows × 33 columns</p>\n",
       "</div>"
      ],
      "text/plain": [
       "               yC          x1          x2          x3          x4          x5  \\\n",
       "count  120.000000  120.000000  120.000000  120.000000  120.000000  120.000000   \n",
       "mean     1.216667   64.530643   49.414167    0.308333    0.150000    0.033333   \n",
       "std      1.258139   10.093439   40.977939    0.463741    0.358569    0.180258   \n",
       "min      0.000000   34.217000    4.600000    0.000000    0.000000    0.000000   \n",
       "25%      0.000000   57.452500   14.300000    0.000000    0.000000    0.000000   \n",
       "50%      1.000000   67.946500   37.900000    0.000000    0.000000    0.000000   \n",
       "75%      2.000000   71.690097   77.500000    1.000000    0.000000    0.000000   \n",
       "max      7.000000   78.836829  159.400000    1.000000    1.000000    1.000000   \n",
       "\n",
       "               x6          x7          x8          x9  ...         x23  \\\n",
       "count  120.000000  120.000000  120.000000  120.000000  ...  120.000000   \n",
       "mean     0.125000    0.083333   15.478996   28.133333  ...    0.228209   \n",
       "std      0.332106    0.277544    1.913951   15.052253  ...    0.335089   \n",
       "min      0.000000    0.000000   10.617270    0.000000  ...    0.000000   \n",
       "25%      0.000000    0.000000   14.586870   27.750000  ...    0.001525   \n",
       "50%      0.000000    0.000000   15.421435   31.000000  ...    0.019950   \n",
       "75%      0.000000    0.000000   16.542645   40.250000  ...    0.407775   \n",
       "max      1.000000    1.000000   20.850060   45.000000  ...    0.985000   \n",
       "\n",
       "              x24         x25         x26         x27         x28         x29  \\\n",
       "count  120.000000  120.000000  120.000000  120.000000  120.000000  120.000000   \n",
       "mean     0.027142    6.450000    5.558333   78.822689    0.141667    0.041667   \n",
       "std      0.112337    0.877832    0.985575   49.591147    0.350170    0.200664   \n",
       "min      0.000000    5.000000    3.000000   11.087400    0.000000    0.000000   \n",
       "25%      0.000000    6.000000    5.000000   43.637425    0.000000    0.000000   \n",
       "50%      0.000100    6.000000    6.000000   66.143600    0.000000    0.000000   \n",
       "75%      0.001225    7.000000    6.000000  104.938750    0.000000    0.000000   \n",
       "max      0.746200    9.000000    7.000000  344.830000    1.000000    1.000000   \n",
       "\n",
       "              x30         x31         x32  \n",
       "count  120.000000  120.000000  120.000000  \n",
       "mean     3.866667    0.300111    0.515788  \n",
       "std      2.145675    0.195522    0.297028  \n",
       "min      1.000000    0.020398    0.040737  \n",
       "25%      2.000000    0.107324    0.213143  \n",
       "50%      4.000000    0.262157    0.495616  \n",
       "75%      6.000000    0.494643    0.808403  \n",
       "max      7.000000    0.662330    0.996328  \n",
       "\n",
       "[8 rows x 33 columns]"
      ]
     },
     "execution_count": 6,
     "metadata": {},
     "output_type": "execute_result"
    }
   ],
   "source": [
    "count_data.describe()"
   ]
  },
  {
   "cell_type": "code",
   "execution_count": 7,
   "metadata": {},
   "outputs": [
    {
     "data": {
      "text/html": [
       "<div>\n",
       "<style scoped>\n",
       "    .dataframe tbody tr th:only-of-type {\n",
       "        vertical-align: middle;\n",
       "    }\n",
       "\n",
       "    .dataframe tbody tr th {\n",
       "        vertical-align: top;\n",
       "    }\n",
       "\n",
       "    .dataframe thead th {\n",
       "        text-align: right;\n",
       "    }\n",
       "</style>\n",
       "<table border=\"1\" class=\"dataframe\">\n",
       "  <thead>\n",
       "    <tr style=\"text-align: right;\">\n",
       "      <th></th>\n",
       "      <th>yC</th>\n",
       "      <th>x1</th>\n",
       "      <th>x2</th>\n",
       "      <th>x3</th>\n",
       "      <th>x4</th>\n",
       "      <th>x5</th>\n",
       "      <th>x6</th>\n",
       "      <th>x7</th>\n",
       "      <th>x8</th>\n",
       "      <th>x9</th>\n",
       "      <th>...</th>\n",
       "      <th>x23</th>\n",
       "      <th>x24</th>\n",
       "      <th>x25</th>\n",
       "      <th>x26</th>\n",
       "      <th>x27</th>\n",
       "      <th>x28</th>\n",
       "      <th>x29</th>\n",
       "      <th>x30</th>\n",
       "      <th>x31</th>\n",
       "      <th>x32</th>\n",
       "    </tr>\n",
       "  </thead>\n",
       "  <tbody>\n",
       "    <tr>\n",
       "      <th>0</th>\n",
       "      <td>1</td>\n",
       "      <td>49.856000</td>\n",
       "      <td>118.8</td>\n",
       "      <td>1</td>\n",
       "      <td>0</td>\n",
       "      <td>0</td>\n",
       "      <td>0</td>\n",
       "      <td>0</td>\n",
       "      <td>16.32096</td>\n",
       "      <td>0</td>\n",
       "      <td>...</td>\n",
       "      <td>0.9709</td>\n",
       "      <td>0.0003</td>\n",
       "      <td>6</td>\n",
       "      <td>6</td>\n",
       "      <td>24.7138</td>\n",
       "      <td>0</td>\n",
       "      <td>0</td>\n",
       "      <td>7</td>\n",
       "      <td>0.056546</td>\n",
       "      <td>0.112860</td>\n",
       "    </tr>\n",
       "    <tr>\n",
       "      <th>1</th>\n",
       "      <td>0</td>\n",
       "      <td>71.836000</td>\n",
       "      <td>34.8</td>\n",
       "      <td>0</td>\n",
       "      <td>0</td>\n",
       "      <td>0</td>\n",
       "      <td>0</td>\n",
       "      <td>1</td>\n",
       "      <td>15.00535</td>\n",
       "      <td>44</td>\n",
       "      <td>...</td>\n",
       "      <td>0.4200</td>\n",
       "      <td>0.0000</td>\n",
       "      <td>8</td>\n",
       "      <td>4</td>\n",
       "      <td>38.0658</td>\n",
       "      <td>0</td>\n",
       "      <td>0</td>\n",
       "      <td>7</td>\n",
       "      <td>0.655260</td>\n",
       "      <td>0.886908</td>\n",
       "    </tr>\n",
       "    <tr>\n",
       "      <th>2</th>\n",
       "      <td>0</td>\n",
       "      <td>66.725000</td>\n",
       "      <td>41.8</td>\n",
       "      <td>0</td>\n",
       "      <td>1</td>\n",
       "      <td>0</td>\n",
       "      <td>0</td>\n",
       "      <td>0</td>\n",
       "      <td>17.07023</td>\n",
       "      <td>27</td>\n",
       "      <td>...</td>\n",
       "      <td>0.9650</td>\n",
       "      <td>0.0000</td>\n",
       "      <td>6</td>\n",
       "      <td>6</td>\n",
       "      <td>48.3807</td>\n",
       "      <td>0</td>\n",
       "      <td>1</td>\n",
       "      <td>4</td>\n",
       "      <td>0.067855</td>\n",
       "      <td>0.133944</td>\n",
       "    </tr>\n",
       "    <tr>\n",
       "      <th>3</th>\n",
       "      <td>2</td>\n",
       "      <td>71.351000</td>\n",
       "      <td>24.2</td>\n",
       "      <td>1</td>\n",
       "      <td>0</td>\n",
       "      <td>0</td>\n",
       "      <td>0</td>\n",
       "      <td>0</td>\n",
       "      <td>11.10790</td>\n",
       "      <td>31</td>\n",
       "      <td>...</td>\n",
       "      <td>0.0051</td>\n",
       "      <td>0.0000</td>\n",
       "      <td>5</td>\n",
       "      <td>7</td>\n",
       "      <td>175.9250</td>\n",
       "      <td>0</td>\n",
       "      <td>0</td>\n",
       "      <td>3</td>\n",
       "      <td>0.318584</td>\n",
       "      <td>0.627729</td>\n",
       "    </tr>\n",
       "    <tr>\n",
       "      <th>4</th>\n",
       "      <td>1</td>\n",
       "      <td>67.879000</td>\n",
       "      <td>42.3</td>\n",
       "      <td>0</td>\n",
       "      <td>0</td>\n",
       "      <td>0</td>\n",
       "      <td>0</td>\n",
       "      <td>1</td>\n",
       "      <td>15.07912</td>\n",
       "      <td>31</td>\n",
       "      <td>...</td>\n",
       "      <td>0.0022</td>\n",
       "      <td>0.0001</td>\n",
       "      <td>7</td>\n",
       "      <td>3</td>\n",
       "      <td>81.3357</td>\n",
       "      <td>0</td>\n",
       "      <td>0</td>\n",
       "      <td>5</td>\n",
       "      <td>0.219665</td>\n",
       "      <td>0.436101</td>\n",
       "    </tr>\n",
       "    <tr>\n",
       "      <th>5</th>\n",
       "      <td>1</td>\n",
       "      <td>76.994634</td>\n",
       "      <td>7.6</td>\n",
       "      <td>1</td>\n",
       "      <td>0</td>\n",
       "      <td>0</td>\n",
       "      <td>0</td>\n",
       "      <td>0</td>\n",
       "      <td>16.65255</td>\n",
       "      <td>45</td>\n",
       "      <td>...</td>\n",
       "      <td>0.0094</td>\n",
       "      <td>0.0082</td>\n",
       "      <td>6</td>\n",
       "      <td>6</td>\n",
       "      <td>31.9150</td>\n",
       "      <td>1</td>\n",
       "      <td>0</td>\n",
       "      <td>1</td>\n",
       "      <td>0.297416</td>\n",
       "      <td>0.558743</td>\n",
       "    </tr>\n",
       "    <tr>\n",
       "      <th>6</th>\n",
       "      <td>0</td>\n",
       "      <td>64.827000</td>\n",
       "      <td>75.9</td>\n",
       "      <td>0</td>\n",
       "      <td>0</td>\n",
       "      <td>0</td>\n",
       "      <td>0</td>\n",
       "      <td>0</td>\n",
       "      <td>15.78388</td>\n",
       "      <td>31</td>\n",
       "      <td>...</td>\n",
       "      <td>0.9000</td>\n",
       "      <td>0.0000</td>\n",
       "      <td>7</td>\n",
       "      <td>3</td>\n",
       "      <td>83.0969</td>\n",
       "      <td>0</td>\n",
       "      <td>0</td>\n",
       "      <td>5</td>\n",
       "      <td>0.185113</td>\n",
       "      <td>0.342531</td>\n",
       "    </tr>\n",
       "    <tr>\n",
       "      <th>7</th>\n",
       "      <td>2</td>\n",
       "      <td>70.705000</td>\n",
       "      <td>19.6</td>\n",
       "      <td>1</td>\n",
       "      <td>0</td>\n",
       "      <td>0</td>\n",
       "      <td>0</td>\n",
       "      <td>0</td>\n",
       "      <td>12.45424</td>\n",
       "      <td>31</td>\n",
       "      <td>...</td>\n",
       "      <td>0.0000</td>\n",
       "      <td>0.0000</td>\n",
       "      <td>6</td>\n",
       "      <td>6</td>\n",
       "      <td>110.1200</td>\n",
       "      <td>0</td>\n",
       "      <td>0</td>\n",
       "      <td>2</td>\n",
       "      <td>0.292938</td>\n",
       "      <td>0.583095</td>\n",
       "    </tr>\n",
       "    <tr>\n",
       "      <th>8</th>\n",
       "      <td>2</td>\n",
       "      <td>72.390000</td>\n",
       "      <td>19.6</td>\n",
       "      <td>1</td>\n",
       "      <td>0</td>\n",
       "      <td>0</td>\n",
       "      <td>0</td>\n",
       "      <td>0</td>\n",
       "      <td>13.11419</td>\n",
       "      <td>31</td>\n",
       "      <td>...</td>\n",
       "      <td>0.8635</td>\n",
       "      <td>0.0002</td>\n",
       "      <td>6</td>\n",
       "      <td>6</td>\n",
       "      <td>210.1610</td>\n",
       "      <td>0</td>\n",
       "      <td>0</td>\n",
       "      <td>6</td>\n",
       "      <td>0.244678</td>\n",
       "      <td>0.442987</td>\n",
       "    </tr>\n",
       "    <tr>\n",
       "      <th>9</th>\n",
       "      <td>1</td>\n",
       "      <td>71.383000</td>\n",
       "      <td>16.0</td>\n",
       "      <td>1</td>\n",
       "      <td>0</td>\n",
       "      <td>0</td>\n",
       "      <td>0</td>\n",
       "      <td>0</td>\n",
       "      <td>12.46987</td>\n",
       "      <td>31</td>\n",
       "      <td>...</td>\n",
       "      <td>0.0042</td>\n",
       "      <td>0.0004</td>\n",
       "      <td>6</td>\n",
       "      <td>6</td>\n",
       "      <td>100.8310</td>\n",
       "      <td>0</td>\n",
       "      <td>0</td>\n",
       "      <td>1</td>\n",
       "      <td>0.431135</td>\n",
       "      <td>0.850350</td>\n",
       "    </tr>\n",
       "    <tr>\n",
       "      <th>10</th>\n",
       "      <td>1</td>\n",
       "      <td>71.246000</td>\n",
       "      <td>31.3</td>\n",
       "      <td>1</td>\n",
       "      <td>0</td>\n",
       "      <td>0</td>\n",
       "      <td>0</td>\n",
       "      <td>0</td>\n",
       "      <td>12.14181</td>\n",
       "      <td>31</td>\n",
       "      <td>...</td>\n",
       "      <td>0.0053</td>\n",
       "      <td>0.0032</td>\n",
       "      <td>6</td>\n",
       "      <td>6</td>\n",
       "      <td>122.2850</td>\n",
       "      <td>0</td>\n",
       "      <td>0</td>\n",
       "      <td>1</td>\n",
       "      <td>0.234838</td>\n",
       "      <td>0.445292</td>\n",
       "    </tr>\n",
       "    <tr>\n",
       "      <th>11</th>\n",
       "      <td>0</td>\n",
       "      <td>53.812000</td>\n",
       "      <td>107.1</td>\n",
       "      <td>0</td>\n",
       "      <td>1</td>\n",
       "      <td>0</td>\n",
       "      <td>0</td>\n",
       "      <td>0</td>\n",
       "      <td>15.42064</td>\n",
       "      <td>31</td>\n",
       "      <td>...</td>\n",
       "      <td>0.1836</td>\n",
       "      <td>0.0000</td>\n",
       "      <td>7</td>\n",
       "      <td>6</td>\n",
       "      <td>40.6187</td>\n",
       "      <td>0</td>\n",
       "      <td>0</td>\n",
       "      <td>6</td>\n",
       "      <td>0.597977</td>\n",
       "      <td>0.867463</td>\n",
       "    </tr>\n",
       "    <tr>\n",
       "      <th>12</th>\n",
       "      <td>0</td>\n",
       "      <td>55.104000</td>\n",
       "      <td>85.3</td>\n",
       "      <td>0</td>\n",
       "      <td>0</td>\n",
       "      <td>0</td>\n",
       "      <td>1</td>\n",
       "      <td>0</td>\n",
       "      <td>15.74067</td>\n",
       "      <td>42</td>\n",
       "      <td>...</td>\n",
       "      <td>0.0002</td>\n",
       "      <td>0.0007</td>\n",
       "      <td>6</td>\n",
       "      <td>6</td>\n",
       "      <td>46.7033</td>\n",
       "      <td>0</td>\n",
       "      <td>0</td>\n",
       "      <td>2</td>\n",
       "      <td>0.087340</td>\n",
       "      <td>0.174012</td>\n",
       "    </tr>\n",
       "    <tr>\n",
       "      <th>13</th>\n",
       "      <td>1</td>\n",
       "      <td>70.877000</td>\n",
       "      <td>16.1</td>\n",
       "      <td>0</td>\n",
       "      <td>0</td>\n",
       "      <td>0</td>\n",
       "      <td>0</td>\n",
       "      <td>1</td>\n",
       "      <td>15.31143</td>\n",
       "      <td>31</td>\n",
       "      <td>...</td>\n",
       "      <td>0.4037</td>\n",
       "      <td>0.0000</td>\n",
       "      <td>8</td>\n",
       "      <td>4</td>\n",
       "      <td>101.8470</td>\n",
       "      <td>1</td>\n",
       "      <td>0</td>\n",
       "      <td>6</td>\n",
       "      <td>0.569496</td>\n",
       "      <td>0.925681</td>\n",
       "    </tr>\n",
       "    <tr>\n",
       "      <th>14</th>\n",
       "      <td>2</td>\n",
       "      <td>61.905000</td>\n",
       "      <td>39.5</td>\n",
       "      <td>1</td>\n",
       "      <td>0</td>\n",
       "      <td>0</td>\n",
       "      <td>0</td>\n",
       "      <td>0</td>\n",
       "      <td>14.13608</td>\n",
       "      <td>31</td>\n",
       "      <td>...</td>\n",
       "      <td>0.0018</td>\n",
       "      <td>0.0000</td>\n",
       "      <td>5</td>\n",
       "      <td>7</td>\n",
       "      <td>104.8470</td>\n",
       "      <td>0</td>\n",
       "      <td>0</td>\n",
       "      <td>1</td>\n",
       "      <td>0.498279</td>\n",
       "      <td>0.990623</td>\n",
       "    </tr>\n",
       "  </tbody>\n",
       "</table>\n",
       "<p>15 rows × 33 columns</p>\n",
       "</div>"
      ],
      "text/plain": [
       "    yC         x1     x2  x3  x4  x5  x6  x7        x8  x9  ...     x23  \\\n",
       "0    1  49.856000  118.8   1   0   0   0   0  16.32096   0  ...  0.9709   \n",
       "1    0  71.836000   34.8   0   0   0   0   1  15.00535  44  ...  0.4200   \n",
       "2    0  66.725000   41.8   0   1   0   0   0  17.07023  27  ...  0.9650   \n",
       "3    2  71.351000   24.2   1   0   0   0   0  11.10790  31  ...  0.0051   \n",
       "4    1  67.879000   42.3   0   0   0   0   1  15.07912  31  ...  0.0022   \n",
       "5    1  76.994634    7.6   1   0   0   0   0  16.65255  45  ...  0.0094   \n",
       "6    0  64.827000   75.9   0   0   0   0   0  15.78388  31  ...  0.9000   \n",
       "7    2  70.705000   19.6   1   0   0   0   0  12.45424  31  ...  0.0000   \n",
       "8    2  72.390000   19.6   1   0   0   0   0  13.11419  31  ...  0.8635   \n",
       "9    1  71.383000   16.0   1   0   0   0   0  12.46987  31  ...  0.0042   \n",
       "10   1  71.246000   31.3   1   0   0   0   0  12.14181  31  ...  0.0053   \n",
       "11   0  53.812000  107.1   0   1   0   0   0  15.42064  31  ...  0.1836   \n",
       "12   0  55.104000   85.3   0   0   0   1   0  15.74067  42  ...  0.0002   \n",
       "13   1  70.877000   16.1   0   0   0   0   1  15.31143  31  ...  0.4037   \n",
       "14   2  61.905000   39.5   1   0   0   0   0  14.13608  31  ...  0.0018   \n",
       "\n",
       "       x24  x25  x26       x27  x28  x29  x30       x31       x32  \n",
       "0   0.0003    6    6   24.7138    0    0    7  0.056546  0.112860  \n",
       "1   0.0000    8    4   38.0658    0    0    7  0.655260  0.886908  \n",
       "2   0.0000    6    6   48.3807    0    1    4  0.067855  0.133944  \n",
       "3   0.0000    5    7  175.9250    0    0    3  0.318584  0.627729  \n",
       "4   0.0001    7    3   81.3357    0    0    5  0.219665  0.436101  \n",
       "5   0.0082    6    6   31.9150    1    0    1  0.297416  0.558743  \n",
       "6   0.0000    7    3   83.0969    0    0    5  0.185113  0.342531  \n",
       "7   0.0000    6    6  110.1200    0    0    2  0.292938  0.583095  \n",
       "8   0.0002    6    6  210.1610    0    0    6  0.244678  0.442987  \n",
       "9   0.0004    6    6  100.8310    0    0    1  0.431135  0.850350  \n",
       "10  0.0032    6    6  122.2850    0    0    1  0.234838  0.445292  \n",
       "11  0.0000    7    6   40.6187    0    0    6  0.597977  0.867463  \n",
       "12  0.0007    6    6   46.7033    0    0    2  0.087340  0.174012  \n",
       "13  0.0000    8    4  101.8470    1    0    6  0.569496  0.925681  \n",
       "14  0.0000    5    7  104.8470    0    0    1  0.498279  0.990623  \n",
       "\n",
       "[15 rows x 33 columns]"
      ]
     },
     "execution_count": 7,
     "metadata": {},
     "output_type": "execute_result"
    }
   ],
   "source": [
    "count_data.head(15)"
   ]
  },
  {
   "cell_type": "code",
   "execution_count": 8,
   "metadata": {},
   "outputs": [
    {
     "data": {
      "text/plain": [
       "<matplotlib.axes._subplots.AxesSubplot at 0x18799741748>"
      ]
     },
     "execution_count": 8,
     "metadata": {},
     "output_type": "execute_result"
    },
    {
     "data": {
      "image/png": "[encoded data removed]",
      "text/plain": [
       "<Figure size 1800x1800 with 2 Axes>"
      ]
     },
     "metadata": {
      "needs_background": "light"
     },
     "output_type": "display_data"
    }
   ],
   "source": [
    "corr_data = count_data.corr().abs()\n",
    "\n",
    "fig, ax = plt.subplots()\n",
    "fig.set_size_inches(25,25)\n",
    "sns.heatmap(corr_data)"
   ]
  },
  {
   "cell_type": "code",
   "execution_count": 9,
   "metadata": {},
   "outputs": [],
   "source": [
    "data = count_data.drop(['yC'], axis=1)\n",
    "target = count_data['yC']"
   ]
  },
  {
   "cell_type": "code",
   "execution_count": 10,
   "metadata": {},
   "outputs": [
    {
     "data": {
      "text/plain": [
       "<matplotlib.axes._subplots.AxesSubplot at 0x1879a8319e8>"
      ]
     },
     "execution_count": 10,
     "metadata": {},
     "output_type": "execute_result"
    },
    {
     "data": {
      "image/png": "[encoded data removed]",
      "text/plain": [
       "<Figure size 432x288 with 1 Axes>"
      ]
     },
     "metadata": {
      "needs_background": "light"
     },
     "output_type": "display_data"
    }
   ],
   "source": [
    "target.value_counts().plot(kind='bar')"
   ]
  },
  {
   "cell_type": "code",
   "execution_count": 11,
   "metadata": {},
   "outputs": [],
   "source": [
    "numerical_features = ['x1', 'x2', 'x8', 'x10', 'x11','x12','x21','x22','x23','x24','x27','x31','x32']"
   ]
  },
  {
   "cell_type": "code",
   "execution_count": 12,
   "metadata": {},
   "outputs": [],
   "source": [
    "categorical_features = ['x3','x4','x5','x6','x7','x13','x14',\n",
    "                        'x15','x16','x17','x18','x19','x20','x28','x29']"
   ]
  },
  {
   "cell_type": "code",
   "execution_count": 13,
   "metadata": {},
   "outputs": [],
   "source": [
    "count_features = [i for i in data.columns if i not in numerical_features and i not in categorical_features]"
   ]
  },
  {
   "cell_type": "code",
   "execution_count": 14,
   "metadata": {},
   "outputs": [],
   "source": [
    "si = SimpleImputer(strategy='median').fit(data[numerical_features + count_features])"
   ]
  },
  {
   "cell_type": "code",
   "execution_count": 15,
   "metadata": {},
   "outputs": [],
   "source": [
    "data[numerical_features + count_features] = si.transform(data[numerical_features + count_features])"
   ]
  },
  {
   "cell_type": "code",
   "execution_count": 16,
   "metadata": {},
   "outputs": [],
   "source": [
    "se = StandardScaler().fit(data[numerical_features])\n",
    "mms = MinMaxScaler().fit(data[count_features])"
   ]
  },
  {
   "cell_type": "code",
   "execution_count": 17,
   "metadata": {},
   "outputs": [],
   "source": [
    "data[numerical_features] = se.transform(data[numerical_features])\n",
    "data[count_features] = mms.transform(data[count_features])"
   ]
  },
  {
   "cell_type": "code",
   "execution_count": 18,
   "metadata": {},
   "outputs": [
    {
     "data": {
      "text/plain": [
       "0      1\n",
       "1      0\n",
       "2      0\n",
       "3      2\n",
       "4      1\n",
       "      ..\n",
       "115    0\n",
       "116    0\n",
       "117    4\n",
       "118    2\n",
       "119    2\n",
       "Name: yC, Length: 120, dtype: int64"
      ]
     },
     "execution_count": 18,
     "metadata": {},
     "output_type": "execute_result"
    }
   ],
   "source": [
    "data.fillna(data.median())\n",
    "target.fillna(target.median())"
   ]
  },
  {
   "cell_type": "code",
   "execution_count": 19,
   "metadata": {},
   "outputs": [],
   "source": [
    "is_discrete = [i in categorical_features for i in data.columns]"
   ]
  },
  {
   "cell_type": "code",
   "execution_count": 20,
   "metadata": {},
   "outputs": [],
   "source": [
    "mutual_info = mutual_info_regression(data, target, discrete_features=is_discrete, random_state=42)"
   ]
  },
  {
   "cell_type": "code",
   "execution_count": 21,
   "metadata": {},
   "outputs": [],
   "source": [
    "mutual_info_series = pd.Series(data=mutual_info,index=data.columns)"
   ]
  },
  {
   "cell_type": "code",
   "execution_count": 22,
   "metadata": {},
   "outputs": [
    {
     "data": {
      "text/plain": [
       "<matplotlib.axes._subplots.AxesSubplot at 0x18799c23208>"
      ]
     },
     "execution_count": 22,
     "metadata": {},
     "output_type": "execute_result"
    },
    {
     "data": {
      "image/png": "[encoded data removed]",
      "text/plain": [
       "<Figure size 432x288 with 1 Axes>"
      ]
     },
     "metadata": {
      "needs_background": "light"
     },
     "output_type": "display_data"
    }
   ],
   "source": [
    "mutual_info_series.sort_values(ascending=False).plot.bar()"
   ]
  },
  {
   "cell_type": "code",
   "execution_count": 23,
   "metadata": {},
   "outputs": [],
   "source": [
    "mutual_info_series.sort_values(ascending=False, inplace=True)"
   ]
  },
  {
   "cell_type": "code",
   "execution_count": 24,
   "metadata": {},
   "outputs": [],
   "source": [
    "selected_features = mutual_info_series[mutual_info_series > 1e-2].index.to_numpy()"
   ]
  },
  {
   "cell_type": "code",
   "execution_count": 25,
   "metadata": {},
   "outputs": [
    {
     "data": {
      "text/plain": [
       "array(['x30', 'x25', 'x11', 'x3', 'x21', 'x26', 'x24', 'x1', 'x2', 'x4',\n",
       "       'x14', 'x19', 'x10', 'x15', 'x17', 'x23', 'x9', 'x18'],\n",
       "      dtype=object)"
      ]
     },
     "execution_count": 25,
     "metadata": {},
     "output_type": "execute_result"
    }
   ],
   "source": [
    "selected_features"
   ]
  },
  {
   "cell_type": "code",
   "execution_count": 26,
   "metadata": {
    "scrolled": false
   },
   "outputs": [
    {
     "name": "stdout",
     "output_type": "stream",
     "text": [
      "Previous error: 1000000.0\n",
      "Current best: 1000000.0\n",
      "Currently training model with features: ['x30']\n"
     ]
    },
    {
     "name": "stderr",
     "output_type": "stream",
     "text": [
      "C:\\Users\\mmeji\\.conda\\envs\\ec1209\\lib\\site-packages\\sklearn\\model_selection\\_search.py:764: RuntimeWarning: invalid value encountered in subtract\n",
      "  array_means[:, np.newaxis]) ** 2,\n",
      "C:\\Users\\mmeji\\.conda\\envs\\ec1209\\lib\\site-packages\\sklearn\\model_selection\\_search.py:764: RuntimeWarning: overflow encountered in square\n",
      "  array_means[:, np.newaxis]) ** 2,\n"
     ]
    },
    {
     "name": "stdout",
     "output_type": "stream",
     "text": [
      "Finished training model, score: 1.537565184072939 \n",
      "\n",
      "\n",
      "Previous error: 1.537565184072939\n",
      "Current best: 1.537565184072939\n",
      "Currently training model with features: ['x30', 'x25']\n"
     ]
    },
    {
     "name": "stderr",
     "output_type": "stream",
     "text": [
      "C:\\Users\\mmeji\\.conda\\envs\\ec1209\\lib\\site-packages\\sklearn\\model_selection\\_search.py:764: RuntimeWarning: invalid value encountered in subtract\n",
      "  array_means[:, np.newaxis]) ** 2,\n",
      "C:\\Users\\mmeji\\.conda\\envs\\ec1209\\lib\\site-packages\\sklearn\\model_selection\\_search.py:764: RuntimeWarning: overflow encountered in square\n",
      "  array_means[:, np.newaxis]) ** 2,\n"
     ]
    },
    {
     "name": "stdout",
     "output_type": "stream",
     "text": [
      "Finished training model, score: 1.0409610776447153 \n",
      "\n",
      "\n",
      "Previous error: 1.0409610776447153\n",
      "Current best: 1.0409610776447153\n",
      "Currently training model with features: ['x30', 'x25', 'x11']\n"
     ]
    },
    {
     "name": "stderr",
     "output_type": "stream",
     "text": [
      "C:\\Users\\mmeji\\.conda\\envs\\ec1209\\lib\\site-packages\\sklearn\\model_selection\\_search.py:764: RuntimeWarning: invalid value encountered in subtract\n",
      "  array_means[:, np.newaxis]) ** 2,\n",
      "C:\\Users\\mmeji\\.conda\\envs\\ec1209\\lib\\site-packages\\sklearn\\model_selection\\_search.py:764: RuntimeWarning: overflow encountered in square\n",
      "  array_means[:, np.newaxis]) ** 2,\n"
     ]
    },
    {
     "name": "stdout",
     "output_type": "stream",
     "text": [
      "Finished training model, score: 0.8948008653720805 \n",
      "\n",
      "\n",
      "Previous error: 0.8948008653720805\n",
      "Current best: 0.8948008653720805\n",
      "Currently training model with features: ['x30', 'x25', 'x11', 'x3']\n"
     ]
    },
    {
     "name": "stderr",
     "output_type": "stream",
     "text": [
      "C:\\Users\\mmeji\\.conda\\envs\\ec1209\\lib\\site-packages\\sklearn\\model_selection\\_search.py:764: RuntimeWarning: invalid value encountered in subtract\n",
      "  array_means[:, np.newaxis]) ** 2,\n",
      "C:\\Users\\mmeji\\.conda\\envs\\ec1209\\lib\\site-packages\\sklearn\\model_selection\\_search.py:764: RuntimeWarning: overflow encountered in square\n",
      "  array_means[:, np.newaxis]) ** 2,\n"
     ]
    },
    {
     "name": "stdout",
     "output_type": "stream",
     "text": [
      "Finished training model, score: 0.6212569761685021 \n",
      "\n",
      "\n",
      "Previous error: 0.6212569761685021\n",
      "Current best: 0.6212569761685021\n",
      "Currently training model with features: ['x30', 'x25', 'x11', 'x3', 'x21']\n"
     ]
    },
    {
     "name": "stderr",
     "output_type": "stream",
     "text": [
      "C:\\Users\\mmeji\\.conda\\envs\\ec1209\\lib\\site-packages\\sklearn\\model_selection\\_search.py:764: RuntimeWarning: invalid value encountered in subtract\n",
      "  array_means[:, np.newaxis]) ** 2,\n",
      "C:\\Users\\mmeji\\.conda\\envs\\ec1209\\lib\\site-packages\\sklearn\\model_selection\\_search.py:764: RuntimeWarning: overflow encountered in square\n",
      "  array_means[:, np.newaxis]) ** 2,\n"
     ]
    },
    {
     "name": "stdout",
     "output_type": "stream",
     "text": [
      "Finished training model, score: 0.8345500882323594 \n",
      "\n",
      "\n",
      "Previous error: 0.8345500882323594\n",
      "Current best: 0.6212569761685021\n",
      "Currently training model with features: ['x30', 'x25', 'x11', 'x3', 'x21', 'x26']\n"
     ]
    },
    {
     "name": "stderr",
     "output_type": "stream",
     "text": [
      "C:\\Users\\mmeji\\.conda\\envs\\ec1209\\lib\\site-packages\\sklearn\\model_selection\\_search.py:764: RuntimeWarning: invalid value encountered in subtract\n",
      "  array_means[:, np.newaxis]) ** 2,\n",
      "C:\\Users\\mmeji\\.conda\\envs\\ec1209\\lib\\site-packages\\sklearn\\model_selection\\_search.py:764: RuntimeWarning: overflow encountered in square\n",
      "  array_means[:, np.newaxis]) ** 2,\n"
     ]
    },
    {
     "name": "stdout",
     "output_type": "stream",
     "text": [
      "Finished training model, score: 0.81854740060851 \n",
      "\n",
      "\n",
      "Previous error: 0.81854740060851\n",
      "Current best: 0.6212569761685021\n",
      "Currently training model with features: ['x30', 'x25', 'x11', 'x3', 'x21', 'x26', 'x24']\n"
     ]
    },
    {
     "name": "stderr",
     "output_type": "stream",
     "text": [
      "C:\\Users\\mmeji\\.conda\\envs\\ec1209\\lib\\site-packages\\sklearn\\model_selection\\_search.py:764: RuntimeWarning: invalid value encountered in subtract\n",
      "  array_means[:, np.newaxis]) ** 2,\n",
      "C:\\Users\\mmeji\\.conda\\envs\\ec1209\\lib\\site-packages\\sklearn\\model_selection\\_search.py:764: RuntimeWarning: overflow encountered in square\n",
      "  array_means[:, np.newaxis]) ** 2,\n"
     ]
    },
    {
     "name": "stdout",
     "output_type": "stream",
     "text": [
      "Finished training model, score: 1.0138892348684883 \n",
      "\n",
      "\n",
      "Previous error: 1.0138892348684883\n",
      "Current best: 0.6212569761685021\n",
      "Currently training model with features: ['x30', 'x25', 'x11', 'x3', 'x21', 'x26', 'x24', 'x1']\n"
     ]
    },
    {
     "name": "stderr",
     "output_type": "stream",
     "text": [
      "C:\\Users\\mmeji\\.conda\\envs\\ec1209\\lib\\site-packages\\sklearn\\model_selection\\_search.py:764: RuntimeWarning: invalid value encountered in subtract\n",
      "  array_means[:, np.newaxis]) ** 2,\n",
      "C:\\Users\\mmeji\\.conda\\envs\\ec1209\\lib\\site-packages\\sklearn\\model_selection\\_search.py:764: RuntimeWarning: overflow encountered in square\n",
      "  array_means[:, np.newaxis]) ** 2,\n"
     ]
    },
    {
     "name": "stdout",
     "output_type": "stream",
     "text": [
      "Finished training model, score: 1.0109715725071486 \n",
      "\n",
      "\n",
      "Previous error: 1.0109715725071486\n",
      "Current best: 0.6212569761685021\n",
      "Currently training model with features: ['x30', 'x25', 'x11', 'x3', 'x21', 'x26', 'x24', 'x1', 'x2']\n"
     ]
    },
    {
     "name": "stderr",
     "output_type": "stream",
     "text": [
      "C:\\Users\\mmeji\\.conda\\envs\\ec1209\\lib\\site-packages\\sklearn\\model_selection\\_search.py:764: RuntimeWarning: invalid value encountered in subtract\n",
      "  array_means[:, np.newaxis]) ** 2,\n",
      "C:\\Users\\mmeji\\.conda\\envs\\ec1209\\lib\\site-packages\\sklearn\\model_selection\\_search.py:764: RuntimeWarning: overflow encountered in square\n",
      "  array_means[:, np.newaxis]) ** 2,\n"
     ]
    },
    {
     "name": "stdout",
     "output_type": "stream",
     "text": [
      "Finished training model, score: 1.0109611468711763 \n",
      "\n",
      "\n",
      "Previous error: 1.0109611468711763\n",
      "Current best: 0.6212569761685021\n",
      "Currently training model with features: ['x30', 'x25', 'x11', 'x3', 'x21', 'x26', 'x24', 'x1', 'x2', 'x4']\n"
     ]
    },
    {
     "name": "stderr",
     "output_type": "stream",
     "text": [
      "C:\\Users\\mmeji\\.conda\\envs\\ec1209\\lib\\site-packages\\sklearn\\model_selection\\_search.py:764: RuntimeWarning: invalid value encountered in subtract\n",
      "  array_means[:, np.newaxis]) ** 2,\n",
      "C:\\Users\\mmeji\\.conda\\envs\\ec1209\\lib\\site-packages\\sklearn\\model_selection\\_search.py:764: RuntimeWarning: overflow encountered in square\n",
      "  array_means[:, np.newaxis]) ** 2,\n",
      "C:\\Users\\mmeji\\.conda\\envs\\ec1209\\lib\\site-packages\\sklearn\\neural_network\\multilayer_perceptron.py:566: ConvergenceWarning: Stochastic Optimizer: Maximum iterations (200) reached and the optimization hasn't converged yet.\n",
      "  % self.max_iter, ConvergenceWarning)\n"
     ]
    },
    {
     "name": "stdout",
     "output_type": "stream",
     "text": [
      "Finished training model, score: 1.8898259538500664 \n",
      "\n",
      "\n",
      "Previous error: 1.8898259538500664\n",
      "Current best: 0.6212569761685021\n",
      "Currently training model with features: ['x30', 'x25', 'x11', 'x3', 'x21', 'x26', 'x24', 'x1', 'x2', 'x4', 'x14']\n"
     ]
    },
    {
     "name": "stderr",
     "output_type": "stream",
     "text": [
      "C:\\Users\\mmeji\\.conda\\envs\\ec1209\\lib\\site-packages\\sklearn\\model_selection\\_search.py:764: RuntimeWarning: invalid value encountered in subtract\n",
      "  array_means[:, np.newaxis]) ** 2,\n",
      "C:\\Users\\mmeji\\.conda\\envs\\ec1209\\lib\\site-packages\\sklearn\\model_selection\\_search.py:764: RuntimeWarning: overflow encountered in square\n",
      "  array_means[:, np.newaxis]) ** 2,\n",
      "C:\\Users\\mmeji\\.conda\\envs\\ec1209\\lib\\site-packages\\sklearn\\neural_network\\multilayer_perceptron.py:566: ConvergenceWarning: Stochastic Optimizer: Maximum iterations (200) reached and the optimization hasn't converged yet.\n",
      "  % self.max_iter, ConvergenceWarning)\n"
     ]
    },
    {
     "name": "stdout",
     "output_type": "stream",
     "text": [
      "Finished training model, score: 3.387098238683583 \n",
      "\n",
      "\n",
      "Previous error: 3.387098238683583\n",
      "Current best: 0.6212569761685021\n",
      "Currently training model with features: ['x30', 'x25', 'x11', 'x3', 'x21', 'x26', 'x24', 'x1', 'x2', 'x4', 'x14', 'x19']\n"
     ]
    },
    {
     "name": "stderr",
     "output_type": "stream",
     "text": [
      "C:\\Users\\mmeji\\.conda\\envs\\ec1209\\lib\\site-packages\\sklearn\\model_selection\\_search.py:764: RuntimeWarning: invalid value encountered in subtract\n",
      "  array_means[:, np.newaxis]) ** 2,\n",
      "C:\\Users\\mmeji\\.conda\\envs\\ec1209\\lib\\site-packages\\sklearn\\model_selection\\_search.py:764: RuntimeWarning: overflow encountered in square\n",
      "  array_means[:, np.newaxis]) ** 2,\n",
      "C:\\Users\\mmeji\\.conda\\envs\\ec1209\\lib\\site-packages\\sklearn\\neural_network\\multilayer_perceptron.py:566: ConvergenceWarning: Stochastic Optimizer: Maximum iterations (200) reached and the optimization hasn't converged yet.\n",
      "  % self.max_iter, ConvergenceWarning)\n"
     ]
    },
    {
     "name": "stdout",
     "output_type": "stream",
     "text": [
      "Finished training model, score: 1.8208527104636774 \n",
      "\n",
      "\n",
      "Previous error: 1.8208527104636774\n",
      "Current best: 0.6212569761685021\n",
      "Currently training model with features: ['x30', 'x25', 'x11', 'x3', 'x21', 'x26', 'x24', 'x1', 'x2', 'x4', 'x14', 'x19', 'x10']\n"
     ]
    },
    {
     "name": "stderr",
     "output_type": "stream",
     "text": [
      "C:\\Users\\mmeji\\.conda\\envs\\ec1209\\lib\\site-packages\\sklearn\\model_selection\\_search.py:764: RuntimeWarning: invalid value encountered in subtract\n",
      "  array_means[:, np.newaxis]) ** 2,\n",
      "C:\\Users\\mmeji\\.conda\\envs\\ec1209\\lib\\site-packages\\sklearn\\model_selection\\_search.py:764: RuntimeWarning: overflow encountered in square\n",
      "  array_means[:, np.newaxis]) ** 2,\n",
      "C:\\Users\\mmeji\\.conda\\envs\\ec1209\\lib\\site-packages\\sklearn\\neural_network\\multilayer_perceptron.py:566: ConvergenceWarning: Stochastic Optimizer: Maximum iterations (200) reached and the optimization hasn't converged yet.\n",
      "  % self.max_iter, ConvergenceWarning)\n"
     ]
    },
    {
     "name": "stdout",
     "output_type": "stream",
     "text": [
      "Finished training model, score: 1.667833731021688 \n",
      "\n",
      "\n",
      "Previous error: 1.667833731021688\n",
      "Current best: 0.6212569761685021\n",
      "Currently training model with features: ['x30', 'x25', 'x11', 'x3', 'x21', 'x26', 'x24', 'x1', 'x2', 'x4', 'x14', 'x19', 'x10', 'x15']\n"
     ]
    },
    {
     "name": "stderr",
     "output_type": "stream",
     "text": [
      "C:\\Users\\mmeji\\.conda\\envs\\ec1209\\lib\\site-packages\\sklearn\\model_selection\\_search.py:764: RuntimeWarning: invalid value encountered in subtract\n",
      "  array_means[:, np.newaxis]) ** 2,\n",
      "C:\\Users\\mmeji\\.conda\\envs\\ec1209\\lib\\site-packages\\sklearn\\model_selection\\_search.py:764: RuntimeWarning: overflow encountered in square\n",
      "  array_means[:, np.newaxis]) ** 2,\n"
     ]
    },
    {
     "name": "stdout",
     "output_type": "stream",
     "text": [
      "Finished training model, score: 1.0109611468711763 \n",
      "\n",
      "\n",
      "Previous error: 1.0109611468711763\n",
      "Current best: 0.6212569761685021\n",
      "Currently training model with features: ['x30', 'x25', 'x11', 'x3', 'x21', 'x26', 'x24', 'x1', 'x2', 'x4', 'x14', 'x19', 'x10', 'x15', 'x17']\n"
     ]
    },
    {
     "name": "stderr",
     "output_type": "stream",
     "text": [
      "C:\\Users\\mmeji\\.conda\\envs\\ec1209\\lib\\site-packages\\sklearn\\model_selection\\_search.py:764: RuntimeWarning: invalid value encountered in subtract\n",
      "  array_means[:, np.newaxis]) ** 2,\n",
      "C:\\Users\\mmeji\\.conda\\envs\\ec1209\\lib\\site-packages\\sklearn\\model_selection\\_search.py:764: RuntimeWarning: overflow encountered in square\n",
      "  array_means[:, np.newaxis]) ** 2,\n"
     ]
    },
    {
     "name": "stdout",
     "output_type": "stream",
     "text": [
      "Finished training model, score: 1.0109611468711763 \n",
      "\n",
      "\n",
      "Previous error: 1.0109611468711763\n",
      "Current best: 0.6212569761685021\n",
      "Currently training model with features: ['x30', 'x25', 'x11', 'x3', 'x21', 'x26', 'x24', 'x1', 'x2', 'x4', 'x14', 'x19', 'x10', 'x15', 'x17', 'x23']\n"
     ]
    },
    {
     "name": "stderr",
     "output_type": "stream",
     "text": [
      "C:\\Users\\mmeji\\.conda\\envs\\ec1209\\lib\\site-packages\\sklearn\\model_selection\\_search.py:764: RuntimeWarning: invalid value encountered in subtract\n",
      "  array_means[:, np.newaxis]) ** 2,\n",
      "C:\\Users\\mmeji\\.conda\\envs\\ec1209\\lib\\site-packages\\sklearn\\model_selection\\_search.py:764: RuntimeWarning: overflow encountered in square\n",
      "  array_means[:, np.newaxis]) ** 2,\n"
     ]
    },
    {
     "name": "stdout",
     "output_type": "stream",
     "text": [
      "Finished training model, score: 0.7213256468550481 \n",
      "\n",
      "\n",
      "Previous error: 0.7213256468550481\n",
      "Current best: 0.6212569761685021\n",
      "Currently training model with features: ['x30', 'x25', 'x11', 'x3', 'x21', 'x26', 'x24', 'x1', 'x2', 'x4', 'x14', 'x19', 'x10', 'x15', 'x17', 'x23', 'x9']\n"
     ]
    },
    {
     "name": "stderr",
     "output_type": "stream",
     "text": [
      "C:\\Users\\mmeji\\.conda\\envs\\ec1209\\lib\\site-packages\\sklearn\\model_selection\\_search.py:764: RuntimeWarning: invalid value encountered in subtract\n",
      "  array_means[:, np.newaxis]) ** 2,\n",
      "C:\\Users\\mmeji\\.conda\\envs\\ec1209\\lib\\site-packages\\sklearn\\model_selection\\_search.py:764: RuntimeWarning: overflow encountered in square\n",
      "  array_means[:, np.newaxis]) ** 2,\n"
     ]
    },
    {
     "name": "stdout",
     "output_type": "stream",
     "text": [
      "Finished training model, score: 0.7213256468550481 \n",
      "\n",
      "\n",
      "Previous error: 0.7213256468550481\n",
      "Current best: 0.6212569761685021\n",
      "Currently training model with features: ['x30', 'x25', 'x11', 'x3', 'x21', 'x26', 'x24', 'x1', 'x2', 'x4', 'x14', 'x19', 'x10', 'x15', 'x17', 'x23', 'x9', 'x18']\n",
      "Finished training model, score: 0.7213256468550481 \n",
      "\n",
      "\n",
      "Selected features to run: ['x30', 'x25', 'x11', 'x3']\n"
     ]
    },
    {
     "name": "stderr",
     "output_type": "stream",
     "text": [
      "C:\\Users\\mmeji\\.conda\\envs\\ec1209\\lib\\site-packages\\sklearn\\model_selection\\_search.py:764: RuntimeWarning: invalid value encountered in subtract\n",
      "  array_means[:, np.newaxis]) ** 2,\n",
      "C:\\Users\\mmeji\\.conda\\envs\\ec1209\\lib\\site-packages\\sklearn\\model_selection\\_search.py:764: RuntimeWarning: overflow encountered in square\n",
      "  array_means[:, np.newaxis]) ** 2,\n"
     ]
    }
   ],
   "source": [
    "current_features = []\n",
    "current_mse = 0\n",
    "previous_mse = 1e6 # randomly chosen to always be higher the first run\n",
    "best_mse = 1e6 # randomly chosen to always be higher the first run\n",
    "features_to_use = []\n",
    "\n",
    "count_pipeline = Pipeline([\n",
    "    ('model', MLPRegressor()) #Placeholder in order to call the GridSearchCV on the pipeline\n",
    "])\n",
    "\n",
    "\n",
    "parameter_space = [{\n",
    "    'model': [MLPRegressor()],\n",
    "    'model__hidden_layer_sizes': [(3,), (3,5), (3,5,7), (3,5,7,9), (7,5,3), (5,3)]\n",
    "},\n",
    "{\n",
    "    'model': [GradientBoostingRegressor()],\n",
    "    'model__learning_rate': [0.1, 0.5, 1.5, 0.01, 5],\n",
    "    'model__n_estimators': [100, 200, 500, 50]\n",
    "}]\n",
    "\n",
    "\n",
    "model = GridSearchCV(count_pipeline, parameter_space, cv=3, scoring='neg_mean_squared_error',\n",
    "                          n_jobs=-1, refit='neg_mean_squared_error')\n",
    "\n",
    "for x in selected_features:\n",
    "    current_features.append(x)\n",
    "    \n",
    "    print(\"Previous error: {}\".format(previous_mse))\n",
    "    print(\"Current best: {}\".format(best_mse))\n",
    "    \n",
    "    print(\"Currently training model with features: {}\".format(current_features))\n",
    "    \n",
    "    model.fit(data[current_features].values, target)\n",
    "    \n",
    "    current_mse = mean_squared_error(target, model.predict(data[current_features]))\n",
    "    \n",
    "    print(\"Finished training model, score: {} \\n\\n\".format(current_mse))\n",
    "    \n",
    "    if current_mse < previous_mse and current_mse <= best_mse:\n",
    "        features_to_use.append(x)\n",
    "        best_mse = current_mse\n",
    "    previous_mse = current_mse\n",
    "\n",
    "print(\"Selected features to run: {}\".format(features_to_use))"
   ]
  },
  {
   "cell_type": "code",
   "execution_count": 27,
   "metadata": {},
   "outputs": [
    {
     "name": "stderr",
     "output_type": "stream",
     "text": [
      "C:\\Users\\mmeji\\.conda\\envs\\ec1209\\lib\\site-packages\\sklearn\\model_selection\\_search.py:764: RuntimeWarning: invalid value encountered in subtract\n",
      "  array_means[:, np.newaxis]) ** 2,\n",
      "C:\\Users\\mmeji\\.conda\\envs\\ec1209\\lib\\site-packages\\sklearn\\model_selection\\_search.py:764: RuntimeWarning: overflow encountered in square\n",
      "  array_means[:, np.newaxis]) ** 2,\n"
     ]
    },
    {
     "data": {
      "text/plain": [
       "GridSearchCV(cv=3, error_score='raise-deprecating',\n",
       "             estimator=Pipeline(memory=None,\n",
       "                                steps=[('model',\n",
       "                                        MLPRegressor(activation='relu',\n",
       "                                                     alpha=0.0001,\n",
       "                                                     batch_size='auto',\n",
       "                                                     beta_1=0.9, beta_2=0.999,\n",
       "                                                     early_stopping=False,\n",
       "                                                     epsilon=1e-08,\n",
       "                                                     hidden_layer_sizes=(100,),\n",
       "                                                     learning_rate='constant',\n",
       "                                                     learning_rate_init=0.001,\n",
       "                                                     max_iter=200, momentum=0.9,\n",
       "                                                     n_iter_no_change=10,\n",
       "                                                     nesterovs_...\n",
       "                                                              n_estimators=200,\n",
       "                                                              n_iter_no_change=None,\n",
       "                                                              presort='auto',\n",
       "                                                              random_state=None,\n",
       "                                                              subsample=1.0,\n",
       "                                                              tol=0.0001,\n",
       "                                                              validation_fraction=0.1,\n",
       "                                                              verbose=0,\n",
       "                                                              warm_start=False)],\n",
       "                          'model__learning_rate': [0.1, 0.5, 1.5, 0.01, 5],\n",
       "                          'model__n_estimators': [100, 200, 500, 50]}],\n",
       "             pre_dispatch='2*n_jobs', refit='neg_mean_squared_error',\n",
       "             return_train_score=False, scoring='neg_mean_squared_error',\n",
       "             verbose=0)"
      ]
     },
     "execution_count": 27,
     "metadata": {},
     "output_type": "execute_result"
    }
   ],
   "source": [
    "model.fit(data[features_to_use + ['x18','x23']], target)"
   ]
  },
  {
   "cell_type": "code",
   "execution_count": 28,
   "metadata": {},
   "outputs": [
    {
     "name": "stdout",
     "output_type": "stream",
     "text": [
      "0.5379447971274492\n"
     ]
    }
   ],
   "source": [
    "print(mean_squared_error(target, model.predict(data[features_to_use + ['x18','x23']])))"
   ]
  },
  {
   "cell_type": "code",
   "execution_count": 29,
   "metadata": {},
   "outputs": [],
   "source": [
    "count_data_test = pd.read_csv('../data/test/datacountstudents_test.csv')"
   ]
  },
  {
   "cell_type": "code",
   "execution_count": 30,
   "metadata": {},
   "outputs": [],
   "source": [
    "test_data = count_data_test.drop(['yC'], axis=1)\n",
    "test_target = count_data_test['yC']"
   ]
  },
  {
   "cell_type": "code",
   "execution_count": 31,
   "metadata": {},
   "outputs": [
    {
     "data": {
      "text/plain": [
       "0     0\n",
       "1     3\n",
       "2     0\n",
       "3     2\n",
       "4     2\n",
       "5     3\n",
       "6     2\n",
       "7     1\n",
       "8     0\n",
       "9     1\n",
       "10    1\n",
       "11    0\n",
       "12    2\n",
       "13    4\n",
       "14    2\n",
       "15    5\n",
       "16    1\n",
       "17    0\n",
       "18    2\n",
       "19    0\n",
       "20    2\n",
       "21    6\n",
       "22    2\n",
       "23    0\n",
       "24    1\n",
       "25    0\n",
       "26    2\n",
       "27    0\n",
       "28    4\n",
       "29    2\n",
       "Name: yC, dtype: int64"
      ]
     },
     "execution_count": 31,
     "metadata": {},
     "output_type": "execute_result"
    }
   ],
   "source": [
    "test_data[numerical_features + count_features] = si.transform(test_data[numerical_features + count_features])\n",
    "test_data[numerical_features] = se.transform(test_data[numerical_features])\n",
    "test_data[count_features] = mms.transform(test_data[count_features])\n",
    "test_data.fillna(test_data.median())\n",
    "test_target.fillna(test_target.median())"
   ]
  },
  {
   "cell_type": "code",
   "execution_count": 32,
   "metadata": {},
   "outputs": [
    {
     "name": "stdout",
     "output_type": "stream",
     "text": [
      "2.1339326252964432\n"
     ]
    }
   ],
   "source": [
    "print(mean_squared_error(test_target, model.predict(test_data[features_to_use + ['x18','x23']])))"
   ]
  },
  {
   "cell_type": "code",
   "execution_count": 35,
   "metadata": {},
   "outputs": [],
   "source": [
    "data_dict = {\"real\": test_target, \"guess\": model.predict(test_data[features_to_use + ['x18','x23']])}\n",
    "results = pd.DataFrame(data_dict)"
   ]
  },
  {
   "cell_type": "code",
   "execution_count": 36,
   "metadata": {},
   "outputs": [],
   "source": [
    "results.to_csv('../validation/conteo/miguel.csv')"
   ]
  },
  {
   "cell_type": "code",
   "execution_count": null,
   "metadata": {},
   "outputs": [],
   "source": []
  }
 ],
 "metadata": {
  "kernelspec": {
   "display_name": "Python 3",
   "language": "python",
   "name": "python3"
  },
  "language_info": {
   "codemirror_mode": {
    "name": "ipython",
    "version": 3
   },
   "file_extension": ".py",
   "mimetype": "text/x-python",
   "name": "python",
   "nbconvert_exporter": "python",
   "pygments_lexer": "ipython3",
   "version": "3.7.3"
  }
 },
 "nbformat": 4,
 "nbformat_minor": 2
}
