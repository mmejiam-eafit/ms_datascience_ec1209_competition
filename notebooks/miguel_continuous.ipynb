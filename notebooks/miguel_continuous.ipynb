{
 "cells": [
  {
   "cell_type": "code",
   "execution_count": 1,
   "metadata": {},
   "outputs": [],
   "source": [
    "# Load Basic libraries to manipulate the data\n",
    "import pandas as pd\n",
    "import numpy as np\n",
    "import matplotlib.pyplot as plt\n",
    "import seaborn as sns\n",
    "%matplotlib inline"
   ]
  },
  {
   "cell_type": "code",
   "execution_count": 2,
   "metadata": {},
   "outputs": [],
   "source": [
    "# Load models and metrics for those models\n",
    "from sklearn.preprocessing import StandardScaler, MinMaxScaler\n",
    "from sklearn.impute import SimpleImputer\n",
    "from sklearn.pipeline import Pipeline\n",
    "\n",
    "from sklearn.feature_selection import mutual_info_regression\n",
    "\n",
    "from sklearn.model_selection import GridSearchCV\n",
    "\n",
    "from sklearn.ensemble import GradientBoostingRegressor\n",
    "from sklearn.neural_network import MLPRegressor\n",
    "from sklearn.metrics import mean_squared_error"
   ]
  },
  {
   "cell_type": "code",
   "execution_count": 3,
   "metadata": {},
   "outputs": [],
   "source": [
    "# load data\n",
    "cont_data = pd.read_csv('../data/train/datacontinuousstudents_train.csv')"
   ]
  },
  {
   "cell_type": "code",
   "execution_count": 4,
   "metadata": {},
   "outputs": [
    {
     "data": {
      "text/plain": [
       "Index(['id', 'y', 'x1', 'x2', 'x3', 'x4', 'x5', 'x6', 'x7', 'x8', 'x9', 'x10',\n",
       "       'x11', 'x12', 'x13', 'x14', 'x15', 'x16', 'x17', 'x18', 'x19', 'x20',\n",
       "       'x21', 'x22', 'x23', 'x24', 'x25', 'x26', 'x27', 'x28', 'x29', 'x30',\n",
       "       'x31', 'x32'],\n",
       "      dtype='object')"
      ]
     },
     "execution_count": 4,
     "metadata": {},
     "output_type": "execute_result"
    }
   ],
   "source": [
    "cont_data.columns"
   ]
  },
  {
   "cell_type": "code",
   "execution_count": 5,
   "metadata": {},
   "outputs": [],
   "source": [
    "cont_data.drop(['id'], axis=1, inplace=True)"
   ]
  },
  {
   "cell_type": "code",
   "execution_count": 6,
   "metadata": {},
   "outputs": [
    {
     "data": {
      "text/html": [
       "<div>\n",
       "<style scoped>\n",
       "    .dataframe tbody tr th:only-of-type {\n",
       "        vertical-align: middle;\n",
       "    }\n",
       "\n",
       "    .dataframe tbody tr th {\n",
       "        vertical-align: top;\n",
       "    }\n",
       "\n",
       "    .dataframe thead th {\n",
       "        text-align: right;\n",
       "    }\n",
       "</style>\n",
       "<table border=\"1\" class=\"dataframe\">\n",
       "  <thead>\n",
       "    <tr style=\"text-align: right;\">\n",
       "      <th></th>\n",
       "      <th>y</th>\n",
       "      <th>x1</th>\n",
       "      <th>x2</th>\n",
       "      <th>x3</th>\n",
       "      <th>x4</th>\n",
       "      <th>x5</th>\n",
       "      <th>x6</th>\n",
       "      <th>x7</th>\n",
       "      <th>x8</th>\n",
       "      <th>x9</th>\n",
       "      <th>...</th>\n",
       "      <th>x23</th>\n",
       "      <th>x24</th>\n",
       "      <th>x25</th>\n",
       "      <th>x26</th>\n",
       "      <th>x27</th>\n",
       "      <th>x28</th>\n",
       "      <th>x29</th>\n",
       "      <th>x30</th>\n",
       "      <th>x31</th>\n",
       "      <th>x32</th>\n",
       "    </tr>\n",
       "  </thead>\n",
       "  <tbody>\n",
       "    <tr>\n",
       "      <th>count</th>\n",
       "      <td>120.000000</td>\n",
       "      <td>120.000000</td>\n",
       "      <td>120.000000</td>\n",
       "      <td>120.000000</td>\n",
       "      <td>120.000000</td>\n",
       "      <td>120.000000</td>\n",
       "      <td>120.000000</td>\n",
       "      <td>120.000000</td>\n",
       "      <td>120.000000</td>\n",
       "      <td>120.000000</td>\n",
       "      <td>...</td>\n",
       "      <td>120.000000</td>\n",
       "      <td>120.000000</td>\n",
       "      <td>120.000000</td>\n",
       "      <td>120.000000</td>\n",
       "      <td>120.000000</td>\n",
       "      <td>120.000000</td>\n",
       "      <td>120.000000</td>\n",
       "      <td>120.000000</td>\n",
       "      <td>120.000000</td>\n",
       "      <td>120.000000</td>\n",
       "    </tr>\n",
       "    <tr>\n",
       "      <th>mean</th>\n",
       "      <td>0.513959</td>\n",
       "      <td>64.574126</td>\n",
       "      <td>49.281667</td>\n",
       "      <td>0.300000</td>\n",
       "      <td>0.141667</td>\n",
       "      <td>0.041667</td>\n",
       "      <td>0.108333</td>\n",
       "      <td>0.083333</td>\n",
       "      <td>15.299094</td>\n",
       "      <td>27.791667</td>\n",
       "      <td>...</td>\n",
       "      <td>0.219333</td>\n",
       "      <td>0.039371</td>\n",
       "      <td>6.366667</td>\n",
       "      <td>5.558333</td>\n",
       "      <td>81.542031</td>\n",
       "      <td>0.108333</td>\n",
       "      <td>0.050000</td>\n",
       "      <td>3.841667</td>\n",
       "      <td>0.281920</td>\n",
       "      <td>0.489820</td>\n",
       "    </tr>\n",
       "    <tr>\n",
       "      <th>std</th>\n",
       "      <td>2.250778</td>\n",
       "      <td>9.488580</td>\n",
       "      <td>40.817030</td>\n",
       "      <td>0.460179</td>\n",
       "      <td>0.350170</td>\n",
       "      <td>0.200664</td>\n",
       "      <td>0.312104</td>\n",
       "      <td>0.277544</td>\n",
       "      <td>1.937916</td>\n",
       "      <td>15.292056</td>\n",
       "      <td>...</td>\n",
       "      <td>0.342694</td>\n",
       "      <td>0.149234</td>\n",
       "      <td>0.897553</td>\n",
       "      <td>1.002483</td>\n",
       "      <td>48.853216</td>\n",
       "      <td>0.312104</td>\n",
       "      <td>0.218859</td>\n",
       "      <td>2.153738</td>\n",
       "      <td>0.191636</td>\n",
       "      <td>0.295519</td>\n",
       "    </tr>\n",
       "    <tr>\n",
       "      <th>min</th>\n",
       "      <td>-6.143410</td>\n",
       "      <td>41.696000</td>\n",
       "      <td>4.600000</td>\n",
       "      <td>0.000000</td>\n",
       "      <td>0.000000</td>\n",
       "      <td>0.000000</td>\n",
       "      <td>0.000000</td>\n",
       "      <td>0.000000</td>\n",
       "      <td>10.617270</td>\n",
       "      <td>0.000000</td>\n",
       "      <td>...</td>\n",
       "      <td>0.000000</td>\n",
       "      <td>0.000000</td>\n",
       "      <td>4.000000</td>\n",
       "      <td>3.000000</td>\n",
       "      <td>13.533800</td>\n",
       "      <td>0.000000</td>\n",
       "      <td>0.000000</td>\n",
       "      <td>1.000000</td>\n",
       "      <td>0.016302</td>\n",
       "      <td>0.032387</td>\n",
       "    </tr>\n",
       "    <tr>\n",
       "      <th>25%</th>\n",
       "      <td>-0.849932</td>\n",
       "      <td>57.820250</td>\n",
       "      <td>14.975000</td>\n",
       "      <td>0.000000</td>\n",
       "      <td>0.000000</td>\n",
       "      <td>0.000000</td>\n",
       "      <td>0.000000</td>\n",
       "      <td>0.000000</td>\n",
       "      <td>14.282493</td>\n",
       "      <td>27.000000</td>\n",
       "      <td>...</td>\n",
       "      <td>0.001375</td>\n",
       "      <td>0.000000</td>\n",
       "      <td>6.000000</td>\n",
       "      <td>5.000000</td>\n",
       "      <td>46.428100</td>\n",
       "      <td>0.000000</td>\n",
       "      <td>0.000000</td>\n",
       "      <td>2.000000</td>\n",
       "      <td>0.099620</td>\n",
       "      <td>0.191323</td>\n",
       "    </tr>\n",
       "    <tr>\n",
       "      <th>50%</th>\n",
       "      <td>0.563972</td>\n",
       "      <td>67.946500</td>\n",
       "      <td>36.300000</td>\n",
       "      <td>0.000000</td>\n",
       "      <td>0.000000</td>\n",
       "      <td>0.000000</td>\n",
       "      <td>0.000000</td>\n",
       "      <td>0.000000</td>\n",
       "      <td>15.437490</td>\n",
       "      <td>31.000000</td>\n",
       "      <td>...</td>\n",
       "      <td>0.019950</td>\n",
       "      <td>0.000100</td>\n",
       "      <td>6.000000</td>\n",
       "      <td>6.000000</td>\n",
       "      <td>69.777400</td>\n",
       "      <td>0.000000</td>\n",
       "      <td>0.000000</td>\n",
       "      <td>4.000000</td>\n",
       "      <td>0.247636</td>\n",
       "      <td>0.455207</td>\n",
       "    </tr>\n",
       "    <tr>\n",
       "      <th>75%</th>\n",
       "      <td>2.237177</td>\n",
       "      <td>71.359000</td>\n",
       "      <td>76.150000</td>\n",
       "      <td>1.000000</td>\n",
       "      <td>0.000000</td>\n",
       "      <td>0.000000</td>\n",
       "      <td>0.000000</td>\n",
       "      <td>0.000000</td>\n",
       "      <td>16.399015</td>\n",
       "      <td>40.250000</td>\n",
       "      <td>...</td>\n",
       "      <td>0.239000</td>\n",
       "      <td>0.001850</td>\n",
       "      <td>7.000000</td>\n",
       "      <td>6.000000</td>\n",
       "      <td>105.504000</td>\n",
       "      <td>0.000000</td>\n",
       "      <td>0.000000</td>\n",
       "      <td>6.000000</td>\n",
       "      <td>0.426950</td>\n",
       "      <td>0.795187</td>\n",
       "    </tr>\n",
       "    <tr>\n",
       "      <th>max</th>\n",
       "      <td>6.800272</td>\n",
       "      <td>78.836829</td>\n",
       "      <td>173.700000</td>\n",
       "      <td>1.000000</td>\n",
       "      <td>1.000000</td>\n",
       "      <td>1.000000</td>\n",
       "      <td>1.000000</td>\n",
       "      <td>1.000000</td>\n",
       "      <td>20.584160</td>\n",
       "      <td>45.000000</td>\n",
       "      <td>...</td>\n",
       "      <td>0.991800</td>\n",
       "      <td>0.846600</td>\n",
       "      <td>8.000000</td>\n",
       "      <td>7.000000</td>\n",
       "      <td>344.830000</td>\n",
       "      <td>1.000000</td>\n",
       "      <td>1.000000</td>\n",
       "      <td>7.000000</td>\n",
       "      <td>0.662330</td>\n",
       "      <td>0.996328</td>\n",
       "    </tr>\n",
       "  </tbody>\n",
       "</table>\n",
       "<p>8 rows × 33 columns</p>\n",
       "</div>"
      ],
      "text/plain": [
       "                y          x1          x2          x3          x4          x5  \\\n",
       "count  120.000000  120.000000  120.000000  120.000000  120.000000  120.000000   \n",
       "mean     0.513959   64.574126   49.281667    0.300000    0.141667    0.041667   \n",
       "std      2.250778    9.488580   40.817030    0.460179    0.350170    0.200664   \n",
       "min     -6.143410   41.696000    4.600000    0.000000    0.000000    0.000000   \n",
       "25%     -0.849932   57.820250   14.975000    0.000000    0.000000    0.000000   \n",
       "50%      0.563972   67.946500   36.300000    0.000000    0.000000    0.000000   \n",
       "75%      2.237177   71.359000   76.150000    1.000000    0.000000    0.000000   \n",
       "max      6.800272   78.836829  173.700000    1.000000    1.000000    1.000000   \n",
       "\n",
       "               x6          x7          x8          x9  ...         x23  \\\n",
       "count  120.000000  120.000000  120.000000  120.000000  ...  120.000000   \n",
       "mean     0.108333    0.083333   15.299094   27.791667  ...    0.219333   \n",
       "std      0.312104    0.277544    1.937916   15.292056  ...    0.342694   \n",
       "min      0.000000    0.000000   10.617270    0.000000  ...    0.000000   \n",
       "25%      0.000000    0.000000   14.282493   27.000000  ...    0.001375   \n",
       "50%      0.000000    0.000000   15.437490   31.000000  ...    0.019950   \n",
       "75%      0.000000    0.000000   16.399015   40.250000  ...    0.239000   \n",
       "max      1.000000    1.000000   20.584160   45.000000  ...    0.991800   \n",
       "\n",
       "              x24         x25         x26         x27         x28         x29  \\\n",
       "count  120.000000  120.000000  120.000000  120.000000  120.000000  120.000000   \n",
       "mean     0.039371    6.366667    5.558333   81.542031    0.108333    0.050000   \n",
       "std      0.149234    0.897553    1.002483   48.853216    0.312104    0.218859   \n",
       "min      0.000000    4.000000    3.000000   13.533800    0.000000    0.000000   \n",
       "25%      0.000000    6.000000    5.000000   46.428100    0.000000    0.000000   \n",
       "50%      0.000100    6.000000    6.000000   69.777400    0.000000    0.000000   \n",
       "75%      0.001850    7.000000    6.000000  105.504000    0.000000    0.000000   \n",
       "max      0.846600    8.000000    7.000000  344.830000    1.000000    1.000000   \n",
       "\n",
       "              x30         x31         x32  \n",
       "count  120.000000  120.000000  120.000000  \n",
       "mean     3.841667    0.281920    0.489820  \n",
       "std      2.153738    0.191636    0.295519  \n",
       "min      1.000000    0.016302    0.032387  \n",
       "25%      2.000000    0.099620    0.191323  \n",
       "50%      4.000000    0.247636    0.455207  \n",
       "75%      6.000000    0.426950    0.795187  \n",
       "max      7.000000    0.662330    0.996328  \n",
       "\n",
       "[8 rows x 33 columns]"
      ]
     },
     "execution_count": 6,
     "metadata": {},
     "output_type": "execute_result"
    }
   ],
   "source": [
    "cont_data.describe()"
   ]
  },
  {
   "cell_type": "code",
   "execution_count": 7,
   "metadata": {},
   "outputs": [
    {
     "data": {
      "text/html": [
       "<div>\n",
       "<style scoped>\n",
       "    .dataframe tbody tr th:only-of-type {\n",
       "        vertical-align: middle;\n",
       "    }\n",
       "\n",
       "    .dataframe tbody tr th {\n",
       "        vertical-align: top;\n",
       "    }\n",
       "\n",
       "    .dataframe thead th {\n",
       "        text-align: right;\n",
       "    }\n",
       "</style>\n",
       "<table border=\"1\" class=\"dataframe\">\n",
       "  <thead>\n",
       "    <tr style=\"text-align: right;\">\n",
       "      <th></th>\n",
       "      <th>y</th>\n",
       "      <th>x1</th>\n",
       "      <th>x2</th>\n",
       "      <th>x3</th>\n",
       "      <th>x4</th>\n",
       "      <th>x5</th>\n",
       "      <th>x6</th>\n",
       "      <th>x7</th>\n",
       "      <th>x8</th>\n",
       "      <th>x9</th>\n",
       "      <th>...</th>\n",
       "      <th>x23</th>\n",
       "      <th>x24</th>\n",
       "      <th>x25</th>\n",
       "      <th>x26</th>\n",
       "      <th>x27</th>\n",
       "      <th>x28</th>\n",
       "      <th>x29</th>\n",
       "      <th>x30</th>\n",
       "      <th>x31</th>\n",
       "      <th>x32</th>\n",
       "    </tr>\n",
       "  </thead>\n",
       "  <tbody>\n",
       "    <tr>\n",
       "      <th>0</th>\n",
       "      <td>-0.852667</td>\n",
       "      <td>49.856000</td>\n",
       "      <td>118.8</td>\n",
       "      <td>1</td>\n",
       "      <td>0</td>\n",
       "      <td>0</td>\n",
       "      <td>0</td>\n",
       "      <td>0</td>\n",
       "      <td>16.32096</td>\n",
       "      <td>0</td>\n",
       "      <td>...</td>\n",
       "      <td>0.9709</td>\n",
       "      <td>0.0003</td>\n",
       "      <td>6</td>\n",
       "      <td>6</td>\n",
       "      <td>24.7138</td>\n",
       "      <td>0</td>\n",
       "      <td>0</td>\n",
       "      <td>7</td>\n",
       "      <td>0.056546</td>\n",
       "      <td>0.112860</td>\n",
       "    </tr>\n",
       "    <tr>\n",
       "      <th>1</th>\n",
       "      <td>5.951199</td>\n",
       "      <td>66.725000</td>\n",
       "      <td>41.8</td>\n",
       "      <td>0</td>\n",
       "      <td>1</td>\n",
       "      <td>0</td>\n",
       "      <td>0</td>\n",
       "      <td>0</td>\n",
       "      <td>17.07023</td>\n",
       "      <td>27</td>\n",
       "      <td>...</td>\n",
       "      <td>0.9650</td>\n",
       "      <td>0.0000</td>\n",
       "      <td>6</td>\n",
       "      <td>6</td>\n",
       "      <td>48.3807</td>\n",
       "      <td>0</td>\n",
       "      <td>1</td>\n",
       "      <td>4</td>\n",
       "      <td>0.067855</td>\n",
       "      <td>0.133944</td>\n",
       "    </tr>\n",
       "    <tr>\n",
       "      <th>2</th>\n",
       "      <td>-2.030599</td>\n",
       "      <td>41.696000</td>\n",
       "      <td>132.0</td>\n",
       "      <td>0</td>\n",
       "      <td>0</td>\n",
       "      <td>1</td>\n",
       "      <td>0</td>\n",
       "      <td>0</td>\n",
       "      <td>16.31460</td>\n",
       "      <td>0</td>\n",
       "      <td>...</td>\n",
       "      <td>0.0091</td>\n",
       "      <td>0.0001</td>\n",
       "      <td>6</td>\n",
       "      <td>4</td>\n",
       "      <td>59.8410</td>\n",
       "      <td>0</td>\n",
       "      <td>0</td>\n",
       "      <td>7</td>\n",
       "      <td>0.133230</td>\n",
       "      <td>0.260102</td>\n",
       "    </tr>\n",
       "    <tr>\n",
       "      <th>3</th>\n",
       "      <td>-6.143410</td>\n",
       "      <td>71.351000</td>\n",
       "      <td>24.2</td>\n",
       "      <td>1</td>\n",
       "      <td>0</td>\n",
       "      <td>0</td>\n",
       "      <td>0</td>\n",
       "      <td>0</td>\n",
       "      <td>11.10790</td>\n",
       "      <td>31</td>\n",
       "      <td>...</td>\n",
       "      <td>0.0051</td>\n",
       "      <td>0.0000</td>\n",
       "      <td>5</td>\n",
       "      <td>7</td>\n",
       "      <td>175.9250</td>\n",
       "      <td>0</td>\n",
       "      <td>0</td>\n",
       "      <td>3</td>\n",
       "      <td>0.318584</td>\n",
       "      <td>0.627729</td>\n",
       "    </tr>\n",
       "    <tr>\n",
       "      <th>4</th>\n",
       "      <td>0.174651</td>\n",
       "      <td>67.879000</td>\n",
       "      <td>42.3</td>\n",
       "      <td>0</td>\n",
       "      <td>0</td>\n",
       "      <td>0</td>\n",
       "      <td>0</td>\n",
       "      <td>1</td>\n",
       "      <td>15.07912</td>\n",
       "      <td>31</td>\n",
       "      <td>...</td>\n",
       "      <td>0.0022</td>\n",
       "      <td>0.0001</td>\n",
       "      <td>7</td>\n",
       "      <td>3</td>\n",
       "      <td>81.3357</td>\n",
       "      <td>0</td>\n",
       "      <td>0</td>\n",
       "      <td>5</td>\n",
       "      <td>0.219665</td>\n",
       "      <td>0.436101</td>\n",
       "    </tr>\n",
       "    <tr>\n",
       "      <th>5</th>\n",
       "      <td>0.168219</td>\n",
       "      <td>75.568293</td>\n",
       "      <td>8.0</td>\n",
       "      <td>0</td>\n",
       "      <td>0</td>\n",
       "      <td>0</td>\n",
       "      <td>0</td>\n",
       "      <td>0</td>\n",
       "      <td>15.85385</td>\n",
       "      <td>45</td>\n",
       "      <td>...</td>\n",
       "      <td>0.0204</td>\n",
       "      <td>0.0000</td>\n",
       "      <td>8</td>\n",
       "      <td>4</td>\n",
       "      <td>73.9691</td>\n",
       "      <td>1</td>\n",
       "      <td>0</td>\n",
       "      <td>1</td>\n",
       "      <td>0.285290</td>\n",
       "      <td>0.539237</td>\n",
       "    </tr>\n",
       "    <tr>\n",
       "      <th>6</th>\n",
       "      <td>3.072744</td>\n",
       "      <td>64.827000</td>\n",
       "      <td>75.9</td>\n",
       "      <td>0</td>\n",
       "      <td>0</td>\n",
       "      <td>0</td>\n",
       "      <td>0</td>\n",
       "      <td>0</td>\n",
       "      <td>15.78388</td>\n",
       "      <td>31</td>\n",
       "      <td>...</td>\n",
       "      <td>0.9000</td>\n",
       "      <td>0.0000</td>\n",
       "      <td>7</td>\n",
       "      <td>3</td>\n",
       "      <td>83.0969</td>\n",
       "      <td>0</td>\n",
       "      <td>0</td>\n",
       "      <td>5</td>\n",
       "      <td>0.185113</td>\n",
       "      <td>0.342531</td>\n",
       "    </tr>\n",
       "    <tr>\n",
       "      <th>7</th>\n",
       "      <td>-0.730155</td>\n",
       "      <td>70.705000</td>\n",
       "      <td>19.6</td>\n",
       "      <td>1</td>\n",
       "      <td>0</td>\n",
       "      <td>0</td>\n",
       "      <td>0</td>\n",
       "      <td>0</td>\n",
       "      <td>12.45424</td>\n",
       "      <td>31</td>\n",
       "      <td>...</td>\n",
       "      <td>0.0000</td>\n",
       "      <td>0.0000</td>\n",
       "      <td>6</td>\n",
       "      <td>6</td>\n",
       "      <td>110.1200</td>\n",
       "      <td>0</td>\n",
       "      <td>0</td>\n",
       "      <td>2</td>\n",
       "      <td>0.292938</td>\n",
       "      <td>0.583095</td>\n",
       "    </tr>\n",
       "    <tr>\n",
       "      <th>8</th>\n",
       "      <td>2.414692</td>\n",
       "      <td>72.390000</td>\n",
       "      <td>19.6</td>\n",
       "      <td>1</td>\n",
       "      <td>0</td>\n",
       "      <td>0</td>\n",
       "      <td>0</td>\n",
       "      <td>0</td>\n",
       "      <td>13.11419</td>\n",
       "      <td>31</td>\n",
       "      <td>...</td>\n",
       "      <td>0.8635</td>\n",
       "      <td>0.0002</td>\n",
       "      <td>6</td>\n",
       "      <td>6</td>\n",
       "      <td>210.1610</td>\n",
       "      <td>0</td>\n",
       "      <td>0</td>\n",
       "      <td>6</td>\n",
       "      <td>0.244678</td>\n",
       "      <td>0.442987</td>\n",
       "    </tr>\n",
       "    <tr>\n",
       "      <th>9</th>\n",
       "      <td>-5.510573</td>\n",
       "      <td>71.383000</td>\n",
       "      <td>16.0</td>\n",
       "      <td>1</td>\n",
       "      <td>0</td>\n",
       "      <td>0</td>\n",
       "      <td>0</td>\n",
       "      <td>0</td>\n",
       "      <td>12.46987</td>\n",
       "      <td>31</td>\n",
       "      <td>...</td>\n",
       "      <td>0.0042</td>\n",
       "      <td>0.0004</td>\n",
       "      <td>6</td>\n",
       "      <td>6</td>\n",
       "      <td>100.8310</td>\n",
       "      <td>0</td>\n",
       "      <td>0</td>\n",
       "      <td>1</td>\n",
       "      <td>0.431135</td>\n",
       "      <td>0.850350</td>\n",
       "    </tr>\n",
       "    <tr>\n",
       "      <th>10</th>\n",
       "      <td>0.265294</td>\n",
       "      <td>70.836585</td>\n",
       "      <td>12.2</td>\n",
       "      <td>0</td>\n",
       "      <td>0</td>\n",
       "      <td>0</td>\n",
       "      <td>0</td>\n",
       "      <td>0</td>\n",
       "      <td>16.13682</td>\n",
       "      <td>31</td>\n",
       "      <td>...</td>\n",
       "      <td>0.0015</td>\n",
       "      <td>0.0001</td>\n",
       "      <td>5</td>\n",
       "      <td>6</td>\n",
       "      <td>89.6074</td>\n",
       "      <td>0</td>\n",
       "      <td>0</td>\n",
       "      <td>4</td>\n",
       "      <td>0.425556</td>\n",
       "      <td>0.839806</td>\n",
       "    </tr>\n",
       "    <tr>\n",
       "      <th>11</th>\n",
       "      <td>-0.060745</td>\n",
       "      <td>76.051951</td>\n",
       "      <td>8.3</td>\n",
       "      <td>0</td>\n",
       "      <td>0</td>\n",
       "      <td>0</td>\n",
       "      <td>0</td>\n",
       "      <td>0</td>\n",
       "      <td>16.11483</td>\n",
       "      <td>45</td>\n",
       "      <td>...</td>\n",
       "      <td>0.0316</td>\n",
       "      <td>0.0020</td>\n",
       "      <td>6</td>\n",
       "      <td>6</td>\n",
       "      <td>132.3320</td>\n",
       "      <td>1</td>\n",
       "      <td>0</td>\n",
       "      <td>1</td>\n",
       "      <td>0.260125</td>\n",
       "      <td>0.476567</td>\n",
       "    </tr>\n",
       "    <tr>\n",
       "      <th>12</th>\n",
       "      <td>3.152170</td>\n",
       "      <td>71.246000</td>\n",
       "      <td>31.3</td>\n",
       "      <td>1</td>\n",
       "      <td>0</td>\n",
       "      <td>0</td>\n",
       "      <td>0</td>\n",
       "      <td>0</td>\n",
       "      <td>12.14181</td>\n",
       "      <td>31</td>\n",
       "      <td>...</td>\n",
       "      <td>0.0053</td>\n",
       "      <td>0.0032</td>\n",
       "      <td>6</td>\n",
       "      <td>6</td>\n",
       "      <td>122.2850</td>\n",
       "      <td>0</td>\n",
       "      <td>0</td>\n",
       "      <td>1</td>\n",
       "      <td>0.234838</td>\n",
       "      <td>0.445292</td>\n",
       "    </tr>\n",
       "    <tr>\n",
       "      <th>13</th>\n",
       "      <td>-2.339982</td>\n",
       "      <td>53.812000</td>\n",
       "      <td>107.1</td>\n",
       "      <td>0</td>\n",
       "      <td>1</td>\n",
       "      <td>0</td>\n",
       "      <td>0</td>\n",
       "      <td>0</td>\n",
       "      <td>15.42064</td>\n",
       "      <td>31</td>\n",
       "      <td>...</td>\n",
       "      <td>0.1836</td>\n",
       "      <td>0.0000</td>\n",
       "      <td>7</td>\n",
       "      <td>6</td>\n",
       "      <td>40.6187</td>\n",
       "      <td>0</td>\n",
       "      <td>0</td>\n",
       "      <td>6</td>\n",
       "      <td>0.597977</td>\n",
       "      <td>0.867463</td>\n",
       "    </tr>\n",
       "    <tr>\n",
       "      <th>14</th>\n",
       "      <td>-1.847126</td>\n",
       "      <td>52.879000</td>\n",
       "      <td>89.6</td>\n",
       "      <td>1</td>\n",
       "      <td>0</td>\n",
       "      <td>0</td>\n",
       "      <td>0</td>\n",
       "      <td>0</td>\n",
       "      <td>13.19427</td>\n",
       "      <td>45</td>\n",
       "      <td>...</td>\n",
       "      <td>0.0103</td>\n",
       "      <td>0.7376</td>\n",
       "      <td>4</td>\n",
       "      <td>7</td>\n",
       "      <td>61.2636</td>\n",
       "      <td>0</td>\n",
       "      <td>0</td>\n",
       "      <td>6</td>\n",
       "      <td>0.396755</td>\n",
       "      <td>0.750471</td>\n",
       "    </tr>\n",
       "  </tbody>\n",
       "</table>\n",
       "<p>15 rows × 33 columns</p>\n",
       "</div>"
      ],
      "text/plain": [
       "           y         x1     x2  x3  x4  x5  x6  x7        x8  x9  ...     x23  \\\n",
       "0  -0.852667  49.856000  118.8   1   0   0   0   0  16.32096   0  ...  0.9709   \n",
       "1   5.951199  66.725000   41.8   0   1   0   0   0  17.07023  27  ...  0.9650   \n",
       "2  -2.030599  41.696000  132.0   0   0   1   0   0  16.31460   0  ...  0.0091   \n",
       "3  -6.143410  71.351000   24.2   1   0   0   0   0  11.10790  31  ...  0.0051   \n",
       "4   0.174651  67.879000   42.3   0   0   0   0   1  15.07912  31  ...  0.0022   \n",
       "5   0.168219  75.568293    8.0   0   0   0   0   0  15.85385  45  ...  0.0204   \n",
       "6   3.072744  64.827000   75.9   0   0   0   0   0  15.78388  31  ...  0.9000   \n",
       "7  -0.730155  70.705000   19.6   1   0   0   0   0  12.45424  31  ...  0.0000   \n",
       "8   2.414692  72.390000   19.6   1   0   0   0   0  13.11419  31  ...  0.8635   \n",
       "9  -5.510573  71.383000   16.0   1   0   0   0   0  12.46987  31  ...  0.0042   \n",
       "10  0.265294  70.836585   12.2   0   0   0   0   0  16.13682  31  ...  0.0015   \n",
       "11 -0.060745  76.051951    8.3   0   0   0   0   0  16.11483  45  ...  0.0316   \n",
       "12  3.152170  71.246000   31.3   1   0   0   0   0  12.14181  31  ...  0.0053   \n",
       "13 -2.339982  53.812000  107.1   0   1   0   0   0  15.42064  31  ...  0.1836   \n",
       "14 -1.847126  52.879000   89.6   1   0   0   0   0  13.19427  45  ...  0.0103   \n",
       "\n",
       "       x24  x25  x26       x27  x28  x29  x30       x31       x32  \n",
       "0   0.0003    6    6   24.7138    0    0    7  0.056546  0.112860  \n",
       "1   0.0000    6    6   48.3807    0    1    4  0.067855  0.133944  \n",
       "2   0.0001    6    4   59.8410    0    0    7  0.133230  0.260102  \n",
       "3   0.0000    5    7  175.9250    0    0    3  0.318584  0.627729  \n",
       "4   0.0001    7    3   81.3357    0    0    5  0.219665  0.436101  \n",
       "5   0.0000    8    4   73.9691    1    0    1  0.285290  0.539237  \n",
       "6   0.0000    7    3   83.0969    0    0    5  0.185113  0.342531  \n",
       "7   0.0000    6    6  110.1200    0    0    2  0.292938  0.583095  \n",
       "8   0.0002    6    6  210.1610    0    0    6  0.244678  0.442987  \n",
       "9   0.0004    6    6  100.8310    0    0    1  0.431135  0.850350  \n",
       "10  0.0001    5    6   89.6074    0    0    4  0.425556  0.839806  \n",
       "11  0.0020    6    6  132.3320    1    0    1  0.260125  0.476567  \n",
       "12  0.0032    6    6  122.2850    0    0    1  0.234838  0.445292  \n",
       "13  0.0000    7    6   40.6187    0    0    6  0.597977  0.867463  \n",
       "14  0.7376    4    7   61.2636    0    0    6  0.396755  0.750471  \n",
       "\n",
       "[15 rows x 33 columns]"
      ]
     },
     "execution_count": 7,
     "metadata": {},
     "output_type": "execute_result"
    }
   ],
   "source": [
    "cont_data.head(15)"
   ]
  },
  {
   "cell_type": "code",
   "execution_count": 8,
   "metadata": {},
   "outputs": [
    {
     "data": {
      "text/plain": [
       "<matplotlib.axes._subplots.AxesSubplot at 0x2037f353978>"
      ]
     },
     "execution_count": 8,
     "metadata": {},
     "output_type": "execute_result"
    },
    {
     "data": {
      "image/png": "[encoded data removed]",
      "text/plain": [
       "<Figure size 1800x1800 with 2 Axes>"
      ]
     },
     "metadata": {
      "needs_background": "light"
     },
     "output_type": "display_data"
    }
   ],
   "source": [
    "corr_data = cont_data.corr().abs()\n",
    "\n",
    "fig, ax = plt.subplots()\n",
    "fig.set_size_inches(25,25)\n",
    "sns.heatmap(corr_data)"
   ]
  },
  {
   "cell_type": "code",
   "execution_count": 9,
   "metadata": {},
   "outputs": [],
   "source": [
    "data = cont_data.drop(['y'], axis=1)\n",
    "target = cont_data['y']"
   ]
  },
  {
   "cell_type": "code",
   "execution_count": 10,
   "metadata": {},
   "outputs": [],
   "source": [
    "numerical_features = ['x1', 'x2', 'x8', 'x10', 'x11','x12','x21','x22','x23','x24','x27','x31','x32']"
   ]
  },
  {
   "cell_type": "code",
   "execution_count": 11,
   "metadata": {},
   "outputs": [],
   "source": [
    "categorical_features = ['x3','x4','x5','x6','x7','x13','x14',\n",
    "                        'x15','x16','x17','x18','x19','x20','x28','x29']"
   ]
  },
  {
   "cell_type": "code",
   "execution_count": 12,
   "metadata": {},
   "outputs": [],
   "source": [
    "count_features = [i for i in data.columns if i not in numerical_features and i not in categorical_features]"
   ]
  },
  {
   "cell_type": "code",
   "execution_count": 13,
   "metadata": {},
   "outputs": [],
   "source": [
    "si = SimpleImputer(strategy='median').fit(data[numerical_features + count_features])"
   ]
  },
  {
   "cell_type": "code",
   "execution_count": 14,
   "metadata": {},
   "outputs": [],
   "source": [
    "data[numerical_features + count_features] = si.transform(data[numerical_features + count_features])"
   ]
  },
  {
   "cell_type": "code",
   "execution_count": 15,
   "metadata": {},
   "outputs": [],
   "source": [
    "se = StandardScaler().fit(data[numerical_features])\n",
    "mms = MinMaxScaler().fit(data[count_features])"
   ]
  },
  {
   "cell_type": "code",
   "execution_count": 16,
   "metadata": {},
   "outputs": [],
   "source": [
    "data[numerical_features] = se.transform(data[numerical_features])\n",
    "data[count_features] = mms.transform(data[count_features])"
   ]
  },
  {
   "cell_type": "code",
   "execution_count": 17,
   "metadata": {},
   "outputs": [
    {
     "data": {
      "text/plain": [
       "0     -0.852667\n",
       "1      5.951199\n",
       "2     -2.030599\n",
       "3     -6.143410\n",
       "4      0.174651\n",
       "         ...   \n",
       "115   -0.554066\n",
       "116   -0.922086\n",
       "117   -1.377253\n",
       "118   -3.467933\n",
       "119    1.182205\n",
       "Name: y, Length: 120, dtype: float64"
      ]
     },
     "execution_count": 17,
     "metadata": {},
     "output_type": "execute_result"
    }
   ],
   "source": [
    "data.fillna(data.median())\n",
    "target.fillna(target.median())"
   ]
  },
  {
   "cell_type": "code",
   "execution_count": 18,
   "metadata": {},
   "outputs": [],
   "source": [
    "is_discrete = [i in categorical_features for i in data.columns]"
   ]
  },
  {
   "cell_type": "code",
   "execution_count": 19,
   "metadata": {},
   "outputs": [],
   "source": [
    "mutual_info = mutual_info_regression(data, target, discrete_features=is_discrete, random_state=42)"
   ]
  },
  {
   "cell_type": "code",
   "execution_count": 20,
   "metadata": {},
   "outputs": [],
   "source": [
    "mutual_info_series = pd.Series(data=mutual_info,index=data.columns)"
   ]
  },
  {
   "cell_type": "code",
   "execution_count": 21,
   "metadata": {},
   "outputs": [
    {
     "data": {
      "text/plain": [
       "<matplotlib.axes._subplots.AxesSubplot at 0x2037feeaba8>"
      ]
     },
     "execution_count": 21,
     "metadata": {},
     "output_type": "execute_result"
    },
    {
     "data": {
      "image/png": "[encoded data removed]",
      "text/plain": [
       "<Figure size 432x288 with 1 Axes>"
      ]
     },
     "metadata": {
      "needs_background": "light"
     },
     "output_type": "display_data"
    }
   ],
   "source": [
    "mutual_info_series.sort_values(ascending=False).plot.bar()"
   ]
  },
  {
   "cell_type": "code",
   "execution_count": 22,
   "metadata": {},
   "outputs": [],
   "source": [
    "mutual_info_series.sort_values(ascending=False, inplace=True)"
   ]
  },
  {
   "cell_type": "code",
   "execution_count": 23,
   "metadata": {},
   "outputs": [],
   "source": [
    "selected_features = mutual_info_series[mutual_info_series > 1e-2].index.to_numpy()"
   ]
  },
  {
   "cell_type": "code",
   "execution_count": 24,
   "metadata": {},
   "outputs": [
    {
     "data": {
      "text/plain": [
       "array(['x10', 'x22', 'x9', 'x13', 'x16', 'x2', 'x24', 'x4', 'x12', 'x28',\n",
       "       'x23', 'x7', 'x32', 'x29', 'x6'], dtype=object)"
      ]
     },
     "execution_count": 24,
     "metadata": {},
     "output_type": "execute_result"
    }
   ],
   "source": [
    "selected_features"
   ]
  },
  {
   "cell_type": "code",
   "execution_count": 25,
   "metadata": {
    "scrolled": false
   },
   "outputs": [
    {
     "name": "stdout",
     "output_type": "stream",
     "text": [
      "Previous error: 1000000.0\n",
      "Current best: 1000000.0\n",
      "Currently training model with features: ['x10']\n"
     ]
    },
    {
     "name": "stderr",
     "output_type": "stream",
     "text": [
      "C:\\Users\\mmeji\\.conda\\envs\\ec1209\\lib\\site-packages\\sklearn\\model_selection\\_search.py:764: RuntimeWarning: invalid value encountered in subtract\n",
      "  array_means[:, np.newaxis]) ** 2,\n",
      "C:\\Users\\mmeji\\.conda\\envs\\ec1209\\lib\\site-packages\\sklearn\\model_selection\\_search.py:764: RuntimeWarning: overflow encountered in square\n",
      "  array_means[:, np.newaxis]) ** 2,\n"
     ]
    },
    {
     "name": "stdout",
     "output_type": "stream",
     "text": [
      "Finished training model, score: 5.033907254224291 \n",
      "\n",
      "\n",
      "Previous error: 5.033907254224291\n",
      "Current best: 5.033907254224291\n",
      "Currently training model with features: ['x10', 'x22']\n"
     ]
    },
    {
     "name": "stderr",
     "output_type": "stream",
     "text": [
      "C:\\Users\\mmeji\\.conda\\envs\\ec1209\\lib\\site-packages\\sklearn\\model_selection\\_search.py:764: RuntimeWarning: invalid value encountered in subtract\n",
      "  array_means[:, np.newaxis]) ** 2,\n",
      "C:\\Users\\mmeji\\.conda\\envs\\ec1209\\lib\\site-packages\\sklearn\\model_selection\\_search.py:764: RuntimeWarning: overflow encountered in square\n",
      "  array_means[:, np.newaxis]) ** 2,\n",
      "C:\\Users\\mmeji\\.conda\\envs\\ec1209\\lib\\site-packages\\sklearn\\neural_network\\multilayer_perceptron.py:566: ConvergenceWarning: Stochastic Optimizer: Maximum iterations (200) reached and the optimization hasn't converged yet.\n",
      "  % self.max_iter, ConvergenceWarning)\n"
     ]
    },
    {
     "name": "stdout",
     "output_type": "stream",
     "text": [
      "Finished training model, score: 5.402651338092304 \n",
      "\n",
      "\n",
      "Previous error: 5.402651338092304\n",
      "Current best: 5.033907254224291\n",
      "Currently training model with features: ['x10', 'x22', 'x9']\n"
     ]
    },
    {
     "name": "stderr",
     "output_type": "stream",
     "text": [
      "C:\\Users\\mmeji\\.conda\\envs\\ec1209\\lib\\site-packages\\sklearn\\model_selection\\_search.py:764: RuntimeWarning: invalid value encountered in subtract\n",
      "  array_means[:, np.newaxis]) ** 2,\n",
      "C:\\Users\\mmeji\\.conda\\envs\\ec1209\\lib\\site-packages\\sklearn\\model_selection\\_search.py:764: RuntimeWarning: overflow encountered in square\n",
      "  array_means[:, np.newaxis]) ** 2,\n",
      "C:\\Users\\mmeji\\.conda\\envs\\ec1209\\lib\\site-packages\\sklearn\\neural_network\\multilayer_perceptron.py:566: ConvergenceWarning: Stochastic Optimizer: Maximum iterations (200) reached and the optimization hasn't converged yet.\n",
      "  % self.max_iter, ConvergenceWarning)\n"
     ]
    },
    {
     "name": "stdout",
     "output_type": "stream",
     "text": [
      "Finished training model, score: 4.970461337452295 \n",
      "\n",
      "\n",
      "Previous error: 4.970461337452295\n",
      "Current best: 4.970461337452295\n",
      "Currently training model with features: ['x10', 'x22', 'x9', 'x13']\n"
     ]
    },
    {
     "name": "stderr",
     "output_type": "stream",
     "text": [
      "C:\\Users\\mmeji\\.conda\\envs\\ec1209\\lib\\site-packages\\sklearn\\model_selection\\_search.py:764: RuntimeWarning: invalid value encountered in subtract\n",
      "  array_means[:, np.newaxis]) ** 2,\n",
      "C:\\Users\\mmeji\\.conda\\envs\\ec1209\\lib\\site-packages\\sklearn\\model_selection\\_search.py:764: RuntimeWarning: overflow encountered in square\n",
      "  array_means[:, np.newaxis]) ** 2,\n",
      "C:\\Users\\mmeji\\.conda\\envs\\ec1209\\lib\\site-packages\\sklearn\\neural_network\\multilayer_perceptron.py:566: ConvergenceWarning: Stochastic Optimizer: Maximum iterations (200) reached and the optimization hasn't converged yet.\n",
      "  % self.max_iter, ConvergenceWarning)\n"
     ]
    },
    {
     "name": "stdout",
     "output_type": "stream",
     "text": [
      "Finished training model, score: 4.885419887222764 \n",
      "\n",
      "\n",
      "Previous error: 4.885419887222764\n",
      "Current best: 4.885419887222764\n",
      "Currently training model with features: ['x10', 'x22', 'x9', 'x13', 'x16']\n"
     ]
    },
    {
     "name": "stderr",
     "output_type": "stream",
     "text": [
      "C:\\Users\\mmeji\\.conda\\envs\\ec1209\\lib\\site-packages\\sklearn\\model_selection\\_search.py:764: RuntimeWarning: invalid value encountered in subtract\n",
      "  array_means[:, np.newaxis]) ** 2,\n",
      "C:\\Users\\mmeji\\.conda\\envs\\ec1209\\lib\\site-packages\\sklearn\\model_selection\\_search.py:764: RuntimeWarning: overflow encountered in square\n",
      "  array_means[:, np.newaxis]) ** 2,\n",
      "C:\\Users\\mmeji\\.conda\\envs\\ec1209\\lib\\site-packages\\sklearn\\neural_network\\multilayer_perceptron.py:566: ConvergenceWarning: Stochastic Optimizer: Maximum iterations (200) reached and the optimization hasn't converged yet.\n",
      "  % self.max_iter, ConvergenceWarning)\n"
     ]
    },
    {
     "name": "stdout",
     "output_type": "stream",
     "text": [
      "Finished training model, score: 4.4958660015722005 \n",
      "\n",
      "\n",
      "Previous error: 4.4958660015722005\n",
      "Current best: 4.4958660015722005\n",
      "Currently training model with features: ['x10', 'x22', 'x9', 'x13', 'x16', 'x2']\n"
     ]
    },
    {
     "name": "stderr",
     "output_type": "stream",
     "text": [
      "C:\\Users\\mmeji\\.conda\\envs\\ec1209\\lib\\site-packages\\sklearn\\model_selection\\_search.py:764: RuntimeWarning: invalid value encountered in subtract\n",
      "  array_means[:, np.newaxis]) ** 2,\n",
      "C:\\Users\\mmeji\\.conda\\envs\\ec1209\\lib\\site-packages\\sklearn\\model_selection\\_search.py:764: RuntimeWarning: overflow encountered in square\n",
      "  array_means[:, np.newaxis]) ** 2,\n"
     ]
    },
    {
     "name": "stdout",
     "output_type": "stream",
     "text": [
      "Finished training model, score: 4.02044048819386 \n",
      "\n",
      "\n",
      "Previous error: 4.02044048819386\n",
      "Current best: 4.02044048819386\n",
      "Currently training model with features: ['x10', 'x22', 'x9', 'x13', 'x16', 'x2', 'x24']\n"
     ]
    },
    {
     "name": "stderr",
     "output_type": "stream",
     "text": [
      "C:\\Users\\mmeji\\.conda\\envs\\ec1209\\lib\\site-packages\\sklearn\\model_selection\\_search.py:764: RuntimeWarning: invalid value encountered in subtract\n",
      "  array_means[:, np.newaxis]) ** 2,\n",
      "C:\\Users\\mmeji\\.conda\\envs\\ec1209\\lib\\site-packages\\sklearn\\model_selection\\_search.py:764: RuntimeWarning: overflow encountered in square\n",
      "  array_means[:, np.newaxis]) ** 2,\n",
      "C:\\Users\\mmeji\\.conda\\envs\\ec1209\\lib\\site-packages\\sklearn\\neural_network\\multilayer_perceptron.py:566: ConvergenceWarning: Stochastic Optimizer: Maximum iterations (200) reached and the optimization hasn't converged yet.\n",
      "  % self.max_iter, ConvergenceWarning)\n"
     ]
    },
    {
     "name": "stdout",
     "output_type": "stream",
     "text": [
      "Finished training model, score: 4.96229297383561 \n",
      "\n",
      "\n",
      "Previous error: 4.96229297383561\n",
      "Current best: 4.02044048819386\n",
      "Currently training model with features: ['x10', 'x22', 'x9', 'x13', 'x16', 'x2', 'x24', 'x4']\n"
     ]
    },
    {
     "name": "stderr",
     "output_type": "stream",
     "text": [
      "C:\\Users\\mmeji\\.conda\\envs\\ec1209\\lib\\site-packages\\sklearn\\model_selection\\_search.py:764: RuntimeWarning: invalid value encountered in subtract\n",
      "  array_means[:, np.newaxis]) ** 2,\n",
      "C:\\Users\\mmeji\\.conda\\envs\\ec1209\\lib\\site-packages\\sklearn\\model_selection\\_search.py:764: RuntimeWarning: overflow encountered in square\n",
      "  array_means[:, np.newaxis]) ** 2,\n",
      "C:\\Users\\mmeji\\.conda\\envs\\ec1209\\lib\\site-packages\\sklearn\\neural_network\\multilayer_perceptron.py:566: ConvergenceWarning: Stochastic Optimizer: Maximum iterations (200) reached and the optimization hasn't converged yet.\n",
      "  % self.max_iter, ConvergenceWarning)\n"
     ]
    },
    {
     "name": "stdout",
     "output_type": "stream",
     "text": [
      "Finished training model, score: 4.435669689328877 \n",
      "\n",
      "\n",
      "Previous error: 4.435669689328877\n",
      "Current best: 4.02044048819386\n",
      "Currently training model with features: ['x10', 'x22', 'x9', 'x13', 'x16', 'x2', 'x24', 'x4', 'x12']\n"
     ]
    },
    {
     "name": "stderr",
     "output_type": "stream",
     "text": [
      "C:\\Users\\mmeji\\.conda\\envs\\ec1209\\lib\\site-packages\\sklearn\\model_selection\\_search.py:764: RuntimeWarning: invalid value encountered in subtract\n",
      "  array_means[:, np.newaxis]) ** 2,\n",
      "C:\\Users\\mmeji\\.conda\\envs\\ec1209\\lib\\site-packages\\sklearn\\model_selection\\_search.py:764: RuntimeWarning: overflow encountered in square\n",
      "  array_means[:, np.newaxis]) ** 2,\n",
      "C:\\Users\\mmeji\\.conda\\envs\\ec1209\\lib\\site-packages\\sklearn\\neural_network\\multilayer_perceptron.py:566: ConvergenceWarning: Stochastic Optimizer: Maximum iterations (200) reached and the optimization hasn't converged yet.\n",
      "  % self.max_iter, ConvergenceWarning)\n"
     ]
    },
    {
     "name": "stdout",
     "output_type": "stream",
     "text": [
      "Finished training model, score: 4.533974622635534 \n",
      "\n",
      "\n",
      "Previous error: 4.533974622635534\n",
      "Current best: 4.02044048819386\n",
      "Currently training model with features: ['x10', 'x22', 'x9', 'x13', 'x16', 'x2', 'x24', 'x4', 'x12', 'x28']\n"
     ]
    },
    {
     "name": "stderr",
     "output_type": "stream",
     "text": [
      "C:\\Users\\mmeji\\.conda\\envs\\ec1209\\lib\\site-packages\\sklearn\\model_selection\\_search.py:764: RuntimeWarning: invalid value encountered in subtract\n",
      "  array_means[:, np.newaxis]) ** 2,\n",
      "C:\\Users\\mmeji\\.conda\\envs\\ec1209\\lib\\site-packages\\sklearn\\model_selection\\_search.py:764: RuntimeWarning: overflow encountered in square\n",
      "  array_means[:, np.newaxis]) ** 2,\n",
      "C:\\Users\\mmeji\\.conda\\envs\\ec1209\\lib\\site-packages\\sklearn\\neural_network\\multilayer_perceptron.py:566: ConvergenceWarning: Stochastic Optimizer: Maximum iterations (200) reached and the optimization hasn't converged yet.\n",
      "  % self.max_iter, ConvergenceWarning)\n"
     ]
    },
    {
     "name": "stdout",
     "output_type": "stream",
     "text": [
      "Finished training model, score: 4.525554430396238 \n",
      "\n",
      "\n",
      "Previous error: 4.525554430396238\n",
      "Current best: 4.02044048819386\n",
      "Currently training model with features: ['x10', 'x22', 'x9', 'x13', 'x16', 'x2', 'x24', 'x4', 'x12', 'x28', 'x23']\n"
     ]
    },
    {
     "name": "stderr",
     "output_type": "stream",
     "text": [
      "C:\\Users\\mmeji\\.conda\\envs\\ec1209\\lib\\site-packages\\sklearn\\model_selection\\_search.py:764: RuntimeWarning: invalid value encountered in subtract\n",
      "  array_means[:, np.newaxis]) ** 2,\n",
      "C:\\Users\\mmeji\\.conda\\envs\\ec1209\\lib\\site-packages\\sklearn\\model_selection\\_search.py:764: RuntimeWarning: overflow encountered in square\n",
      "  array_means[:, np.newaxis]) ** 2,\n",
      "C:\\Users\\mmeji\\.conda\\envs\\ec1209\\lib\\site-packages\\sklearn\\neural_network\\multilayer_perceptron.py:566: ConvergenceWarning: Stochastic Optimizer: Maximum iterations (200) reached and the optimization hasn't converged yet.\n",
      "  % self.max_iter, ConvergenceWarning)\n"
     ]
    },
    {
     "name": "stdout",
     "output_type": "stream",
     "text": [
      "Finished training model, score: 4.18015843920576 \n",
      "\n",
      "\n",
      "Previous error: 4.18015843920576\n",
      "Current best: 4.02044048819386\n",
      "Currently training model with features: ['x10', 'x22', 'x9', 'x13', 'x16', 'x2', 'x24', 'x4', 'x12', 'x28', 'x23', 'x7']\n"
     ]
    },
    {
     "name": "stderr",
     "output_type": "stream",
     "text": [
      "C:\\Users\\mmeji\\.conda\\envs\\ec1209\\lib\\site-packages\\sklearn\\model_selection\\_search.py:764: RuntimeWarning: invalid value encountered in subtract\n",
      "  array_means[:, np.newaxis]) ** 2,\n",
      "C:\\Users\\mmeji\\.conda\\envs\\ec1209\\lib\\site-packages\\sklearn\\model_selection\\_search.py:764: RuntimeWarning: overflow encountered in square\n",
      "  array_means[:, np.newaxis]) ** 2,\n",
      "C:\\Users\\mmeji\\.conda\\envs\\ec1209\\lib\\site-packages\\sklearn\\neural_network\\multilayer_perceptron.py:566: ConvergenceWarning: Stochastic Optimizer: Maximum iterations (200) reached and the optimization hasn't converged yet.\n",
      "  % self.max_iter, ConvergenceWarning)\n"
     ]
    },
    {
     "name": "stdout",
     "output_type": "stream",
     "text": [
      "Finished training model, score: 4.584335211400884 \n",
      "\n",
      "\n",
      "Previous error: 4.584335211400884\n",
      "Current best: 4.02044048819386\n",
      "Currently training model with features: ['x10', 'x22', 'x9', 'x13', 'x16', 'x2', 'x24', 'x4', 'x12', 'x28', 'x23', 'x7', 'x32']\n"
     ]
    },
    {
     "name": "stderr",
     "output_type": "stream",
     "text": [
      "C:\\Users\\mmeji\\.conda\\envs\\ec1209\\lib\\site-packages\\sklearn\\model_selection\\_search.py:764: RuntimeWarning: invalid value encountered in subtract\n",
      "  array_means[:, np.newaxis]) ** 2,\n",
      "C:\\Users\\mmeji\\.conda\\envs\\ec1209\\lib\\site-packages\\sklearn\\model_selection\\_search.py:764: RuntimeWarning: overflow encountered in square\n",
      "  array_means[:, np.newaxis]) ** 2,\n",
      "C:\\Users\\mmeji\\.conda\\envs\\ec1209\\lib\\site-packages\\sklearn\\neural_network\\multilayer_perceptron.py:566: ConvergenceWarning: Stochastic Optimizer: Maximum iterations (200) reached and the optimization hasn't converged yet.\n",
      "  % self.max_iter, ConvergenceWarning)\n"
     ]
    },
    {
     "name": "stdout",
     "output_type": "stream",
     "text": [
      "Finished training model, score: 4.498764217947403 \n",
      "\n",
      "\n",
      "Previous error: 4.498764217947403\n",
      "Current best: 4.02044048819386\n",
      "Currently training model with features: ['x10', 'x22', 'x9', 'x13', 'x16', 'x2', 'x24', 'x4', 'x12', 'x28', 'x23', 'x7', 'x32', 'x29']\n"
     ]
    },
    {
     "name": "stderr",
     "output_type": "stream",
     "text": [
      "C:\\Users\\mmeji\\.conda\\envs\\ec1209\\lib\\site-packages\\sklearn\\model_selection\\_search.py:764: RuntimeWarning: invalid value encountered in subtract\n",
      "  array_means[:, np.newaxis]) ** 2,\n",
      "C:\\Users\\mmeji\\.conda\\envs\\ec1209\\lib\\site-packages\\sklearn\\model_selection\\_search.py:764: RuntimeWarning: overflow encountered in square\n",
      "  array_means[:, np.newaxis]) ** 2,\n",
      "C:\\Users\\mmeji\\.conda\\envs\\ec1209\\lib\\site-packages\\sklearn\\neural_network\\multilayer_perceptron.py:566: ConvergenceWarning: Stochastic Optimizer: Maximum iterations (200) reached and the optimization hasn't converged yet.\n",
      "  % self.max_iter, ConvergenceWarning)\n"
     ]
    },
    {
     "name": "stdout",
     "output_type": "stream",
     "text": [
      "Finished training model, score: 3.9104084287119907 \n",
      "\n",
      "\n",
      "Previous error: 3.9104084287119907\n",
      "Current best: 3.9104084287119907\n",
      "Currently training model with features: ['x10', 'x22', 'x9', 'x13', 'x16', 'x2', 'x24', 'x4', 'x12', 'x28', 'x23', 'x7', 'x32', 'x29', 'x6']\n",
      "Finished training model, score: 4.176633251276463 \n",
      "\n",
      "\n",
      "Selected features to run: ['x10', 'x9', 'x13', 'x16', 'x2', 'x29']\n"
     ]
    },
    {
     "name": "stderr",
     "output_type": "stream",
     "text": [
      "C:\\Users\\mmeji\\.conda\\envs\\ec1209\\lib\\site-packages\\sklearn\\model_selection\\_search.py:764: RuntimeWarning: invalid value encountered in subtract\n",
      "  array_means[:, np.newaxis]) ** 2,\n",
      "C:\\Users\\mmeji\\.conda\\envs\\ec1209\\lib\\site-packages\\sklearn\\model_selection\\_search.py:764: RuntimeWarning: overflow encountered in square\n",
      "  array_means[:, np.newaxis]) ** 2,\n",
      "C:\\Users\\mmeji\\.conda\\envs\\ec1209\\lib\\site-packages\\sklearn\\neural_network\\multilayer_perceptron.py:566: ConvergenceWarning: Stochastic Optimizer: Maximum iterations (200) reached and the optimization hasn't converged yet.\n",
      "  % self.max_iter, ConvergenceWarning)\n"
     ]
    }
   ],
   "source": [
    "current_features = []\n",
    "current_mse = 0\n",
    "previous_mse = 1e6 # randomly chosen to always be higher the first run\n",
    "best_mse = 1e6 # randomly chosen to always be higher the first run\n",
    "features_to_use = []\n",
    "\n",
    "count_pipeline = Pipeline([\n",
    "    ('model', MLPRegressor()) #Placeholder in order to call the GridSearchCV on the pipeline\n",
    "])\n",
    "\n",
    "\n",
    "parameter_space = [{\n",
    "    'model': [MLPRegressor()],\n",
    "    'model__hidden_layer_sizes': [(3,), (3,5), (3,5,7), (3,5,7,9), (7,5,3), (5,3)]\n",
    "},\n",
    "{\n",
    "    'model': [GradientBoostingRegressor()],\n",
    "    'model__learning_rate': [0.1, 0.5, 1.5, 0.01, 5],\n",
    "    'model__n_estimators': [100, 200, 500, 50]\n",
    "}]\n",
    "\n",
    "\n",
    "model = GridSearchCV(count_pipeline, parameter_space, cv=3, scoring='neg_mean_squared_error',\n",
    "                          n_jobs=-1, refit='neg_mean_squared_error')\n",
    "\n",
    "for x in selected_features:\n",
    "    current_features.append(x)\n",
    "    \n",
    "    print(\"Previous error: {}\".format(previous_mse))\n",
    "    print(\"Current best: {}\".format(best_mse))\n",
    "    \n",
    "    print(\"Currently training model with features: {}\".format(current_features))\n",
    "    \n",
    "    model.fit(data[current_features].values, target)\n",
    "    \n",
    "    current_mse = mean_squared_error(target, model.predict(data[current_features]))\n",
    "    \n",
    "    print(\"Finished training model, score: {} \\n\\n\".format(current_mse))\n",
    "    \n",
    "    if current_mse < previous_mse and current_mse <= best_mse:\n",
    "        features_to_use.append(x)\n",
    "        best_mse = current_mse\n",
    "    previous_mse = current_mse\n",
    "\n",
    "print(\"Selected features to run: {}\".format(features_to_use))"
   ]
  },
  {
   "cell_type": "code",
   "execution_count": 26,
   "metadata": {},
   "outputs": [
    {
     "name": "stderr",
     "output_type": "stream",
     "text": [
      "C:\\Users\\mmeji\\.conda\\envs\\ec1209\\lib\\site-packages\\sklearn\\model_selection\\_search.py:764: RuntimeWarning: invalid value encountered in subtract\n",
      "  array_means[:, np.newaxis]) ** 2,\n",
      "C:\\Users\\mmeji\\.conda\\envs\\ec1209\\lib\\site-packages\\sklearn\\model_selection\\_search.py:764: RuntimeWarning: overflow encountered in square\n",
      "  array_means[:, np.newaxis]) ** 2,\n",
      "C:\\Users\\mmeji\\.conda\\envs\\ec1209\\lib\\site-packages\\sklearn\\neural_network\\multilayer_perceptron.py:566: ConvergenceWarning: Stochastic Optimizer: Maximum iterations (200) reached and the optimization hasn't converged yet.\n",
      "  % self.max_iter, ConvergenceWarning)\n"
     ]
    },
    {
     "data": {
      "text/plain": [
       "GridSearchCV(cv=3, error_score='raise-deprecating',\n",
       "             estimator=Pipeline(memory=None,\n",
       "                                steps=[('model',\n",
       "                                        MLPRegressor(activation='relu',\n",
       "                                                     alpha=0.0001,\n",
       "                                                     batch_size='auto',\n",
       "                                                     beta_1=0.9, beta_2=0.999,\n",
       "                                                     early_stopping=False,\n",
       "                                                     epsilon=1e-08,\n",
       "                                                     hidden_layer_sizes=(100,),\n",
       "                                                     learning_rate='constant',\n",
       "                                                     learning_rate_init=0.001,\n",
       "                                                     max_iter=200, momentum=0.9,\n",
       "                                                     n_iter_no_change=10,\n",
       "                                                     nesterovs_...\n",
       "                                                              n_estimators=50,\n",
       "                                                              n_iter_no_change=None,\n",
       "                                                              presort='auto',\n",
       "                                                              random_state=None,\n",
       "                                                              subsample=1.0,\n",
       "                                                              tol=0.0001,\n",
       "                                                              validation_fraction=0.1,\n",
       "                                                              verbose=0,\n",
       "                                                              warm_start=False)],\n",
       "                          'model__learning_rate': [0.1, 0.5, 1.5, 0.01, 5],\n",
       "                          'model__n_estimators': [100, 200, 500, 50]}],\n",
       "             pre_dispatch='2*n_jobs', refit='neg_mean_squared_error',\n",
       "             return_train_score=False, scoring='neg_mean_squared_error',\n",
       "             verbose=0)"
      ]
     },
     "execution_count": 26,
     "metadata": {},
     "output_type": "execute_result"
    }
   ],
   "source": [
    "model.fit(data[features_to_use], target)"
   ]
  },
  {
   "cell_type": "code",
   "execution_count": 27,
   "metadata": {},
   "outputs": [
    {
     "name": "stdout",
     "output_type": "stream",
     "text": [
      "4.510165580449226\n"
     ]
    }
   ],
   "source": [
    "print(mean_squared_error(target, model.predict(data[features_to_use])))"
   ]
  },
  {
   "cell_type": "code",
   "execution_count": 28,
   "metadata": {},
   "outputs": [],
   "source": [
    "cont_data_test = pd.read_csv('../data/test/datacontinuousstudents_test.csv')"
   ]
  },
  {
   "cell_type": "code",
   "execution_count": 29,
   "metadata": {},
   "outputs": [],
   "source": [
    "test_data = cont_data_test.drop(['y','id'], axis=1)\n",
    "test_target = cont_data_test['y']"
   ]
  },
  {
   "cell_type": "code",
   "execution_count": 30,
   "metadata": {},
   "outputs": [
    {
     "data": {
      "text/plain": [
       "0     0.685760\n",
       "1    -1.290415\n",
       "2     2.300179\n",
       "3     1.147798\n",
       "4     0.523130\n",
       "5    -1.372723\n",
       "6    -3.427594\n",
       "7     1.185463\n",
       "8    -0.559505\n",
       "9     2.099727\n",
       "10   -1.169740\n",
       "11   -0.385798\n",
       "12    2.744037\n",
       "13   -0.984713\n",
       "14    1.546110\n",
       "15    2.375593\n",
       "16   -0.500991\n",
       "17   -1.335321\n",
       "18    0.588655\n",
       "19    0.078172\n",
       "20    0.618717\n",
       "21    2.715522\n",
       "22    2.438349\n",
       "23   -0.555483\n",
       "24    1.435763\n",
       "25   -1.989378\n",
       "26    2.090520\n",
       "27   -3.468630\n",
       "28    3.096441\n",
       "29    0.340357\n",
       "Name: y, dtype: float64"
      ]
     },
     "execution_count": 30,
     "metadata": {},
     "output_type": "execute_result"
    }
   ],
   "source": [
    "test_data[numerical_features + count_features] = si.transform(test_data[numerical_features + count_features])\n",
    "test_data[numerical_features] = se.transform(test_data[numerical_features])\n",
    "test_data[count_features] = mms.transform(test_data[count_features])\n",
    "test_data.fillna(test_data.median())\n",
    "test_target.fillna(test_target.median())"
   ]
  },
  {
   "cell_type": "code",
   "execution_count": 31,
   "metadata": {},
   "outputs": [
    {
     "name": "stdout",
     "output_type": "stream",
     "text": [
      "3.267342260641899\n"
     ]
    }
   ],
   "source": [
    "print(mean_squared_error(test_target, model.predict(test_data[features_to_use])))"
   ]
  },
  {
   "cell_type": "code",
   "execution_count": 32,
   "metadata": {},
   "outputs": [],
   "source": [
    "data_dict = {\"real\": test_target, \"guess\": model.predict(test_data[features_to_use])}\n",
    "results = pd.DataFrame(data_dict)"
   ]
  },
  {
   "cell_type": "code",
   "execution_count": 33,
   "metadata": {},
   "outputs": [],
   "source": [
    "results.to_csv('../validation/continua/miguel.csv')"
   ]
  },
  {
   "cell_type": "code",
   "execution_count": 34,
   "metadata": {},
   "outputs": [
    {
     "data": {
      "text/plain": [
       "Pipeline(memory=None,\n",
       "         steps=[('model',\n",
       "                 MLPRegressor(activation='relu', alpha=0.0001,\n",
       "                              batch_size='auto', beta_1=0.9, beta_2=0.999,\n",
       "                              early_stopping=False, epsilon=1e-08,\n",
       "                              hidden_layer_sizes=(3, 5, 7, 9),\n",
       "                              learning_rate='constant',\n",
       "                              learning_rate_init=0.001, max_iter=200,\n",
       "                              momentum=0.9, n_iter_no_change=10,\n",
       "                              nesterovs_momentum=True, power_t=0.5,\n",
       "                              random_state=None, shuffle=True, solver='adam',\n",
       "                              tol=0.0001, validation_fraction=0.1,\n",
       "                              verbose=False, warm_start=False))],\n",
       "         verbose=False)"
      ]
     },
     "execution_count": 34,
     "metadata": {},
     "output_type": "execute_result"
    }
   ],
   "source": [
    "model.best_estimator_ "
   ]
  }
 ],
 "metadata": {
  "kernelspec": {
   "display_name": "Python 3",
   "language": "python",
   "name": "python3"
  },
  "language_info": {
   "codemirror_mode": {
    "name": "ipython",
    "version": 3
   },
   "file_extension": ".py",
   "mimetype": "text/x-python",
   "name": "python",
   "nbconvert_exporter": "python",
   "pygments_lexer": "ipython3",
   "version": "3.7.3"
  }
 },
 "nbformat": 4,
 "nbformat_minor": 2
}
