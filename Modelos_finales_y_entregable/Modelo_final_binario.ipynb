{
 "cells": [
  {
   "cell_type": "markdown",
   "metadata": {},
   "source": [
    "# Definir archivos de lectura de datos y output "
   ]
  },
  {
   "cell_type": "code",
   "execution_count": 1,
   "metadata": {},
   "outputs": [],
   "source": [
    "data_train='input/databinarystudents.csv'\n",
    "data_test='datasetx.csv'\n",
    "nombre_output='output_binaria.csv'"
   ]
  },
  {
   "cell_type": "markdown",
   "metadata": {},
   "source": [
    "# Librerias necesarias"
   ]
  },
  {
   "cell_type": "code",
   "execution_count": 2,
   "metadata": {},
   "outputs": [],
   "source": [
    "import pandas as pd\n",
    "import numpy as np\n",
    "from sklearn.preprocessing import StandardScaler\n",
    "from sklearn.pipeline import Pipeline\n",
    "from sklearn.compose import ColumnTransformer\n",
    "from sklearn.impute import SimpleImputer\n",
    "from sklearn.linear_model import LogisticRegression"
   ]
  },
  {
   "cell_type": "markdown",
   "metadata": {},
   "source": [
    "# Lectura datos entrenamiento"
   ]
  },
  {
   "cell_type": "code",
   "execution_count": 3,
   "metadata": {},
   "outputs": [],
   "source": [
    "data=pd.read_csv(data_train)"
   ]
  },
  {
   "cell_type": "markdown",
   "metadata": {},
   "source": [
    "# Entrenamiento Modelo"
   ]
  },
  {
   "cell_type": "code",
   "execution_count": 4,
   "metadata": {},
   "outputs": [
    {
     "data": {
      "text/html": [
       "<div>\n",
       "<style scoped>\n",
       "    .dataframe tbody tr th:only-of-type {\n",
       "        vertical-align: middle;\n",
       "    }\n",
       "\n",
       "    .dataframe tbody tr th {\n",
       "        vertical-align: top;\n",
       "    }\n",
       "\n",
       "    .dataframe thead th {\n",
       "        text-align: right;\n",
       "    }\n",
       "</style>\n",
       "<table border=\"1\" class=\"dataframe\">\n",
       "  <thead>\n",
       "    <tr style=\"text-align: right;\">\n",
       "      <th></th>\n",
       "      <th>var</th>\n",
       "      <th>coef</th>\n",
       "    </tr>\n",
       "  </thead>\n",
       "  <tbody>\n",
       "    <tr>\n",
       "      <td>0</td>\n",
       "      <td>x4</td>\n",
       "      <td>-0.571804</td>\n",
       "    </tr>\n",
       "    <tr>\n",
       "      <td>1</td>\n",
       "      <td>x10</td>\n",
       "      <td>0.823720</td>\n",
       "    </tr>\n",
       "    <tr>\n",
       "      <td>2</td>\n",
       "      <td>x17</td>\n",
       "      <td>-1.889061</td>\n",
       "    </tr>\n",
       "    <tr>\n",
       "      <td>3</td>\n",
       "      <td>x18</td>\n",
       "      <td>-1.293392</td>\n",
       "    </tr>\n",
       "    <tr>\n",
       "      <td>4</td>\n",
       "      <td>x23</td>\n",
       "      <td>0.514480</td>\n",
       "    </tr>\n",
       "    <tr>\n",
       "      <td>5</td>\n",
       "      <td>x24</td>\n",
       "      <td>-0.419626</td>\n",
       "    </tr>\n",
       "    <tr>\n",
       "      <td>6</td>\n",
       "      <td>int</td>\n",
       "      <td>1.738903</td>\n",
       "    </tr>\n",
       "  </tbody>\n",
       "</table>\n",
       "</div>"
      ],
      "text/plain": [
       "   var      coef\n",
       "0   x4 -0.571804\n",
       "1  x10  0.823720\n",
       "2  x17 -1.889061\n",
       "3  x18 -1.293392\n",
       "4  x23  0.514480\n",
       "5  x24 -0.419626\n",
       "6  int  1.738903"
      ]
     },
     "execution_count": 4,
     "metadata": {},
     "output_type": "execute_result"
    }
   ],
   "source": [
    "sels=['x4', 'x10', 'x17', 'x18', 'x23', 'x24']\n",
    "X_train=data.filter(sels, axis=1)\n",
    "Y_train=data['yL']\n",
    "num_features = ['x10','x23','x24']\n",
    "num_pipeline = Pipeline([\n",
    "    ('scaler',StandardScaler()),\n",
    "    ('imputer',SimpleImputer(strategy='median'))\n",
    "    ])\n",
    "col_transformer = ColumnTransformer(transformers=[\n",
    "    ('num', num_pipeline, num_features)\n",
    "    ])\n",
    "col_transformer.fit(X_train.fillna(0))\n",
    "X_train[num_features]=col_transformer.transform(X_train.fillna(0))\n",
    "final_model = LogisticRegression(C=1, penalty='elasticnet', solver='saga',\n",
    "                                 l1_ratio=0.5, max_iter=10000, random_state=0)\n",
    "final_model.fit(X_train, Y_train)\n",
    "\n",
    "sels.append('int')\n",
    "\n",
    "pd.DataFrame({'var':np.array(sels),'coef':np.append(final_model.coef_,final_model.intercept_)})\n"
   ]
  },
  {
   "cell_type": "markdown",
   "metadata": {},
   "source": [
    "# Testeo"
   ]
  },
  {
   "cell_type": "code",
   "execution_count": 5,
   "metadata": {},
   "outputs": [],
   "source": [
    "test=pd.read_csv(data_test)\n",
    "sels=['x4', 'x10', 'x17', 'x18', 'x23', 'x24']\n",
    "test=test.filter(sels, axis=1)\n",
    "test[num_features]=col_transformer.transform(test.fillna(0))\n",
    "y_pred_test = final_model.predict_proba(test)[:,1]\n",
    "y_pred_test1 = final_model.predict(test)\n",
    "pd.DataFrame({'y_pred':y_pred_test1,'y_prob':y_pred_test}).to_csv(nombre_output)"
   ]
  }
 ],
 "metadata": {
  "kernelspec": {
   "display_name": "Python 3",
   "language": "python",
   "name": "python3"
  },
  "language_info": {
   "codemirror_mode": {
    "name": "ipython",
    "version": 3
   },
   "file_extension": ".py",
   "mimetype": "text/x-python",
   "name": "python",
   "nbconvert_exporter": "python",
   "pygments_lexer": "ipython3",
   "version": "3.7.3"
  }
 },
 "nbformat": 4,
 "nbformat_minor": 2
}
