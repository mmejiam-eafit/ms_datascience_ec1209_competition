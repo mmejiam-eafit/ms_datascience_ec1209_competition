{
 "cells": [
  {
   "cell_type": "markdown",
   "metadata": {},
   "source": [
    "# Definir archivos de lectura de datos y output "
   ]
  },
  {
   "cell_type": "code",
   "execution_count": 2,
   "metadata": {},
   "outputs": [],
   "source": [
    "data_train=\"input/datacontinuousstudents.csv\"\n",
    "data_test=\"testContinua.csv\"\n",
    "nombre_output='output_continua_GP.csv'"
   ]
  },
  {
   "cell_type": "markdown",
   "metadata": {},
   "source": [
    "# Librerias necesarias"
   ]
  },
  {
   "cell_type": "code",
   "execution_count": 3,
   "metadata": {},
   "outputs": [],
   "source": [
    "import pandas as pd\n",
    "import numpy as np\n",
    "from sklearn import gaussian_process\n",
    "from sklearn.gaussian_process.kernels import Matern, WhiteKernel, ConstantKernel\n"
   ]
  },
  {
   "cell_type": "markdown",
   "metadata": {},
   "source": [
    "# Lectura datos entrenamiento"
   ]
  },
  {
   "cell_type": "code",
   "execution_count": 4,
   "metadata": {},
   "outputs": [],
   "source": [
    "data=pd.read_csv(data_train)"
   ]
  },
  {
   "cell_type": "markdown",
   "metadata": {},
   "source": [
    "# Entrenamiento Modelo"
   ]
  },
  {
   "cell_type": "code",
   "execution_count": 10,
   "metadata": {},
   "outputs": [],
   "source": [
    "sels=['x13','x23','x31','x10','x25']\n",
    "\n",
    "def stan(df,dummies):\n",
    "    d2 = {df.columns[0]:list(df[df.columns[0]])}\n",
    "    for var in df.columns[1:]:\n",
    "        #print(var)\n",
    "        if var in dummies:\n",
    "            aux = df[var]\n",
    "        else:\n",
    "            median = np.median(df[var])\n",
    "            desv = np.std(df[var])\n",
    "            aux = df[var].apply(lambda x: (x-median)/desv)\n",
    "        d2[var] = list(aux)\n",
    "    data2 = pd.DataFrame.from_dict(d2)\n",
    "    \n",
    "    return data2\n",
    "\n",
    "dummies = ['x3','x4','x5','x6','x7','x13','x14','x15','x16','x17','x18','x19','x20','x28','x29']\n",
    "\n",
    "data2 = stan(data,dummies)\n",
    "\n",
    "X_train=data2.filter(sels, axis=1)\n",
    "Y_train=data2['y']\n",
    "\n",
    "\n",
    "kernel = ConstantKernel() + Matern(length_scale=2, nu=3/2) + WhiteKernel(noise_level=1)\n",
    "\n",
    "final_model = gaussian_process.GaussianProcessRegressor(kernel=kernel)\n",
    "final_model.fit(X_train, Y_train)\n",
    "    \n",
    "sels.append('int')\n"
   ]
  },
  {
   "cell_type": "markdown",
   "metadata": {},
   "source": [
    "# Testeo"
   ]
  },
  {
   "cell_type": "code",
   "execution_count": 13,
   "metadata": {},
   "outputs": [],
   "source": [
    "test=pd.read_csv('testContinua.csv')\n",
    "sels=['x13','x23','x31','x10','x25']\n",
    "y_pred_test, sigma = final_model.predict(test.filter(sels, axis=1), return_std=True)\n",
    "pd.DataFrame({'y_hat':y_pred_test}).to_csv(nombre_output)"
   ]
  }
 ],
 "metadata": {
  "kernelspec": {
   "display_name": "Python 3",
   "language": "python",
   "name": "python3"
  },
  "language_info": {
   "codemirror_mode": {
    "name": "ipython",
    "version": 3
   },
   "file_extension": ".py",
   "mimetype": "text/x-python",
   "name": "python",
   "nbconvert_exporter": "python",
   "pygments_lexer": "ipython3",
   "version": "3.7.3"
  }
 },
 "nbformat": 4,
 "nbformat_minor": 2
}
